{
 "cells": [
  {
   "cell_type": "markdown",
   "metadata": {},
   "source": [
    "# Pipeline\n",
    "\n",
    "## Imports"
   ]
  },
  {
   "cell_type": "code",
   "execution_count": 32,
   "metadata": {},
   "outputs": [],
   "source": [
    "import os , json , csv , datetime , dateutil.parser , unicodedata , time\n",
    "from datetime import datetime , date , timedelta \n",
    "# classifier\n",
    "import pandas as pd\n",
    "from pandas import Timestamp as timestamp\n",
    "import pickle\n",
    "import numpy as np\n",
    "from sklearn.linear_model import LogisticRegressionCV, LogisticRegression\n",
    "from sklearn.metrics import classification_report \n",
    "from sklearn.model_selection import cross_val_score, cross_val_predict\n",
    "from sklearn.feature_extraction.text import TfidfVectorizer\n",
    "\n",
    "# web scraping\n",
    "import requests\n",
    "from bs4 import BeautifulSoup\n",
    "#!pip3 install trafilatura\n",
    "import trafilatura\n",
    "from transformers import pipeline\n"
   ]
  },
  {
   "cell_type": "markdown",
   "metadata": {},
   "source": [
    "## Variables"
   ]
  },
  {
   "cell_type": "code",
   "execution_count": 33,
   "metadata": {},
   "outputs": [],
   "source": [
    "path = '../'\n",
    "\n",
    "# descriptions training set -> v2 = musow+mji descriptions vs summarized scrapes from twitter searches  \n",
    "archive_desc_training_v2 = pd.read_pickle(path+'LOGREG_RELEVANCE/TRAINING_SETS/archive_desc_training_v2.pkl')\n",
    "\n",
    "# twitter training set -> v1 = tweets from bigrams vs tweets for digital humanities and music company \n",
    "twitter_training_set_v1 = pd.read_pickle(path+'LOGREG_RELEVANCE/TRAINING_SETS/twitter_training_v1.pkl')\n",
    "\n",
    "#kw and sites to remove from url and title strings \n",
    "discard = ['youtu', '404', 'Not Found', 'bandcamp', 'ebay', 'It needs a human touch', 'Page not found', 'open.spotify.com', 'We\\'re sorry...', 'Not Acceptable!', 'Access denied', '412 Error', 'goo.gl', 'instagr.am', 'soundcloud', 'apple.co', 'amzn', 'masterstillmusic', 'Facebook', 'facebook', 'sheetmusiclibrary.website', 'Unsupported browser', 'Last.fm', 'last.fm', 'amazon', 'tidal.com', 'tmblr.co', 'blogspot', 'dailymusicroll', 'PortalTaxiMusic', 'apple.news', 'yahoo.com', 'sheetmusicplus.com', 'musicnotes.com', 'musescore.com', 'etsy', 'nts.live', 'twitch.tv', 'YouTube', 'radiosparx.com', 'freemusicarchive.org', 'blastradio', 'opensea', 'mixcloud', 'catalog.works', 'nft', 'NFT', 'allmusic.com', 'foundation.app', 'Robot or human?', 'heardle', 'insession.agency', 'jobvite', 'career', 'docs.google.com/forms/', 'discogs.com', 'zora.co', 'play.google.com', 't.me', 'mintable.app', 'instagram', 'linkedin', 'forms.gle', 'vimeo', 'radioiita', 'spotify', 'event', 'mediafire', 'noodsradio', 'pinterest', 'rakuten', 'stackoverflow', 'fiverr', 'patreon']"
   ]
  },
  {
   "cell_type": "markdown",
   "metadata": {},
   "source": [
    "## Functions"
   ]
  },
  {
   "cell_type": "code",
   "execution_count": 44,
   "metadata": {},
   "outputs": [],
   "source": [
    "def lr_training(t_input, t_feature, target, cv_int, score_type, filename, path):\n",
    "    \"\"\" Create a text classifier based on Logistic regression and TF-IDF. Use cross validation \n",
    "    \n",
    "    Parameters\n",
    "    ----------\n",
    "    t_input: list\n",
    "        dataframe including the training set\n",
    "    t_feature: list\n",
    "        df column, text of tweet or description of the resource\n",
    "    target: list\n",
    "        df column, [0,1] values\n",
    "    cv_int: int\n",
    "        the number of cross validation folding\n",
    "    score_type: str\n",
    "        precision or recall\n",
    "    filename: str\n",
    "        model file name\n",
    "    path: str\n",
    "        parent folder\n",
    "    \"\"\"\n",
    "    # TODO eda to define max_features=1000\n",
    "      \n",
    "    #count_vect = CountVectorizer()\n",
    "    #tfidf_transformer = TfidfTransformer() \n",
    "    #x_train = tfidf_transformer.fit_transform(x_count)\n",
    "    tfidf_transformer = TfidfVectorizer(ngram_range=(1, 2), lowercase=True, max_features=1000) \n",
    "    x_train = tfidf_transformer.fit_transform(t_input[t_feature])\n",
    "    y_train = t_input[target].values\n",
    "    model = LogisticRegressionCV(solver='liblinear', random_state=44, cv=cv_int, scoring=score_type)\n",
    "    \n",
    "    # export\n",
    "    model.fit(x_train, y_train)\n",
    "    export_model = f'LOGREG_RELEVANCE/MODELS/{filename}_model.pkl'\n",
    "    export_vectorizer = f'LOGREG_RELEVANCE/MODELS/{filename}_vectorizer.pkl'\n",
    "    pickle.dump(model, open(path+export_model, 'wb'))\n",
    "    pickle.dump(tfidf_transformer, open(path+export_vectorizer, 'wb'))\n",
    "    \n",
    "    # report\n",
    "    y_pred = cross_val_predict(model, x_train, y_train, cv=cv_int)\n",
    "    report = classification_report(y_train, y_pred)\n",
    "    print('report:', report, sep='\\n')\n",
    "    return model\n",
    "    \n",
    "def lr_predict(path, filename, p_input, p_feature):\n",
    "    \"\"\" Classify text using a pickled model based on Logistic regression and TF-IDF.\n",
    "    \n",
    "    Parameters\n",
    "    ----------\n",
    "    p_input: list\n",
    "        dataframe including the prediction set\n",
    "    p_feature: list\n",
    "        df column, text of tweet or description of the resource\n",
    "    filename: str\n",
    "        model file name\n",
    "    path: str\n",
    "        parent folder\n",
    "    \"\"\"\n",
    "    export_model = f'{path}LOGREG_RELEVANCE/MODELS/{filename}_model.pkl'\n",
    "    export_vectorizer = f'{path}LOGREG_RELEVANCE/MODELS/{filename}_vectorizer.pkl'\n",
    "    model = pickle.load(open(export_model, 'rb'))\n",
    "    tfidf_transformer = pickle.load(open(export_vectorizer, 'rb'))\n",
    "  \n",
    "    #result = loaded_model.score(X_test, Y_test)\n",
    "    #x_new_count = count_vect.transform(p_input[p_feature])\n",
    "    x_predict = tfidf_transformer.transform(p_input[p_feature])\n",
    "    y_predict = model.predict(x_predict)\n",
    "    scores = model.decision_function(x_predict)\n",
    "    probability = model.predict_proba(x_predict)\n",
    "    \n",
    "    #results = [r for r in y_predict]\n",
    "    result = p_input.copy()\n",
    "    result['Prediction'] = y_predict\n",
    "    result['Score'] = scores\n",
    "    result['Probability'] = probability[:,1]\n",
    "    result['Input Length'] = result[p_feature].str.len()\n",
    "    return result\n",
    "\n",
    "def create_url(keyword, start_date, end_date, max_results):\n",
    "        search_url = \"https://api.twitter.com/2/tweets/search/all\" #Change to the endpoint you want to collect data from\n",
    "        #change params based on the endpoint you are using\n",
    "        query_params = {'query': keyword,\n",
    "                        'start_time': start_date,\n",
    "                        'end_time': end_date,\n",
    "                        'max_results': max_results,\n",
    "                        'expansions': 'author_id,in_reply_to_user_id,geo.place_id',\n",
    "                        'tweet.fields': 'id,text,author_id,in_reply_to_user_id,geo,conversation_id,created_at,lang,public_metrics,referenced_tweets,reply_settings,source,entities',\n",
    "                        'user.fields': 'id,name,username,created_at,description,public_metrics,verified',\n",
    "                        'place.fields': 'full_name,id,country,country_code,geo,name,place_type',\n",
    "                        'next_token': {}}\n",
    "        return (search_url, query_params)\n",
    "    \n",
    "def connect_to_endpoint(url, headers, params, next_token = None):\n",
    "    params['next_token'] = next_token   #params object received from create_url function\n",
    "    response = requests.request(\"GET\", url, headers = headers, params = params)\n",
    "    print(\"Endpoint Response Code: \" + str(response.status_code))\n",
    "    if response.status_code != 200:\n",
    "        raise Exception(response.status_code, response.text)\n",
    "    return response.json()\n",
    " \n",
    "def append_to_csv(json_response, fileName):\n",
    "    #A counter variable\n",
    "    counter = 0\n",
    "\n",
    "    #Open OR create the target CSV file\n",
    "    csvFile = open(fileName, \"a\", newline=\"\", encoding='utf-8')\n",
    "    csvWriter = csv.writer(csvFile)\n",
    "    \n",
    "    #setup usernames via includes\n",
    "    username = {user['id']: user['username'] for user in json_response['includes']['users']}\n",
    "    \n",
    "    #Loop through each tweet\n",
    "    for tweet in json_response['data']:\n",
    "\n",
    "        # 1. Username\n",
    "        author_id = tweet['author_id']\n",
    "        user = username[author_id]\n",
    "\n",
    "        # 2. Time created\n",
    "        created_at = dateutil.parser.parse(tweet['created_at'])\n",
    "\n",
    "        # 3. Language\n",
    "        lang = tweet['lang']\n",
    "\n",
    "        # 4. Tweet metrics\n",
    "        retweet_count = tweet['public_metrics']['retweet_count']\n",
    "        reply_count = tweet['public_metrics']['reply_count']\n",
    "        like_count = tweet['public_metrics']['like_count']\n",
    "        quote_count = tweet['public_metrics']['quote_count']\n",
    "\n",
    "        #5. URLs \n",
    "        if ('entities' in tweet) and ('urls' in tweet['entities']):\n",
    "            for url in tweet['entities']['urls']:\n",
    "                url = [url['expanded_url'] for url in tweet['entities']['urls'] if 'twitter.com' not in url['expanded_url']]\n",
    "                url = ', '.join(url)\n",
    "        else:\n",
    "            url = \" \"\n",
    "        \n",
    "        #6. Tweet text\n",
    "        text = tweet['text'] \n",
    "        \n",
    "        # Assemble all data in a list\n",
    "        res = [user, created_at, lang, like_count, quote_count, reply_count, retweet_count, text, url]\n",
    "\n",
    "        # Append the result to the CSV file\n",
    "        csvWriter.writerow(res)\n",
    "        counter += 1    \n",
    "    \n",
    "    # When done, close the CSV file\n",
    "    csvFile.close()\n",
    "\n",
    "    # Print the number of tweets for this iteration\n",
    "    print(\"# of Tweets added from this response: \", counter) \n",
    "    \n",
    "def twitter_search(token, input_keywords, start, end, mresults, mcount, path='../'):\n",
    "    \n",
    "    # TODO filter tweets in english only OR tweak TF-IDF stopwords (lang detection)\n",
    "    # TODO clean tweets from @ and emoji\n",
    "    bearer_token = token\n",
    "    headers = {\"Authorization\": \"Bearer {}\".format(bearer_token)}\n",
    "    input_keywords   \n",
    "    start_list = start\n",
    "    end_list =  end\n",
    "    max_results = mresults\n",
    "    total_tweets = 0\n",
    "\n",
    "    # Create file\n",
    "    file_name = str(end[0]).replace(':','-').replace('/','-')\n",
    "    csvFile = open(f'{path}TWITTER_SEARCHES/{file_name}.csv', \"a\", newline=\"\", encoding='utf-8')\n",
    "    csvWriter = csv.writer(csvFile)\n",
    "    csvWriter.writerow(['user', 'created_at', 'lang', 'like_count', 'quote_count', 'reply_count','retweet_count','tweet', 'url'])\n",
    "    csvFile.close()\n",
    "\n",
    "    for i in range(0,len(start_list)):\n",
    "        # Inputs\n",
    "        count = 0 # Counting tweets per time period\n",
    "        max_count = mcount # Max tweets per time period\n",
    "        flag = True\n",
    "        next_token = None\n",
    "        \n",
    "        while flag:\n",
    "            # Check if max_count reached\n",
    "            if count >= max_count:\n",
    "                break\n",
    "            print(\"-------------------\")\n",
    "            print(\"Token: \", next_token)\n",
    "            for keyword in input_keywords:\n",
    "                url = create_url(keyword, start_list[i],end_list[i], max_results)\n",
    "                json_response = connect_to_endpoint(url[0], headers, url[1], next_token)\n",
    "                result_count = json_response['meta']['result_count']\n",
    "\n",
    "                if 'next_token' in json_response['meta']:\n",
    "                    # Save the token to use for next call\n",
    "                    next_token = json_response['meta']['next_token']\n",
    "                    print(\"Next Token: \", next_token)\n",
    "                    if result_count is not None and result_count > 0 and next_token is not None:\n",
    "                        print(\"Start Date: \", start_list[i])\n",
    "                        append_to_csv(json_response, f'{path}TWITTER_SEARCHES/{file_name}.csv')\n",
    "                        count += result_count\n",
    "                        total_tweets += result_count\n",
    "                        print(\"Total # of Tweets added: \", total_tweets)\n",
    "                        print(\"-------------------\")\n",
    "                        time.sleep(5)                \n",
    "                # If no next token exists\n",
    "                else:\n",
    "                    if result_count is not None and result_count > 0:\n",
    "                        print(\"-------------------\")\n",
    "                        print(\"Start Date: \", start_list[i])\n",
    "                        append_to_csv(json_response, f'{path}TWITTER_SEARCHES/{file_name}.csv')\n",
    "                        count += result_count\n",
    "                        total_tweets += result_count\n",
    "                        print(\"Total # of Tweets added: \", total_tweets)\n",
    "                        print(\"-------------------\")\n",
    "                        time.sleep(5)\n",
    "\n",
    "                    #Since this is the final request, turn flag to false to move to the next time period.\n",
    "                    flag = False\n",
    "                    next_token = None\n",
    "                time.sleep(5)\n",
    "    print(\"Total number of results: \", total_tweets)\n",
    "    \n",
    "    df = pd.read_csv(f'{path}TWITTER_SEARCHES/{file_name}.csv', keep_default_na=False, dtype={\"user\": \"string\", \"lang\": \"string\", \"tweet\": \"string\", \"url\": \"string\"})\n",
    "    \n",
    "    # clean the tweet from meentions and hashtags\n",
    "    df['tweet'].replace( { r\"@[A-Za-z0-9_]+\" : '' }, inplace= True, regex = True)\n",
    "    df['tweet'].replace( { r\"#[A-Za-z0-9_]+\" : '' }, inplace= True, regex = True)\n",
    "    \n",
    "    # remove tweets that are not in english\n",
    "    df = df[df['lang'].isin(['en'])]\n",
    "    \n",
    "    return df\n",
    "\n",
    "def scrape_links(link_list):\n",
    "    links = pd.DataFrame(columns=['Title', 'Description', 'URL'])\n",
    "    summarizer = pipeline(\"summarization\")\n",
    "    \n",
    "    for link in link_list:\n",
    "        URL = link\n",
    "        page = None\n",
    "        ARTICLE = ''\n",
    "        try:\n",
    "            x = requests.head(URL)\n",
    "            content_type = x.headers[\"Content-Type\"] if \"Content-Type\" in x.headers else \"None\"\n",
    "            if (\"text/html\" in content_type.lower()):\n",
    "                page = requests.get(URL)\n",
    "        except Exception:\n",
    "            pass\n",
    "        \n",
    "        if page:\n",
    "            soup = BeautifulSoup(page.content, \"html.parser\")\n",
    "            title = ' '.join([t.text for t in soup.find('head').find_all('title')]).strip() \\\n",
    "                if soup and soup.find('head') and soup.find('body') is not None \\\n",
    "                else URL\n",
    "            \n",
    "            try:\n",
    "                downloaded = trafilatura.fetch_url(URL)\n",
    "                ARTICLE = trafilatura.extract(downloaded, include_comments=False, include_tables=True)\n",
    "            except Exception:\n",
    "                results = soup.find_all(['h1', 'p'])\n",
    "                text = [result.text for result in results]\n",
    "                ARTICLE = ' '.join(text)\n",
    "            \n",
    "            if ARTICLE is not None and len(ARTICLE) > 200:\n",
    "                # text summarisation\n",
    "                max_chunk = 500\n",
    "                #removing special characters and replacing with end of sentence\n",
    "                ARTICLE = ARTICLE.replace('.', '.<eos>')\n",
    "                ARTICLE = ARTICLE.replace('?', '?<eos>')\n",
    "                ARTICLE = ARTICLE.replace('!', '!<eos>')\n",
    "                sentences = ARTICLE.split('<eos>')\n",
    "                current_chunk = 0 \n",
    "                chunks = []\n",
    "\n",
    "                # split text to process\n",
    "                for sentence in sentences:\n",
    "                    if len(chunks) == current_chunk + 1: \n",
    "                        if len(chunks[current_chunk]) + len(sentence.split(' ')) <= max_chunk:\n",
    "                            chunks[current_chunk].extend(sentence.split(' '))\n",
    "                        else:\n",
    "                            current_chunk += 1\n",
    "                            chunks.append(sentence.split(' '))\n",
    "                    else:\n",
    "                        chunks.append(sentence.split(' '))\n",
    "\n",
    "                for chunk_id in range(len(chunks)):\n",
    "                    chunks[chunk_id] = ' '.join(chunks[chunk_id])\n",
    "                try:\n",
    "                    res = summarizer(chunks, max_length=120, min_length=30, do_sample=False)\n",
    "                    # summary\n",
    "                    text = ' '.join([summ['summary_text'] for summ in res])\n",
    "                except Exception:\n",
    "                    text = ARTICLE\n",
    "                    continue\n",
    "            else:\n",
    "                text = ARTICLE\n",
    "            print(URL,title,'\\n',text)\n",
    "            new_row = {'Title': title, 'Description': text, 'URL': URL.strip()}\n",
    "            links = links.append(new_row, ignore_index=True)\n",
    "    return links\n"
   ]
  },
  {
   "cell_type": "markdown",
   "metadata": {},
   "source": [
    "## Training twitter and descriptions classifiers\n",
    "\n",
    "This is a ONE TIME operation. The models are pickled and loaded later to predict new results"
   ]
  },
  {
   "cell_type": "code",
   "execution_count": 45,
   "metadata": {},
   "outputs": [
    {
     "name": "stdout",
     "output_type": "stream",
     "text": [
      "report:\n",
      "              precision    recall  f1-score   support\n",
      "\n",
      "           0       0.93      0.98      0.95      4379\n",
      "           1       0.97      0.92      0.95      4379\n",
      "\n",
      "    accuracy                           0.95      8758\n",
      "   macro avg       0.95      0.95      0.95      8758\n",
      "weighted avg       0.95      0.95      0.95      8758\n",
      "\n",
      "report:\n",
      "              precision    recall  f1-score   support\n",
      "\n",
      "           0       0.94      0.91      0.93       538\n",
      "           1       0.94      0.96      0.95       786\n",
      "\n",
      "    accuracy                           0.94      1324\n",
      "   macro avg       0.94      0.94      0.94      1324\n",
      "weighted avg       0.94      0.94      0.94      1324\n",
      "\n"
     ]
    }
   ],
   "source": [
    "# one time training on twitter\n",
    "#twitter_training_model = lr_training(twitter_training_set_v1, 'tweet', 'Target', 10, 'precision', 'twitter', path)\n",
    "\n",
    "# one time training on resources\n",
    "#resource_training_model = lr_training(archive_desc_training_v2, 'Description', 'Target', 10, 'f1','resources',path)"
   ]
  },
  {
   "cell_type": "markdown",
   "metadata": {},
   "source": [
    "## Query Twitter\n",
    "\n",
    "Calls Twitter API with the list of keywords and returns the table `prediction_twitter`"
   ]
  },
  {
   "cell_type": "code",
   "execution_count": 35,
   "metadata": {},
   "outputs": [
    {
     "name": "stdout",
     "output_type": "stream",
     "text": [
      "-------------------\n",
      "Token:  None\n",
      "Endpoint Response Code: 200\n",
      "Next Token:  b26v89c19zqg8o3fpyzm912w83sgldpfb9tpxxch3vibh\n",
      "Start Date:  2022-06-01T00:00:00.000Z\n",
      "# of Tweets added from this response:  50\n",
      "Total # of Tweets added:  50\n",
      "-------------------\n",
      "Endpoint Response Code: 200\n",
      "Next Token:  b26v89c19zqg8o3fpyzm8yxvexdv4ml8a38i7w3zevzwd\n",
      "Start Date:  2022-06-01T00:00:00.000Z\n",
      "# of Tweets added from this response:  50\n",
      "Total # of Tweets added:  100\n",
      "-------------------\n",
      "Total number of results:  100\n"
     ]
    }
   ],
   "source": [
    "token = 'AAAAAAAAAAAAAAAAAAAAAJgsNAEAAAAAQcsgbUnOJJmqmU483%2F8x6n9V1i8%3Df0qaEo9cV1sWP4eyNQ6E9s8BiRjvFTSN9mSqithe8uIXSNP68x'\n",
    "\n",
    "# a selection of keywords from KEYWORDS/bg_summary.csv\n",
    "# keywords = ['sheet music','music archive','music collection','music library','black music','sound recording','midi file','early music','sound archive','music information','music history','music research','musical score','song dataset','library music','music oral','score collection','digitized score']\n",
    "keywords = ['sheet music','music archive']\n",
    "input_keywords = [k+\" -is:retweet\" for k in keywords] \n",
    "\n",
    "today = date.today()\n",
    "week_ago = today - timedelta(days=7)\n",
    "start = [week_ago.strftime(\"%Y-%m-%dT%H:%M:%S.000Z\")]\n",
    "end = [today.strftime(\"%Y-%m-%dT%H:%M:%S.000Z\")]\n",
    "\n",
    "mresults = 50 # for each keyword\n",
    "mcount = 50 # for each timespan (only one, last week, here)\n",
    "\n",
    "prediction_twitter = twitter_search(token, input_keywords, start, end, mresults, mcount, path)"
   ]
  },
  {
   "cell_type": "markdown",
   "metadata": {},
   "source": [
    "## Classify tweets"
   ]
  },
  {
   "cell_type": "code",
   "execution_count": 40,
   "metadata": {},
   "outputs": [
    {
     "data": {
      "text/html": [
       "<div>\n",
       "<style scoped>\n",
       "    .dataframe tbody tr th:only-of-type {\n",
       "        vertical-align: middle;\n",
       "    }\n",
       "\n",
       "    .dataframe tbody tr th {\n",
       "        vertical-align: top;\n",
       "    }\n",
       "\n",
       "    .dataframe thead th {\n",
       "        text-align: right;\n",
       "    }\n",
       "</style>\n",
       "<table border=\"1\" class=\"dataframe\">\n",
       "  <thead>\n",
       "    <tr style=\"text-align: right;\">\n",
       "      <th></th>\n",
       "      <th>tweet</th>\n",
       "      <th>Prediction</th>\n",
       "      <th>Score</th>\n",
       "      <th>Probability</th>\n",
       "      <th>Input Length</th>\n",
       "      <th>url</th>\n",
       "    </tr>\n",
       "  </thead>\n",
       "  <tbody>\n",
       "    <tr>\n",
       "      <th>0</th>\n",
       "      <td>Same, but then I use it to hunt down moods, t...</td>\n",
       "      <td>1</td>\n",
       "      <td>9.879258</td>\n",
       "      <td>0.999949</td>\n",
       "      <td>150</td>\n",
       "      <td></td>\n",
       "    </tr>\n",
       "    <tr>\n",
       "      <th>1</th>\n",
       "      <td>Tickets are available for a free day conferenc...</td>\n",
       "      <td>1</td>\n",
       "      <td>8.314758</td>\n",
       "      <td>0.999755</td>\n",
       "      <td>238</td>\n",
       "      <td>http://bit.ly/TradArchive</td>\n",
       "    </tr>\n",
       "    <tr>\n",
       "      <th>2</th>\n",
       "      <td>Musicians: Is there a good app that not only s...</td>\n",
       "      <td>1</td>\n",
       "      <td>7.562798</td>\n",
       "      <td>0.999481</td>\n",
       "      <td>122</td>\n",
       "      <td></td>\n",
       "    </tr>\n",
       "    <tr>\n",
       "      <th>3</th>\n",
       "      <td>Spotlighting , our Artist Collection is now av...</td>\n",
       "      <td>1</td>\n",
       "      <td>7.401332</td>\n",
       "      <td>0.999390</td>\n",
       "      <td>226</td>\n",
       "      <td></td>\n",
       "    </tr>\n",
       "    <tr>\n",
       "      <th>4</th>\n",
       "      <td>60 Must-Have Albums from 1972 for a Vinyl Coll...</td>\n",
       "      <td>1</td>\n",
       "      <td>7.032431</td>\n",
       "      <td>0.999118</td>\n",
       "      <td>86</td>\n",
       "      <td>https://bit.ly/3f1GNLr</td>\n",
       "    </tr>\n",
       "    <tr>\n",
       "      <th>...</th>\n",
       "      <td>...</td>\n",
       "      <td>...</td>\n",
       "      <td>...</td>\n",
       "      <td>...</td>\n",
       "      <td>...</td>\n",
       "      <td>...</td>\n",
       "    </tr>\n",
       "    <tr>\n",
       "      <th>128</th>\n",
       "      <td>*throws music on shuffle to fall asleep*\n",
       "\n",
       "*mos...</td>\n",
       "      <td>1</td>\n",
       "      <td>0.245210</td>\n",
       "      <td>0.560997</td>\n",
       "      <td>117</td>\n",
       "      <td></td>\n",
       "    </tr>\n",
       "    <tr>\n",
       "      <th>129</th>\n",
       "      <td>https://t.co/JlrA7jrviw THAT'S WHAT'S WRONG WI...</td>\n",
       "      <td>1</td>\n",
       "      <td>0.171323</td>\n",
       "      <td>0.542726</td>\n",
       "      <td>116</td>\n",
       "      <td>https://archive.org/details/78_thats-whats-wro...</td>\n",
       "    </tr>\n",
       "    <tr>\n",
       "      <th>130</th>\n",
       "      <td>In the ongoing series \"I'm hopeless at sheet m...</td>\n",
       "      <td>1</td>\n",
       "      <td>0.154822</td>\n",
       "      <td>0.538628</td>\n",
       "      <td>294</td>\n",
       "      <td></td>\n",
       "    </tr>\n",
       "    <tr>\n",
       "      <th>131</th>\n",
       "      <td>Babson undergrad here - this is the wrong a...</td>\n",
       "      <td>1</td>\n",
       "      <td>0.087492</td>\n",
       "      <td>0.521859</td>\n",
       "      <td>283</td>\n",
       "      <td></td>\n",
       "    </tr>\n",
       "    <tr>\n",
       "      <th>132</th>\n",
       "      <td>2022 'iHeartRadio Music Festival' Lineup Revea...</td>\n",
       "      <td>1</td>\n",
       "      <td>0.023831</td>\n",
       "      <td>0.505957</td>\n",
       "      <td>97</td>\n",
       "      <td>http://dlvr.it/SRm8z2</td>\n",
       "    </tr>\n",
       "  </tbody>\n",
       "</table>\n",
       "<p>133 rows × 6 columns</p>\n",
       "</div>"
      ],
      "text/plain": [
       "                                                 tweet  Prediction     Score  \\\n",
       "0     Same, but then I use it to hunt down moods, t...           1  9.879258   \n",
       "1    Tickets are available for a free day conferenc...           1  8.314758   \n",
       "2    Musicians: Is there a good app that not only s...           1  7.562798   \n",
       "3    Spotlighting , our Artist Collection is now av...           1  7.401332   \n",
       "4    60 Must-Have Albums from 1972 for a Vinyl Coll...           1  7.032431   \n",
       "..                                                 ...         ...       ...   \n",
       "128  *throws music on shuffle to fall asleep*\n",
       "\n",
       "*mos...           1  0.245210   \n",
       "129  https://t.co/JlrA7jrviw THAT'S WHAT'S WRONG WI...           1  0.171323   \n",
       "130  In the ongoing series \"I'm hopeless at sheet m...           1  0.154822   \n",
       "131     Babson undergrad here - this is the wrong a...           1  0.087492   \n",
       "132  2022 'iHeartRadio Music Festival' Lineup Revea...           1  0.023831   \n",
       "\n",
       "     Probability  Input Length  \\\n",
       "0       0.999949           150   \n",
       "1       0.999755           238   \n",
       "2       0.999481           122   \n",
       "3       0.999390           226   \n",
       "4       0.999118            86   \n",
       "..           ...           ...   \n",
       "128     0.560997           117   \n",
       "129     0.542726           116   \n",
       "130     0.538628           294   \n",
       "131     0.521859           283   \n",
       "132     0.505957            97   \n",
       "\n",
       "                                                   url  \n",
       "0                                                       \n",
       "1                            http://bit.ly/TradArchive  \n",
       "2                                                       \n",
       "3                                                       \n",
       "4                               https://bit.ly/3f1GNLr  \n",
       "..                                                 ...  \n",
       "128                                                     \n",
       "129  https://archive.org/details/78_thats-whats-wro...  \n",
       "130                                                     \n",
       "131                                                     \n",
       "132                              http://dlvr.it/SRm8z2  \n",
       "\n",
       "[133 rows x 6 columns]"
      ]
     },
     "execution_count": 40,
     "metadata": {},
     "output_type": "execute_result"
    }
   ],
   "source": [
    "# predictions\n",
    "twitter_predictions = lr_predict(path, 'twitter', prediction_twitter, 'tweet')\n",
    "\n",
    "tweet_predict_cv_df = twitter_predictions.copy().drop_duplicates()\n",
    "tweet_predict_cv_df = tweet_predict_cv_df.loc[tweet_predict_cv_df['Prediction'] == 1]\n",
    "tweet_predict_cv_df = tweet_predict_cv_df[~tweet_predict_cv_df.url.str.contains('|'.join(discard))]\n",
    "tweet_predict_cv_df = tweet_predict_cv_df.sort_values(by='Score', ascending=False).reset_index(drop=True)\n",
    "tweet_predict_cv_df = tweet_predict_cv_df[['tweet', 'Prediction', 'Score', 'Probability', 'Input Length', 'url']]\n",
    "tweet_predict_cv_df"
   ]
  },
  {
   "cell_type": "markdown",
   "metadata": {},
   "source": [
    "## Scrape URLS"
   ]
  },
  {
   "cell_type": "code",
   "execution_count": 41,
   "metadata": {},
   "outputs": [
    {
     "name": "stderr",
     "output_type": "stream",
     "text": [
      "No model was supplied, defaulted to sshleifer/distilbart-cnn-12-6 (https://huggingface.co/sshleifer/distilbart-cnn-12-6)\n"
     ]
    },
    {
     "name": "stdout",
     "output_type": "stream",
     "text": [
      "http://bit.ly/TradArchive Scottish Storytelling Centre \n",
      " None\n"
     ]
    },
    {
     "name": "stderr",
     "output_type": "stream",
     "text": [
      "/var/folders/d1/gjlb4c2x5qld93w00hwqj3yh0000gn/T/ipykernel_4864/745678077.py:297: FutureWarning: The frame.append method is deprecated and will be removed from pandas in a future version. Use pandas.concat instead.\n",
      "  links = links.append(new_row, ignore_index=True)\n"
     ]
    },
    {
     "name": "stdout",
     "output_type": "stream",
     "text": [
      "https://bit.ly/3f1GNLr Perceptions, Observations, & Musings of an Old Man: 60 Must-Have Albums from 1972  for a Vinyl Collection \n",
      " \n"
     ]
    },
    {
     "name": "stderr",
     "output_type": "stream",
     "text": [
      "/var/folders/d1/gjlb4c2x5qld93w00hwqj3yh0000gn/T/ipykernel_4864/745678077.py:297: FutureWarning: The frame.append method is deprecated and will be removed from pandas in a future version. Use pandas.concat instead.\n",
      "  links = links.append(new_row, ignore_index=True)\n"
     ]
    },
    {
     "name": "stdout",
     "output_type": "stream",
     "text": [
      "https://nickbob.com/2022/06/07/words-music-may-1965-launches-the-lou-reed-archive-unheard-music-marks-the-genesis-of-the-velvet-undergroundavailable-late-august/ Words & Music, May 1965 launches the Lou Reed Archive: unheard music marks the genesis of The Velvet Underground: available late August – Bucketfull Of Brains \n",
      "  Words & Music, May 1965, is the first title of the Lou Reed Archive Series . Reed was a self-taught guitarist, a shy, Long Island-bred artist who spent much of his youth seeking refuge in rock’n’roll .  Lou Reed and John Cale discovered a musical kinship with each other through the summer and fall of 1965 . The earliest known recordings of ‘Heroin’ and ‘I’m Waiting for the Man’ are among the gems on Words & Music .  Other notable selections include ‘Buttercup Song’, ‘Men of Good Fortune’ and ‘Buzz Buzz Buzz Buzz’ . Also included is a Cale-fronted edition of ‘Wrap Your Troubles in Dreams,’ which Nico recorded for her 1967 debut, Chelsea Girl .\n"
     ]
    },
    {
     "name": "stderr",
     "output_type": "stream",
     "text": [
      "/var/folders/d1/gjlb4c2x5qld93w00hwqj3yh0000gn/T/ipykernel_4864/745678077.py:297: FutureWarning: The frame.append method is deprecated and will be removed from pandas in a future version. Use pandas.concat instead.\n",
      "  links = links.append(new_row, ignore_index=True)\n"
     ]
    },
    {
     "name": "stdout",
     "output_type": "stream",
     "text": [
      "https://lugarconparlantes.com/?p=1474 \"Words & Music, May 1965\", la primera entrega de Lou Reed Archive Series - ConParlantes \n",
      "  Light in the Attic Records anounces el lanzamiento of una serie de archivo de música de Lou Reed . The material recién remasterizado se extrae de cintas grabadas by Reed antes of The Velvet Underground . El álbum inicial, 'Words & Music, May 1965», llegará el 26 de agosto .\n"
     ]
    },
    {
     "name": "stderr",
     "output_type": "stream",
     "text": [
      "/var/folders/d1/gjlb4c2x5qld93w00hwqj3yh0000gn/T/ipykernel_4864/745678077.py:297: FutureWarning: The frame.append method is deprecated and will be removed from pandas in a future version. Use pandas.concat instead.\n",
      "  links = links.append(new_row, ignore_index=True)\n"
     ]
    },
    {
     "name": "stdout",
     "output_type": "stream",
     "text": [
      "https://viinterchild.notion.site/Filler-videos-for-streaming-e2d3c27cf4c44493b30a779f9ee25b12 Notion – The all-in-one workspace for your notes, tasks, wikis, and databases. \n",
      "  @keyframes rotate {0% {-webkit-transform:rotate(0) translateZ(0); .@-mo-animation :rotate 1s linear infinite; . @keyframe: rotate; .@keyframes: rotate . @-moS: rotate. @-s: rotate, rotate.@-s. rotate .\n"
     ]
    },
    {
     "name": "stderr",
     "output_type": "stream",
     "text": [
      "/var/folders/d1/gjlb4c2x5qld93w00hwqj3yh0000gn/T/ipykernel_4864/745678077.py:297: FutureWarning: The frame.append method is deprecated and will be removed from pandas in a future version. Use pandas.concat instead.\n",
      "  links = links.append(new_row, ignore_index=True)\n"
     ]
    },
    {
     "name": "stdout",
     "output_type": "stream",
     "text": [
      "http://ballsackradio.com ballsack radio :) \n",
      "  DJ BajaBlast's Twitter account has been running since November 29, 2020 . Cassette tapes for sale SOON ! Artist - name: \"Buttcheek Broadcast (April Fools '22)\n"
     ]
    },
    {
     "name": "stderr",
     "output_type": "stream",
     "text": [
      "/var/folders/d1/gjlb4c2x5qld93w00hwqj3yh0000gn/T/ipykernel_4864/745678077.py:297: FutureWarning: The frame.append method is deprecated and will be removed from pandas in a future version. Use pandas.concat instead.\n",
      "  links = links.append(new_row, ignore_index=True)\n"
     ]
    },
    {
     "name": "stdout",
     "output_type": "stream",
     "text": [
      "https://www.newframe.com/rangoato-hlasane-salutes-kwaitos-intellectual-legacy/ Rangoato Hlasane salutes kwaito’s intellectual legacy : New Frame \n",
      "  The tale of Tsodio was an obscure tale travelling through Sepedi orature . Johannes Mokgwadi recorded it in 1974, transforming it into a song that would open it to further reinterpretation . Paulina Mphoka was the first of many to place it in the social context of her time . Joe Shirimani’s version of the tale took on a more pop feel and lost much of its traditional sound .  Sesasedi Sa Tsodio is an attempt to explore the multiple contexts that have become attached to the tale . The film is set against the backdrop of three places that contribute significantly to South Africa’s incessant hunger for migrant labour: Meadowlands, Mamelodi and Mahikeng .  Sesasedi Sa Tsodio is part of Hlasane’s PhD thesis at the University of the Witwatersrand, which explores kwaito visual culture . The film is about the unfinished business of the genre and how to honour its legacies, particularly its intellectual legacy .\n"
     ]
    },
    {
     "name": "stderr",
     "output_type": "stream",
     "text": [
      "/var/folders/d1/gjlb4c2x5qld93w00hwqj3yh0000gn/T/ipykernel_4864/745678077.py:297: FutureWarning: The frame.append method is deprecated and will be removed from pandas in a future version. Use pandas.concat instead.\n",
      "  links = links.append(new_row, ignore_index=True)\n"
     ]
    },
    {
     "name": "stdout",
     "output_type": "stream",
     "text": [
      "https://www.diamondzoc.com/collections/renaissance-chessboard-collection Renaissance Chessboard Collection – Diamondz Original Clothing \n",
      "  Hell Razah Music Inc.  and Diamondz O.C. C.  present . The Renaissance Chessboard Collection. The Renaissance chessboard Collection is a collection of clothing and accessories .\n"
     ]
    },
    {
     "name": "stderr",
     "output_type": "stream",
     "text": [
      "/var/folders/d1/gjlb4c2x5qld93w00hwqj3yh0000gn/T/ipykernel_4864/745678077.py:297: FutureWarning: The frame.append method is deprecated and will be removed from pandas in a future version. Use pandas.concat instead.\n",
      "  links = links.append(new_row, ignore_index=True)\n"
     ]
    },
    {
     "name": "stdout",
     "output_type": "stream",
     "text": [
      "http://hermitage-crabapple.amebaownd.com/pages/811095/page_201701220951 SELECTION  （J.S.Bach etc.） | Hermitage's Crab Apple - Cat.M. \n",
      " ! d o c t y p e h t m l >\n"
     ]
    },
    {
     "name": "stderr",
     "output_type": "stream",
     "text": [
      "/var/folders/d1/gjlb4c2x5qld93w00hwqj3yh0000gn/T/ipykernel_4864/745678077.py:297: FutureWarning: The frame.append method is deprecated and will be removed from pandas in a future version. Use pandas.concat instead.\n",
      "  links = links.append(new_row, ignore_index=True)\n"
     ]
    },
    {
     "name": "stdout",
     "output_type": "stream",
     "text": [
      "https://shiptoshoremedia.com/collections/scarlet-moon-records Scarlet Moon Records | Ship to Shore PhonoCo. - Ship to Shore Media \n",
      " Your Cart is Empty\n"
     ]
    },
    {
     "name": "stderr",
     "output_type": "stream",
     "text": [
      "/var/folders/d1/gjlb4c2x5qld93w00hwqj3yh0000gn/T/ipykernel_4864/745678077.py:297: FutureWarning: The frame.append method is deprecated and will be removed from pandas in a future version. Use pandas.concat instead.\n",
      "  links = links.append(new_row, ignore_index=True)\n"
     ]
    },
    {
     "name": "stdout",
     "output_type": "stream",
     "text": [
      "https://shiptoshoremedia.com/collections/scarlet-moon-records Scarlet Moon Records | Ship to Shore PhonoCo. - Ship to Shore Media \n",
      " Your Cart is Empty\n"
     ]
    },
    {
     "name": "stderr",
     "output_type": "stream",
     "text": [
      "/var/folders/d1/gjlb4c2x5qld93w00hwqj3yh0000gn/T/ipykernel_4864/745678077.py:297: FutureWarning: The frame.append method is deprecated and will be removed from pandas in a future version. Use pandas.concat instead.\n",
      "  links = links.append(new_row, ignore_index=True)\n"
     ]
    },
    {
     "name": "stdout",
     "output_type": "stream",
     "text": [
      "https://shiptoshoremedia.com/collections/scarlet-moon-records Scarlet Moon Records | Ship to Shore PhonoCo. - Ship to Shore Media \n",
      " Your Cart is Empty\n"
     ]
    },
    {
     "name": "stderr",
     "output_type": "stream",
     "text": [
      "/var/folders/d1/gjlb4c2x5qld93w00hwqj3yh0000gn/T/ipykernel_4864/745678077.py:297: FutureWarning: The frame.append method is deprecated and will be removed from pandas in a future version. Use pandas.concat instead.\n",
      "  links = links.append(new_row, ignore_index=True)\n"
     ]
    },
    {
     "name": "stdout",
     "output_type": "stream",
     "text": [
      "https://www.washingtonpost.com/dc-md-va/2022/06/05/joe-bussard-record-collector-78s/ Joe Bussard amassed thousands of 78 records over a lifetime devoted to preserving early American roots music - The Washington Post \n",
      " None\n"
     ]
    },
    {
     "name": "stderr",
     "output_type": "stream",
     "text": [
      "/var/folders/d1/gjlb4c2x5qld93w00hwqj3yh0000gn/T/ipykernel_4864/745678077.py:297: FutureWarning: The frame.append method is deprecated and will be removed from pandas in a future version. Use pandas.concat instead.\n",
      "  links = links.append(new_row, ignore_index=True)\n"
     ]
    },
    {
     "name": "stdout",
     "output_type": "stream",
     "text": [
      "https://www.redkattwreckchords.com/rk7/checagou-vol-3 Checagou, Vol. 3 — red.katt.wreck.chords \n",
      " Checagou, Vol. 3 Get the music: spotify amazon apple music iheart pandora deezer Released 2021Red.katt.wreck.chords\n"
     ]
    },
    {
     "name": "stderr",
     "output_type": "stream",
     "text": [
      "/var/folders/d1/gjlb4c2x5qld93w00hwqj3yh0000gn/T/ipykernel_4864/745678077.py:297: FutureWarning: The frame.append method is deprecated and will be removed from pandas in a future version. Use pandas.concat instead.\n",
      "  links = links.append(new_row, ignore_index=True)\n"
     ]
    },
    {
     "name": "stdout",
     "output_type": "stream",
     "text": [
      "https://archive.org/details/lp_the-traditional-music-of-beech-mountain-no_various_0 The Traditional Music Of Beech Mountain, North Carolina, Vol 1: \"The Older Ballads And Sacred Songs\" : Various : Free Download, Borrow, and Streaming : Internet Archive \n",
      "  The Farmer's Curst Wife (Child 278) and The Two Sisters (Child 10) are among the most popular children's songs . The children's version of this week's Top Five is based on the book, \"Awake, Awake\"\n"
     ]
    },
    {
     "name": "stderr",
     "output_type": "stream",
     "text": [
      "/var/folders/d1/gjlb4c2x5qld93w00hwqj3yh0000gn/T/ipykernel_4864/745678077.py:297: FutureWarning: The frame.append method is deprecated and will be removed from pandas in a future version. Use pandas.concat instead.\n",
      "  links = links.append(new_row, ignore_index=True)\n",
      "Your max_length is set to 120, but you input_length is only 26. You might consider decreasing max_length manually, e.g. summarizer('...', max_length=13)\n"
     ]
    },
    {
     "name": "stdout",
     "output_type": "stream",
     "text": [
      "http://www.largeheartedboy.com/blog/archive/2022/06/robert_mcgills.html Largehearted Boy: Robert McGill's Playlist for His Novel \"A Suitable Companion for the End of Your Life\" \n",
      "  Robert McGill's novel A Suitable Companion for the End of Your Life is a dark, speculative novel with echoes of The Handmaid’s Tale, set against the backdrop of a plague . McGill says he needed silence to fully immerse himself in the weird version of reality he was creating .  Gordon Lightfoot’s “If You Could Read My Mind” is the only song on this list that gets a shout-out in A Suitable Companion . Regina Spektor's “Better” explores how, as adults, we look to intimate relationships to help fix us and others .  Robert McGill's novel, A Suitable Companion, is inspired by the songs of Belle and Sebastian and Mor Mor MorMor . McGill says the songs inspired his novel's opening scenario, in which Regan condemns herself to living out her final days while sealed in her house, felt more relevant to contemporary life than I ever expected .  Largehearted Boy is the work that goes into largehearted Boy . Please consider making a donation to help keep the story alive . We are happy to feature some of the best photos of the day .\n"
     ]
    },
    {
     "name": "stderr",
     "output_type": "stream",
     "text": [
      "/var/folders/d1/gjlb4c2x5qld93w00hwqj3yh0000gn/T/ipykernel_4864/745678077.py:297: FutureWarning: The frame.append method is deprecated and will be removed from pandas in a future version. Use pandas.concat instead.\n",
      "  links = links.append(new_row, ignore_index=True)\n"
     ]
    },
    {
     "name": "stdout",
     "output_type": "stream",
     "text": [
      "http://www.resident-music.com/productdetails&product_id=90983 steps - platinum collection - resident \n",
      "  25 years of Steps hits come together on one package to celebrate the band’s incredible success . Includes all their career highlights plus two brand-new tracks recorded exclusively for this release .\n"
     ]
    },
    {
     "name": "stderr",
     "output_type": "stream",
     "text": [
      "/var/folders/d1/gjlb4c2x5qld93w00hwqj3yh0000gn/T/ipykernel_4864/745678077.py:297: FutureWarning: The frame.append method is deprecated and will be removed from pandas in a future version. Use pandas.concat instead.\n",
      "  links = links.append(new_row, ignore_index=True)\n"
     ]
    },
    {
     "name": "stdout",
     "output_type": "stream",
     "text": [
      "https://www.mymediaalexa.com My Media for Amazon Alexa \n",
      "  My Media for Alexa installs a tiny media server on your computer that integrates with the ease and power of Amazon Alexa to give you voice control over your media collection . My Media lets you stream your music collection to your Amazon Echo or Amazon Dot without having to upload all your collection to the Cloud . This keeps your music under your control .  The Sonos One does not currently support all the Audio Player API interfaces that My Media for Alexa requires . Alexa streams your music from your music library therefore your computer must be on whilst you play your music .  Amazon does not officially provide access to third party skills to fully support Alexa multi-room commands . However, click here for a workaround that enables multiroom in a different way . You make a single payment to use the My Media for Alexa app for a year .\n"
     ]
    },
    {
     "name": "stderr",
     "output_type": "stream",
     "text": [
      "/var/folders/d1/gjlb4c2x5qld93w00hwqj3yh0000gn/T/ipykernel_4864/745678077.py:297: FutureWarning: The frame.append method is deprecated and will be removed from pandas in a future version. Use pandas.concat instead.\n",
      "  links = links.append(new_row, ignore_index=True)\n",
      "Your max_length is set to 120, but you input_length is only 67. You might consider decreasing max_length manually, e.g. summarizer('...', max_length=33)\n"
     ]
    },
    {
     "name": "stdout",
     "output_type": "stream",
     "text": [
      "https://lttr.ai/xzV9 Emma Peterson Releases Her Debut Album \"Just For The Record\" \n",
      "  Emma Peterson's new album Just For The Record is a collection of 6 songs . Peterson is from Winnipegosis, Manitoba . The 6 song set is a party anthem for anyone with small town roots .  Emma Peterson's debut album, Just For The Record, is a pop-country collection of engaging, crowd-pleasing songs from an up-and-coming talent . Peterson is no stranger to the Canadian country music scene, having accumulated multiple Manitoba Country Music Award nominations, including a win in the Emerging Artist category .  A day without music is a waste of day, he believes, and can usually be found cranking some of his favourite Canadian artists like James Barker Band, Madeline Merlo, and Brett Kissel .\n"
     ]
    },
    {
     "name": "stderr",
     "output_type": "stream",
     "text": [
      "/var/folders/d1/gjlb4c2x5qld93w00hwqj3yh0000gn/T/ipykernel_4864/745678077.py:297: FutureWarning: The frame.append method is deprecated and will be removed from pandas in a future version. Use pandas.concat instead.\n",
      "  links = links.append(new_row, ignore_index=True)\n"
     ]
    },
    {
     "name": "stdout",
     "output_type": "stream",
     "text": [
      "http://dlvr.it/SRmcYx Alexa Morris Rises To VP At Warner Chappell Music \n",
      "  Alexa Morris Rises To VP At Warner Chappell Music . Her duties involve drafting and negotiating publishing and administration agreements, joint ventures and catalog acquisitions .\n"
     ]
    },
    {
     "name": "stderr",
     "output_type": "stream",
     "text": [
      "/var/folders/d1/gjlb4c2x5qld93w00hwqj3yh0000gn/T/ipykernel_4864/745678077.py:297: FutureWarning: The frame.append method is deprecated and will be removed from pandas in a future version. Use pandas.concat instead.\n",
      "  links = links.append(new_row, ignore_index=True)\n"
     ]
    },
    {
     "name": "stdout",
     "output_type": "stream",
     "text": [
      "https://www.washingtonpost.com/dc-md-va/2022/06/05/joe-bussard-record-collector-78s/?tid=ss_tw Joe Bussard amassed thousands of 78 records over a lifetime devoted to preserving early American roots music - The Washington Post \n",
      " None\n"
     ]
    },
    {
     "name": "stderr",
     "output_type": "stream",
     "text": [
      "/var/folders/d1/gjlb4c2x5qld93w00hwqj3yh0000gn/T/ipykernel_4864/745678077.py:297: FutureWarning: The frame.append method is deprecated and will be removed from pandas in a future version. Use pandas.concat instead.\n",
      "  links = links.append(new_row, ignore_index=True)\n"
     ]
    },
    {
     "name": "stdout",
     "output_type": "stream",
     "text": [
      "http://www.largeheartedboy.com/blog/archive/2022/06/shorties_an_exc_113.html Largehearted Boy: Shorties (An Excerpt from Saeed Jones' Forthcoming Collection, A Conversation Between Jeff Tweedy and Terry Allen, and more) \n",
      "  The Oxford American shared an excerpt from Saeed Jones' poetry collection Alive at the End of the World . Texas Monthly shared a conversation between Jeff Tweedy and Terry Allen . The Current listed the best songs of 2022 so far .\n"
     ]
    },
    {
     "name": "stderr",
     "output_type": "stream",
     "text": [
      "/var/folders/d1/gjlb4c2x5qld93w00hwqj3yh0000gn/T/ipykernel_4864/745678077.py:297: FutureWarning: The frame.append method is deprecated and will be removed from pandas in a future version. Use pandas.concat instead.\n",
      "  links = links.append(new_row, ignore_index=True)\n"
     ]
    },
    {
     "name": "stdout",
     "output_type": "stream",
     "text": [
      "http://eepurl.com/h3RcRf Black Diamond Film & Music Festival June 17th - 19th @ Crescent Cultural Center \n",
      " None\n"
     ]
    },
    {
     "name": "stderr",
     "output_type": "stream",
     "text": [
      "/var/folders/d1/gjlb4c2x5qld93w00hwqj3yh0000gn/T/ipykernel_4864/745678077.py:297: FutureWarning: The frame.append method is deprecated and will be removed from pandas in a future version. Use pandas.concat instead.\n",
      "  links = links.append(new_row, ignore_index=True)\n"
     ]
    },
    {
     "name": "stdout",
     "output_type": "stream",
     "text": [
      "http://dlvr.it/SRmXZ5 Alexa Morris Rises To VP At Warner Chappell Music \n",
      "  Alexa Morris Rises To VP At Warner Chappell Music . Her duties involve drafting and negotiating publishing and administration agreements, joint ventures and catalog acquisitions .\n"
     ]
    },
    {
     "name": "stderr",
     "output_type": "stream",
     "text": [
      "/var/folders/d1/gjlb4c2x5qld93w00hwqj3yh0000gn/T/ipykernel_4864/745678077.py:297: FutureWarning: The frame.append method is deprecated and will be removed from pandas in a future version. Use pandas.concat instead.\n",
      "  links = links.append(new_row, ignore_index=True)\n",
      "Your max_length is set to 120, but you input_length is only 86. You might consider decreasing max_length manually, e.g. summarizer('...', max_length=43)\n"
     ]
    },
    {
     "name": "stdout",
     "output_type": "stream",
     "text": [
      "http://dlvr.it/SRlnrt Anuel AA, the King of Latin Trap Music, Launches a New NFT Collection - KAZI MAGAZINE \n",
      "  Anuel AA, the Puerto Rican rapper and singer who’s often credited with popularizing the Latin trap subgenre, has launched a new collection of NFTs . The move is indicative of an emerging trend in which musicians are using blockchain technology to monetize their work .  His NFT collection’s launch will coincide with his next world tour, where Anuel hopes to meet more fans globally . His dream is to inspire more people to remain true to themselves, chasing after their dreams .\n"
     ]
    },
    {
     "name": "stderr",
     "output_type": "stream",
     "text": [
      "/var/folders/d1/gjlb4c2x5qld93w00hwqj3yh0000gn/T/ipykernel_4864/745678077.py:297: FutureWarning: The frame.append method is deprecated and will be removed from pandas in a future version. Use pandas.concat instead.\n",
      "  links = links.append(new_row, ignore_index=True)\n"
     ]
    },
    {
     "name": "stdout",
     "output_type": "stream",
     "text": [
      "http://www.cetvphilippines.com/moira-dela-torre-angela-ken-bini-and-bgyos-songs-to-send-to-the-moon-in-2023/ Moira Dela Torre, Angela Ken, BINI, and BGYO’s songs to send to the moon in 2023 – CETV Philippines \n",
      "  Moira Dela Torre, Angela Ken, BINI and BGYO’s music will be sent to the moon in 2023 as part of the Lunar Codex . The Lunar Codex is an archive of art, literature, music, and film bound for the Moon .\n"
     ]
    },
    {
     "name": "stderr",
     "output_type": "stream",
     "text": [
      "/var/folders/d1/gjlb4c2x5qld93w00hwqj3yh0000gn/T/ipykernel_4864/745678077.py:297: FutureWarning: The frame.append method is deprecated and will be removed from pandas in a future version. Use pandas.concat instead.\n",
      "  links = links.append(new_row, ignore_index=True)\n",
      "Your max_length is set to 120, but you input_length is only 91. You might consider decreasing max_length manually, e.g. summarizer('...', max_length=45)\n"
     ]
    },
    {
     "name": "stdout",
     "output_type": "stream",
     "text": [
      "https://archive.org/details/dmst2007-05-15 Do Make Say Think Live at The Music Box on 2007-05-15 : Free Download, Borrow, and Streaming : Internet Archive \n",
      "  Due to a planned power outage on Friday, 1/14, between 8am-1pm PST, some services may be impacted . The outage is scheduled for 8am to 1pm PST .\n"
     ]
    },
    {
     "name": "stderr",
     "output_type": "stream",
     "text": [
      "/var/folders/d1/gjlb4c2x5qld93w00hwqj3yh0000gn/T/ipykernel_4864/745678077.py:297: FutureWarning: The frame.append method is deprecated and will be removed from pandas in a future version. Use pandas.concat instead.\n",
      "  links = links.append(new_row, ignore_index=True)\n"
     ]
    },
    {
     "name": "stdout",
     "output_type": "stream",
     "text": [
      "https://archive.org/details/78_lover-boy_sherry-parsons-lewis-scott-joe-leahy_gbia0284409b LOVER BOY : SHERRY PARSONS : Free Download, Borrow, and Streaming : Internet Archive \n",
      "  Four stylii were used to transfer this record . The preferred versions suggested by an audio engineer at George Blood, L. P. have been copied to have the more friendly filenames .\n"
     ]
    },
    {
     "name": "stderr",
     "output_type": "stream",
     "text": [
      "/var/folders/d1/gjlb4c2x5qld93w00hwqj3yh0000gn/T/ipykernel_4864/745678077.py:297: FutureWarning: The frame.append method is deprecated and will be removed from pandas in a future version. Use pandas.concat instead.\n",
      "  links = links.append(new_row, ignore_index=True)\n",
      "Your max_length is set to 120, but you input_length is only 28. You might consider decreasing max_length manually, e.g. summarizer('...', max_length=14)\n"
     ]
    },
    {
     "name": "stdout",
     "output_type": "stream",
     "text": [
      "https://bit.ly/3x2eKVN Lunchtime Vocal & Piano Recital  ft. Harshita Parekh &  Nathan Stubbings Tickets, Wed 15 Jun 2022 at 12:30 | Eventbrite \n",
      "  Lunchtime Vocal & Piano Recital ft.  Harshita Parekh & Nathan Stubbings (voice) for a free lunchtime recital .  Advanced booking is advised, but a limited number of spaces will be available to walk up on the day . There will be no rush to book ahead of the event, but there will be plenty of places for walk-ups .\n"
     ]
    },
    {
     "name": "stderr",
     "output_type": "stream",
     "text": [
      "/var/folders/d1/gjlb4c2x5qld93w00hwqj3yh0000gn/T/ipykernel_4864/745678077.py:297: FutureWarning: The frame.append method is deprecated and will be removed from pandas in a future version. Use pandas.concat instead.\n",
      "  links = links.append(new_row, ignore_index=True)\n"
     ]
    },
    {
     "name": "stdout",
     "output_type": "stream",
     "text": [
      "https://dcpla.ie/3zmtBc8 eResources | Dublin City Council \n",
      "  Through Dublin City Libraries you can access a wide variety of online resources such as ebooks, databases, archives, dictionaries, publications and music collections . Some of these online resources are only available in branches, but lots can be accessed wherever you may be with your library card . As part of your membership, you can also avail of online courses .  Free music and art instruction through self-paced video lessons from Grammy Award-winning music and artistic professionals . Free access to both beginner and advanced lessons for instruments, voice, art and music theory .  Dublin City Council Digital Repository features photographs, postcards, letters, maps and ephemeral material . Traffic jams during the 1974 CIE Bus Strikes, and jubilant Heffo’s army supporters are among 43,000 historic photographs and documents that are freely available online .  If your barcode begins TEMP, visit your local library to upgrade to full membership . Free online IELTS preparation course includes over 300 interactive activities, 17 videos giving advice and tutorials, 36 practice tests . View over 1.3 million Church records of Baptism, Marriage and Death free of charge .  View, search and retrieve the entire Irish Times Digital Archive from the first edition of 1859 to the present (except for the last 7 days) The Ireland Collection contains titles and resources across the arts, humanities, and sciences in disciplines such as music, art, history, literature, archaeology, mathematics, and biology .  The world's leading classical music channel features an extensive selection of concerts, operas, ballets, documentaries and master classes . Microsoft Imagine Academy offers training in Microsoft Office suite of programs such as Word, Excel, PowerPoint and Outlook .  The most authoritative and comprehensive record of the English language in the world, tracing the evolution and use of words . Oxford Reference spans 25 different subject areas, bringing together 2 million digitised entries across Oxford University Press’s Dictionaries, Companions and Encyclopedias . With over 60,000 articles written by over 6,000 music scholars, Grove Music Online is the authoritative resource .  The Irish Examiner is available when you access PressReader using the Wi-Fi in any public library and you can retain access by using the app . You don't need to login when in a library, but you may choose to do so to save material to your account . Explore scientific, technical, and medical research on ScienceDirect . TeenBookCloud is an online computer course aimed at readers 11-18 .  TumbleBookLibrary is a curated database of over 1,100 children’s e-books . Universal Class offers a unique online education experience .  The World Book Online Encyclopedia is a reference website for primary school students . It features an intuitive user interface and thousands of easy-to-read articles packed with illustrations, videos, interactive maps and engaging games and activities .\n"
     ]
    },
    {
     "name": "stderr",
     "output_type": "stream",
     "text": [
      "/var/folders/d1/gjlb4c2x5qld93w00hwqj3yh0000gn/T/ipykernel_4864/745678077.py:297: FutureWarning: The frame.append method is deprecated and will be removed from pandas in a future version. Use pandas.concat instead.\n",
      "  links = links.append(new_row, ignore_index=True)\n"
     ]
    },
    {
     "name": "stdout",
     "output_type": "stream",
     "text": [
      "https://archive.org/details/78_looks-like-the-jokes-on-me_jaye-pace-eddy-wilson-leo-lefleur-herman-stein_gbia0284412b LOOKS LIKE THE JOKE'S ON ME : JAYE PACE : Free Download, Borrow, and Streaming : Internet Archive \n",
      "  Four stylii were used to transfer this record . The preferred versions suggested by an audio engineer at George Blood, L. P. have been copied to have the more friendly filenames .\n"
     ]
    },
    {
     "name": "stderr",
     "output_type": "stream",
     "text": [
      "/var/folders/d1/gjlb4c2x5qld93w00hwqj3yh0000gn/T/ipykernel_4864/745678077.py:297: FutureWarning: The frame.append method is deprecated and will be removed from pandas in a future version. Use pandas.concat instead.\n",
      "  links = links.append(new_row, ignore_index=True)\n",
      "Your max_length is set to 120, but you input_length is only 68. You might consider decreasing max_length manually, e.g. summarizer('...', max_length=34)\n"
     ]
    },
    {
     "name": "stdout",
     "output_type": "stream",
     "text": [
      "https://www.aweber.com/b/O_HCM Discovered Insider brings you the best videos from Emerging Creators \n",
      "  Yung Martez is a buzzing new artist out of Houston, Texas ready to explode from the streets to the charts in 2022 . Check out this official music video for ‘Angels’ from is latest album release ELEVATION . The Art of Ratchet is a Texas super group consisting of Mr. Rack Daddy and Dallas legend himself himself FAT Pimp .  APEX Legends highlights from around the world!                 |.                |                |          Ś��            :Jumpmaster Episode 9.                :                |                |                :                             ‚�Ś™: Pundits: Jumpmaster: “Criminals”, ‚”; ‚�‚’s “’�s”: ‘’; ‘Crimins’: �\n"
     ]
    },
    {
     "name": "stderr",
     "output_type": "stream",
     "text": [
      "/var/folders/d1/gjlb4c2x5qld93w00hwqj3yh0000gn/T/ipykernel_4864/745678077.py:297: FutureWarning: The frame.append method is deprecated and will be removed from pandas in a future version. Use pandas.concat instead.\n",
      "  links = links.append(new_row, ignore_index=True)\n"
     ]
    },
    {
     "name": "stdout",
     "output_type": "stream",
     "text": [
      "https://archive.org/details/muscletough2022-06-04.cmc65xt.sbd.matrix.flac24 Muscle Tough Live at Park City Music Hall on 2022-06-04 : Free Download, Borrow, and Streaming : Internet Archive \n",
      "  The normal 16 bit CD quality version of this show is available for download/CD burning . This is a 24 bit record, NOT intended for CD burning . Muscle Tough opened for DJ Logic & Friends .\n"
     ]
    },
    {
     "name": "stderr",
     "output_type": "stream",
     "text": [
      "/var/folders/d1/gjlb4c2x5qld93w00hwqj3yh0000gn/T/ipykernel_4864/745678077.py:297: FutureWarning: The frame.append method is deprecated and will be removed from pandas in a future version. Use pandas.concat instead.\n",
      "  links = links.append(new_row, ignore_index=True)\n"
     ]
    },
    {
     "name": "stdout",
     "output_type": "stream",
     "text": [
      "https://archive.org/details/muscletough2022-06-04.cmc65xt.sbd.matrix.flac16 Muscle Tough Live at Park City Music Hall on 2022-06-04 : Free Download, Borrow, and Streaming : Internet Archive \n",
      "  Muscle Tough recorded, edited and mixed by Eric McRoberts 06/06-07/2022 - FOH mix by Eric DiBerardino . Set one: Bummer Boys, Bread Dread and Future Suture Selfie .\n"
     ]
    },
    {
     "name": "stderr",
     "output_type": "stream",
     "text": [
      "/var/folders/d1/gjlb4c2x5qld93w00hwqj3yh0000gn/T/ipykernel_4864/745678077.py:297: FutureWarning: The frame.append method is deprecated and will be removed from pandas in a future version. Use pandas.concat instead.\n",
      "  links = links.append(new_row, ignore_index=True)\n"
     ]
    },
    {
     "name": "stdout",
     "output_type": "stream",
     "text": [
      "https://rekkerd.org/save-50-on-passages-lofi-melodies-analog-one-shots-hazel-by-waxie-music-library/ Save 50% on Passages Lofi Melodies, Analog One Shots & Hazel by Waxie Music Library \n",
      "  Prime Loops has launched a limited time promotion on a selection of Waxie Music Library sample packs . Geared towards Lofi, Chill Hop, Ambient, Boom Bap, and Trap beats, Waxie Vol. 1 – Passages contains 12 original compositions .\n"
     ]
    },
    {
     "name": "stderr",
     "output_type": "stream",
     "text": [
      "/var/folders/d1/gjlb4c2x5qld93w00hwqj3yh0000gn/T/ipykernel_4864/745678077.py:297: FutureWarning: The frame.append method is deprecated and will be removed from pandas in a future version. Use pandas.concat instead.\n",
      "  links = links.append(new_row, ignore_index=True)\n",
      "Your max_length is set to 120, but you input_length is only 95. You might consider decreasing max_length manually, e.g. summarizer('...', max_length=47)\n"
     ]
    },
    {
     "name": "stdout",
     "output_type": "stream",
     "text": [
      "https://www.popsike.com/Music-For-Advertising-Joan-John-Shakespeare-Private-Demo-Library-1st-UK-LP-60s/312095070017.html popsike.com - Login - vinyl records price guide \n",
      "  You first have to click on this link in order to validate your registration . Did you enter a valid email-address when registering ?  Maybe the email landed in your Spam- folder ?  Are you using the correct username/password ? Username and password are CaSe SeNsItIvE !\n"
     ]
    },
    {
     "name": "stderr",
     "output_type": "stream",
     "text": [
      "/var/folders/d1/gjlb4c2x5qld93w00hwqj3yh0000gn/T/ipykernel_4864/745678077.py:297: FutureWarning: The frame.append method is deprecated and will be removed from pandas in a future version. Use pandas.concat instead.\n",
      "  links = links.append(new_row, ignore_index=True)\n"
     ]
    },
    {
     "name": "stdout",
     "output_type": "stream",
     "text": [
      "https://www.allaccess.com/story/218859 2022 'iHeartRadio Music Festival' Lineup Revealed \n",
      "  The two-day Main Stage will feature AVRIL LAVIGNE, BLACK EYED PEAS, HALSEY, LL COOL J FEAT, DJ Z-TRIP, LUKE COMBS, MAREN MORRIS, MEGAN THEE STALLION, MORGAN WALLEN, NICKI MINAJ, PAT BENATAR & NEIL GIRALDO, SAM SMITH, THE BLACK KEYS and more . The event at LAS VEGAS' T-MOBILE ARENA will be hosted by R\n"
     ]
    },
    {
     "name": "stderr",
     "output_type": "stream",
     "text": [
      "/var/folders/d1/gjlb4c2x5qld93w00hwqj3yh0000gn/T/ipykernel_4864/745678077.py:297: FutureWarning: The frame.append method is deprecated and will be removed from pandas in a future version. Use pandas.concat instead.\n",
      "  links = links.append(new_row, ignore_index=True)\n",
      "Your max_length is set to 120, but you input_length is only 116. You might consider decreasing max_length manually, e.g. summarizer('...', max_length=58)\n"
     ]
    },
    {
     "name": "stdout",
     "output_type": "stream",
     "text": [
      "http://eepurl.com/h3Nj5z Looking for New Age Music for Cable TV Show Placements! \n",
      "  New Age music for multiple cable TV shows . Can be either songs with vocals or instrumentals . Vocals must be clean!  We have placed hundreds of songs on multiple reality TV shows and they're always looking for more .\n"
     ]
    },
    {
     "name": "stderr",
     "output_type": "stream",
     "text": [
      "/var/folders/d1/gjlb4c2x5qld93w00hwqj3yh0000gn/T/ipykernel_4864/745678077.py:297: FutureWarning: The frame.append method is deprecated and will be removed from pandas in a future version. Use pandas.concat instead.\n",
      "  links = links.append(new_row, ignore_index=True)\n"
     ]
    },
    {
     "name": "stdout",
     "output_type": "stream",
     "text": [
      "http://dlvr.it/SRn7lx Endurance Music Group Re-Signs Songwriter/Artist Jake Rose \n",
      "  Endurance Music Group Re-Signs Songwriter/Artist Jake Rose . Jake Rose has penned recent singles and cuts by JIMMIE ALLEN, FLORIDA GEORGIA LINE, BRIAN KELLEY, BLAKE SHELTON and more .\n"
     ]
    },
    {
     "name": "stderr",
     "output_type": "stream",
     "text": [
      "/var/folders/d1/gjlb4c2x5qld93w00hwqj3yh0000gn/T/ipykernel_4864/745678077.py:297: FutureWarning: The frame.append method is deprecated and will be removed from pandas in a future version. Use pandas.concat instead.\n",
      "  links = links.append(new_row, ignore_index=True)\n"
     ]
    },
    {
     "name": "stdout",
     "output_type": "stream",
     "text": [
      "http://dlvr.it/SRn4l8 Endurance Music Group Re-Signs Songwriter/Artist Jake Rose \n",
      "  Endurance Music Group Re-Signs Songwriter/Artist Jake Rose . Jake Rose has penned recent singles and cuts by JIMMIE ALLEN, FLORIDA GEORGIA LINE, BRIAN KELLEY, BLAKE SHELTON and more .\n"
     ]
    },
    {
     "name": "stderr",
     "output_type": "stream",
     "text": [
      "/var/folders/d1/gjlb4c2x5qld93w00hwqj3yh0000gn/T/ipykernel_4864/745678077.py:297: FutureWarning: The frame.append method is deprecated and will be removed from pandas in a future version. Use pandas.concat instead.\n",
      "  links = links.append(new_row, ignore_index=True)\n",
      "Your max_length is set to 120, but you input_length is only 99. You might consider decreasing max_length manually, e.g. summarizer('...', max_length=49)\n"
     ]
    },
    {
     "name": "stdout",
     "output_type": "stream",
     "text": [
      "https://wavefarm.org/wf/archive/yvjqh0 Wave Farm | Ginger Radio Hour: Kelefa Sanneh \n",
      "  Host Justin Maiman, from Cairo, shares his latest inspirations on the \"Ginger Radio Hour\" The show features music, field recordings, performances, and interviews, primarily with people in and around the Catskill Mountains of New York . This week, an all-music hour features tracks inspired by book \"Major Labels: A History of Popular Music in Seven Genres\"\n"
     ]
    },
    {
     "name": "stderr",
     "output_type": "stream",
     "text": [
      "/var/folders/d1/gjlb4c2x5qld93w00hwqj3yh0000gn/T/ipykernel_4864/745678077.py:297: FutureWarning: The frame.append method is deprecated and will be removed from pandas in a future version. Use pandas.concat instead.\n",
      "  links = links.append(new_row, ignore_index=True)\n"
     ]
    },
    {
     "name": "stdout",
     "output_type": "stream",
     "text": [
      "https://archive.org/details/78_thats-whats-wrong-with-jimmy_sherry-parsons-carr-david-joe-leahy_gbia0284409a THAT'S WHAT'S WRONG WITH JIMMY : SHERRY PARSONS : Free Download, Borrow, and Streaming : Internet Archive \n",
      "  Four stylii were used to transfer this record . The preferred versions suggested by an audio engineer at George Blood, L. P. have been copied to have the more friendly filenames .\n"
     ]
    },
    {
     "name": "stderr",
     "output_type": "stream",
     "text": [
      "/var/folders/d1/gjlb4c2x5qld93w00hwqj3yh0000gn/T/ipykernel_4864/745678077.py:297: FutureWarning: The frame.append method is deprecated and will be removed from pandas in a future version. Use pandas.concat instead.\n",
      "  links = links.append(new_row, ignore_index=True)\n"
     ]
    },
    {
     "name": "stdout",
     "output_type": "stream",
     "text": [
      "http://dlvr.it/SRm8z2 2022 'iHeartRadio Music Festival' Lineup Revealed \n",
      "  The two-day Main Stage will feature AVRIL LAVIGNE, BLACK EYED PEAS, HALSEY, LL COOL J FEAT, DJ Z-TRIP, LUKE COMBS, MAREN MORRIS, MEGAN THEE STALLION, MORGAN WALLEN, NICKI MINAJ, PAT BENATAR & NEIL GIRALDO, SAM SMITH, THE BLACK KEYS and more . The event at LAS VEGAS' T-MOBILE ARENA will be hosted by R\n"
     ]
    },
    {
     "name": "stderr",
     "output_type": "stream",
     "text": [
      "/var/folders/d1/gjlb4c2x5qld93w00hwqj3yh0000gn/T/ipykernel_4864/745678077.py:297: FutureWarning: The frame.append method is deprecated and will be removed from pandas in a future version. Use pandas.concat instead.\n",
      "  links = links.append(new_row, ignore_index=True)\n"
     ]
    }
   ],
   "source": [
    "# get links from positive tweets results\n",
    "twitter_link_list = [link for link in tweet_predict_cv_df['url'] if 'twitter' not in link]\n",
    "\n",
    "# scrape URL list\n",
    "links_to_add = scrape_links(twitter_link_list)\n",
    "\n",
    "# remove empty descriptions \n",
    "links_to_add = links_to_add.fillna('None')\n",
    "links_to_add = links_to_add[links_to_add.Description != '']\n",
    "links_to_add = links_to_add[links_to_add.Description != 'None'].reset_index(drop=True)"
   ]
  },
  {
   "cell_type": "markdown",
   "metadata": {},
   "source": [
    "## Classify web resources"
   ]
  },
  {
   "cell_type": "code",
   "execution_count": 42,
   "metadata": {},
   "outputs": [
    {
     "data": {
      "text/html": [
       "<div>\n",
       "<style scoped>\n",
       "    .dataframe tbody tr th:only-of-type {\n",
       "        vertical-align: middle;\n",
       "    }\n",
       "\n",
       "    .dataframe tbody tr th {\n",
       "        vertical-align: top;\n",
       "    }\n",
       "\n",
       "    .dataframe thead th {\n",
       "        text-align: right;\n",
       "    }\n",
       "</style>\n",
       "<table border=\"1\" class=\"dataframe\">\n",
       "  <thead>\n",
       "    <tr style=\"text-align: right;\">\n",
       "      <th></th>\n",
       "      <th>Title</th>\n",
       "      <th>Description</th>\n",
       "      <th>URL</th>\n",
       "      <th>Prediction</th>\n",
       "      <th>Score</th>\n",
       "      <th>Probability</th>\n",
       "      <th>Input Length</th>\n",
       "    </tr>\n",
       "  </thead>\n",
       "  <tbody>\n",
       "    <tr>\n",
       "      <th>0</th>\n",
       "      <td>Renaissance Chessboard Collection – Diamondz O...</td>\n",
       "      <td>Hell Razah Music Inc.  and Diamondz O.C. C.  ...</td>\n",
       "      <td>https://www.diamondzoc.com/collections/renaiss...</td>\n",
       "      <td>1</td>\n",
       "      <td>6.514313</td>\n",
       "      <td>0.998520</td>\n",
       "      <td>178</td>\n",
       "    </tr>\n",
       "    <tr>\n",
       "      <th>1</th>\n",
       "      <td>Notion – The all-in-one workspace for your not...</td>\n",
       "      <td>@keyframes rotate {0% {-webkit-transform:rota...</td>\n",
       "      <td>https://viinterchild.notion.site/Filler-videos...</td>\n",
       "      <td>1</td>\n",
       "      <td>4.383168</td>\n",
       "      <td>0.987668</td>\n",
       "      <td>202</td>\n",
       "    </tr>\n",
       "    <tr>\n",
       "      <th>2</th>\n",
       "      <td>SELECTION  （J.S.Bach etc.） | Hermitage's Crab ...</td>\n",
       "      <td>! d o c t y p e h t m l &gt;</td>\n",
       "      <td>http://hermitage-crabapple.amebaownd.com/pages...</td>\n",
       "      <td>1</td>\n",
       "      <td>4.383168</td>\n",
       "      <td>0.987668</td>\n",
       "      <td>25</td>\n",
       "    </tr>\n",
       "    <tr>\n",
       "      <th>3</th>\n",
       "      <td>Save 50% on Passages Lofi Melodies, Analog One...</td>\n",
       "      <td>Prime Loops has launched a limited time promo...</td>\n",
       "      <td>https://rekkerd.org/save-50-on-passages-lofi-m...</td>\n",
       "      <td>1</td>\n",
       "      <td>3.831362</td>\n",
       "      <td>0.978780</td>\n",
       "      <td>230</td>\n",
       "    </tr>\n",
       "    <tr>\n",
       "      <th>4</th>\n",
       "      <td>Checagou, Vol. 3 — red.katt.wreck.chords</td>\n",
       "      <td>Checagou, Vol. 3 Get the music: spotify amazon...</td>\n",
       "      <td>https://www.redkattwreckchords.com/rk7/checago...</td>\n",
       "      <td>1</td>\n",
       "      <td>3.465472</td>\n",
       "      <td>0.969689</td>\n",
       "      <td>115</td>\n",
       "    </tr>\n",
       "    <tr>\n",
       "      <th>5</th>\n",
       "      <td>Largehearted Boy: Shorties (An Excerpt from Sa...</td>\n",
       "      <td>The Oxford American shared an excerpt from Sa...</td>\n",
       "      <td>http://www.largeheartedboy.com/blog/archive/20...</td>\n",
       "      <td>1</td>\n",
       "      <td>3.012738</td>\n",
       "      <td>0.953146</td>\n",
       "      <td>231</td>\n",
       "    </tr>\n",
       "    <tr>\n",
       "      <th>6</th>\n",
       "      <td>Endurance Music Group Re-Signs Songwriter/Arti...</td>\n",
       "      <td>Endurance Music Group Re-Signs Songwriter/Art...</td>\n",
       "      <td>http://dlvr.it/SRn4l8</td>\n",
       "      <td>1</td>\n",
       "      <td>2.680030</td>\n",
       "      <td>0.935838</td>\n",
       "      <td>184</td>\n",
       "    </tr>\n",
       "    <tr>\n",
       "      <th>7</th>\n",
       "      <td>Endurance Music Group Re-Signs Songwriter/Arti...</td>\n",
       "      <td>Endurance Music Group Re-Signs Songwriter/Art...</td>\n",
       "      <td>http://dlvr.it/SRn7lx</td>\n",
       "      <td>1</td>\n",
       "      <td>2.680030</td>\n",
       "      <td>0.935838</td>\n",
       "      <td>184</td>\n",
       "    </tr>\n",
       "    <tr>\n",
       "      <th>8</th>\n",
       "      <td>Alexa Morris Rises To VP At Warner Chappell Music</td>\n",
       "      <td>Alexa Morris Rises To VP At Warner Chappell M...</td>\n",
       "      <td>http://dlvr.it/SRmcYx</td>\n",
       "      <td>1</td>\n",
       "      <td>2.609467</td>\n",
       "      <td>0.931468</td>\n",
       "      <td>180</td>\n",
       "    </tr>\n",
       "    <tr>\n",
       "      <th>9</th>\n",
       "      <td>Alexa Morris Rises To VP At Warner Chappell Music</td>\n",
       "      <td>Alexa Morris Rises To VP At Warner Chappell M...</td>\n",
       "      <td>http://dlvr.it/SRmXZ5</td>\n",
       "      <td>1</td>\n",
       "      <td>2.609467</td>\n",
       "      <td>0.931468</td>\n",
       "      <td>180</td>\n",
       "    </tr>\n",
       "    <tr>\n",
       "      <th>10</th>\n",
       "      <td>Wave Farm | Ginger Radio Hour: Kelefa Sanneh</td>\n",
       "      <td>Host Justin Maiman, from Cairo, shares his la...</td>\n",
       "      <td>https://wavefarm.org/wf/archive/yvjqh0</td>\n",
       "      <td>1</td>\n",
       "      <td>2.478315</td>\n",
       "      <td>0.922608</td>\n",
       "      <td>357</td>\n",
       "    </tr>\n",
       "    <tr>\n",
       "      <th>11</th>\n",
       "      <td>Muscle Tough Live at Park City Music Hall on 2...</td>\n",
       "      <td>The normal 16 bit CD quality version of this ...</td>\n",
       "      <td>https://archive.org/details/muscletough2022-06...</td>\n",
       "      <td>1</td>\n",
       "      <td>2.357705</td>\n",
       "      <td>0.913545</td>\n",
       "      <td>189</td>\n",
       "    </tr>\n",
       "    <tr>\n",
       "      <th>12</th>\n",
       "      <td>Muscle Tough Live at Park City Music Hall on 2...</td>\n",
       "      <td>Muscle Tough recorded, edited and mixed by Er...</td>\n",
       "      <td>https://archive.org/details/muscletough2022-06...</td>\n",
       "      <td>1</td>\n",
       "      <td>2.163847</td>\n",
       "      <td>0.896956</td>\n",
       "      <td>165</td>\n",
       "    </tr>\n",
       "    <tr>\n",
       "      <th>13</th>\n",
       "      <td>Words &amp; Music, May 1965 launches the Lou Reed ...</td>\n",
       "      <td>Words &amp; Music, May 1965, is the first title o...</td>\n",
       "      <td>https://nickbob.com/2022/06/07/words-music-may...</td>\n",
       "      <td>1</td>\n",
       "      <td>2.120454</td>\n",
       "      <td>0.892875</td>\n",
       "      <td>651</td>\n",
       "    </tr>\n",
       "    <tr>\n",
       "      <th>14</th>\n",
       "      <td>Moira Dela Torre, Angela Ken, BINI, and BGYO’s...</td>\n",
       "      <td>Moira Dela Torre, Angela Ken, BINI and BGYO’s...</td>\n",
       "      <td>http://www.cetvphilippines.com/moira-dela-torr...</td>\n",
       "      <td>1</td>\n",
       "      <td>1.704636</td>\n",
       "      <td>0.846139</td>\n",
       "      <td>201</td>\n",
       "    </tr>\n",
       "    <tr>\n",
       "      <th>15</th>\n",
       "      <td>Emma Peterson Releases Her Debut Album \"Just F...</td>\n",
       "      <td>Emma Peterson's new album Just For The Record...</td>\n",
       "      <td>https://lttr.ai/xzV9</td>\n",
       "      <td>1</td>\n",
       "      <td>1.568771</td>\n",
       "      <td>0.827608</td>\n",
       "      <td>695</td>\n",
       "    </tr>\n",
       "    <tr>\n",
       "      <th>16</th>\n",
       "      <td>The Traditional Music Of Beech Mountain, North...</td>\n",
       "      <td>The Farmer's Curst Wife (Child 278) and The T...</td>\n",
       "      <td>https://archive.org/details/lp_the-traditional...</td>\n",
       "      <td>1</td>\n",
       "      <td>1.567734</td>\n",
       "      <td>0.827460</td>\n",
       "      <td>197</td>\n",
       "    </tr>\n",
       "    <tr>\n",
       "      <th>17</th>\n",
       "      <td>Discovered Insider brings you the best videos ...</td>\n",
       "      <td>Yung Martez is a buzzing new artist out of Ho...</td>\n",
       "      <td>https://www.aweber.com/b/O_HCM</td>\n",
       "      <td>1</td>\n",
       "      <td>1.503249</td>\n",
       "      <td>0.818058</td>\n",
       "      <td>640</td>\n",
       "    </tr>\n",
       "    <tr>\n",
       "      <th>18</th>\n",
       "      <td>ballsack radio :)</td>\n",
       "      <td>DJ BajaBlast's Twitter account has been runni...</td>\n",
       "      <td>http://ballsackradio.com</td>\n",
       "      <td>1</td>\n",
       "      <td>1.458058</td>\n",
       "      <td>0.811235</td>\n",
       "      <td>159</td>\n",
       "    </tr>\n",
       "    <tr>\n",
       "      <th>19</th>\n",
       "      <td>Scarlet Moon Records | Ship to Shore PhonoCo. ...</td>\n",
       "      <td>Your Cart is Empty</td>\n",
       "      <td>https://shiptoshoremedia.com/collections/scarl...</td>\n",
       "      <td>1</td>\n",
       "      <td>1.258123</td>\n",
       "      <td>0.778703</td>\n",
       "      <td>18</td>\n",
       "    </tr>\n",
       "    <tr>\n",
       "      <th>20</th>\n",
       "      <td>Scarlet Moon Records | Ship to Shore PhonoCo. ...</td>\n",
       "      <td>Your Cart is Empty</td>\n",
       "      <td>https://shiptoshoremedia.com/collections/scarl...</td>\n",
       "      <td>1</td>\n",
       "      <td>1.258123</td>\n",
       "      <td>0.778703</td>\n",
       "      <td>18</td>\n",
       "    </tr>\n",
       "    <tr>\n",
       "      <th>21</th>\n",
       "      <td>Scarlet Moon Records | Ship to Shore PhonoCo. ...</td>\n",
       "      <td>Your Cart is Empty</td>\n",
       "      <td>https://shiptoshoremedia.com/collections/scarl...</td>\n",
       "      <td>1</td>\n",
       "      <td>1.258123</td>\n",
       "      <td>0.778703</td>\n",
       "      <td>18</td>\n",
       "    </tr>\n",
       "    <tr>\n",
       "      <th>22</th>\n",
       "      <td>eResources | Dublin City Council</td>\n",
       "      <td>Through Dublin City Libraries you can access ...</td>\n",
       "      <td>https://dcpla.ie/3zmtBc8</td>\n",
       "      <td>1</td>\n",
       "      <td>0.886524</td>\n",
       "      <td>0.708172</td>\n",
       "      <td>2984</td>\n",
       "    </tr>\n",
       "    <tr>\n",
       "      <th>23</th>\n",
       "      <td>steps - platinum collection - resident</td>\n",
       "      <td>25 years of Steps hits come together on one p...</td>\n",
       "      <td>http://www.resident-music.com/productdetails&amp;p...</td>\n",
       "      <td>1</td>\n",
       "      <td>0.744207</td>\n",
       "      <td>0.677915</td>\n",
       "      <td>200</td>\n",
       "    </tr>\n",
       "    <tr>\n",
       "      <th>24</th>\n",
       "      <td>LOVER BOY : SHERRY PARSONS : Free Download, Bo...</td>\n",
       "      <td>Four stylii were used to transfer this record...</td>\n",
       "      <td>https://archive.org/details/78_lover-boy_sherr...</td>\n",
       "      <td>1</td>\n",
       "      <td>0.739201</td>\n",
       "      <td>0.676821</td>\n",
       "      <td>180</td>\n",
       "    </tr>\n",
       "    <tr>\n",
       "      <th>25</th>\n",
       "      <td>LOOKS LIKE THE JOKE'S ON ME : JAYE PACE : Free...</td>\n",
       "      <td>Four stylii were used to transfer this record...</td>\n",
       "      <td>https://archive.org/details/78_looks-like-the-...</td>\n",
       "      <td>1</td>\n",
       "      <td>0.739201</td>\n",
       "      <td>0.676821</td>\n",
       "      <td>180</td>\n",
       "    </tr>\n",
       "    <tr>\n",
       "      <th>26</th>\n",
       "      <td>THAT'S WHAT'S WRONG WITH JIMMY : SHERRY PARSON...</td>\n",
       "      <td>Four stylii were used to transfer this record...</td>\n",
       "      <td>https://archive.org/details/78_thats-whats-wro...</td>\n",
       "      <td>1</td>\n",
       "      <td>0.739201</td>\n",
       "      <td>0.676821</td>\n",
       "      <td>180</td>\n",
       "    </tr>\n",
       "    <tr>\n",
       "      <th>27</th>\n",
       "      <td>Do Make Say Think Live at The Music Box on 200...</td>\n",
       "      <td>Due to a planned power outage on Friday, 1/14...</td>\n",
       "      <td>https://archive.org/details/dmst2007-05-15</td>\n",
       "      <td>1</td>\n",
       "      <td>0.334222</td>\n",
       "      <td>0.582786</td>\n",
       "      <td>145</td>\n",
       "    </tr>\n",
       "    <tr>\n",
       "      <th>28</th>\n",
       "      <td>\"Words &amp; Music, May 1965\", la primera entrega ...</td>\n",
       "      <td>Light in the Attic Records anounces el lanzam...</td>\n",
       "      <td>https://lugarconparlantes.com/?p=1474</td>\n",
       "      <td>1</td>\n",
       "      <td>0.324332</td>\n",
       "      <td>0.580380</td>\n",
       "      <td>275</td>\n",
       "    </tr>\n",
       "  </tbody>\n",
       "</table>\n",
       "</div>"
      ],
      "text/plain": [
       "                                                Title  \\\n",
       "0   Renaissance Chessboard Collection – Diamondz O...   \n",
       "1   Notion – The all-in-one workspace for your not...   \n",
       "2   SELECTION  （J.S.Bach etc.） | Hermitage's Crab ...   \n",
       "3   Save 50% on Passages Lofi Melodies, Analog One...   \n",
       "4            Checagou, Vol. 3 — red.katt.wreck.chords   \n",
       "5   Largehearted Boy: Shorties (An Excerpt from Sa...   \n",
       "6   Endurance Music Group Re-Signs Songwriter/Arti...   \n",
       "7   Endurance Music Group Re-Signs Songwriter/Arti...   \n",
       "8   Alexa Morris Rises To VP At Warner Chappell Music   \n",
       "9   Alexa Morris Rises To VP At Warner Chappell Music   \n",
       "10       Wave Farm | Ginger Radio Hour: Kelefa Sanneh   \n",
       "11  Muscle Tough Live at Park City Music Hall on 2...   \n",
       "12  Muscle Tough Live at Park City Music Hall on 2...   \n",
       "13  Words & Music, May 1965 launches the Lou Reed ...   \n",
       "14  Moira Dela Torre, Angela Ken, BINI, and BGYO’s...   \n",
       "15  Emma Peterson Releases Her Debut Album \"Just F...   \n",
       "16  The Traditional Music Of Beech Mountain, North...   \n",
       "17  Discovered Insider brings you the best videos ...   \n",
       "18                                  ballsack radio :)   \n",
       "19  Scarlet Moon Records | Ship to Shore PhonoCo. ...   \n",
       "20  Scarlet Moon Records | Ship to Shore PhonoCo. ...   \n",
       "21  Scarlet Moon Records | Ship to Shore PhonoCo. ...   \n",
       "22                   eResources | Dublin City Council   \n",
       "23             steps - platinum collection - resident   \n",
       "24  LOVER BOY : SHERRY PARSONS : Free Download, Bo...   \n",
       "25  LOOKS LIKE THE JOKE'S ON ME : JAYE PACE : Free...   \n",
       "26  THAT'S WHAT'S WRONG WITH JIMMY : SHERRY PARSON...   \n",
       "27  Do Make Say Think Live at The Music Box on 200...   \n",
       "28  \"Words & Music, May 1965\", la primera entrega ...   \n",
       "\n",
       "                                          Description  \\\n",
       "0    Hell Razah Music Inc.  and Diamondz O.C. C.  ...   \n",
       "1    @keyframes rotate {0% {-webkit-transform:rota...   \n",
       "2                           ! d o c t y p e h t m l >   \n",
       "3    Prime Loops has launched a limited time promo...   \n",
       "4   Checagou, Vol. 3 Get the music: spotify amazon...   \n",
       "5    The Oxford American shared an excerpt from Sa...   \n",
       "6    Endurance Music Group Re-Signs Songwriter/Art...   \n",
       "7    Endurance Music Group Re-Signs Songwriter/Art...   \n",
       "8    Alexa Morris Rises To VP At Warner Chappell M...   \n",
       "9    Alexa Morris Rises To VP At Warner Chappell M...   \n",
       "10   Host Justin Maiman, from Cairo, shares his la...   \n",
       "11   The normal 16 bit CD quality version of this ...   \n",
       "12   Muscle Tough recorded, edited and mixed by Er...   \n",
       "13   Words & Music, May 1965, is the first title o...   \n",
       "14   Moira Dela Torre, Angela Ken, BINI and BGYO’s...   \n",
       "15   Emma Peterson's new album Just For The Record...   \n",
       "16   The Farmer's Curst Wife (Child 278) and The T...   \n",
       "17   Yung Martez is a buzzing new artist out of Ho...   \n",
       "18   DJ BajaBlast's Twitter account has been runni...   \n",
       "19                                 Your Cart is Empty   \n",
       "20                                 Your Cart is Empty   \n",
       "21                                 Your Cart is Empty   \n",
       "22   Through Dublin City Libraries you can access ...   \n",
       "23   25 years of Steps hits come together on one p...   \n",
       "24   Four stylii were used to transfer this record...   \n",
       "25   Four stylii were used to transfer this record...   \n",
       "26   Four stylii were used to transfer this record...   \n",
       "27   Due to a planned power outage on Friday, 1/14...   \n",
       "28   Light in the Attic Records anounces el lanzam...   \n",
       "\n",
       "                                                  URL  Prediction     Score  \\\n",
       "0   https://www.diamondzoc.com/collections/renaiss...           1  6.514313   \n",
       "1   https://viinterchild.notion.site/Filler-videos...           1  4.383168   \n",
       "2   http://hermitage-crabapple.amebaownd.com/pages...           1  4.383168   \n",
       "3   https://rekkerd.org/save-50-on-passages-lofi-m...           1  3.831362   \n",
       "4   https://www.redkattwreckchords.com/rk7/checago...           1  3.465472   \n",
       "5   http://www.largeheartedboy.com/blog/archive/20...           1  3.012738   \n",
       "6                               http://dlvr.it/SRn4l8           1  2.680030   \n",
       "7                               http://dlvr.it/SRn7lx           1  2.680030   \n",
       "8                               http://dlvr.it/SRmcYx           1  2.609467   \n",
       "9                               http://dlvr.it/SRmXZ5           1  2.609467   \n",
       "10             https://wavefarm.org/wf/archive/yvjqh0           1  2.478315   \n",
       "11  https://archive.org/details/muscletough2022-06...           1  2.357705   \n",
       "12  https://archive.org/details/muscletough2022-06...           1  2.163847   \n",
       "13  https://nickbob.com/2022/06/07/words-music-may...           1  2.120454   \n",
       "14  http://www.cetvphilippines.com/moira-dela-torr...           1  1.704636   \n",
       "15                               https://lttr.ai/xzV9           1  1.568771   \n",
       "16  https://archive.org/details/lp_the-traditional...           1  1.567734   \n",
       "17                     https://www.aweber.com/b/O_HCM           1  1.503249   \n",
       "18                           http://ballsackradio.com           1  1.458058   \n",
       "19  https://shiptoshoremedia.com/collections/scarl...           1  1.258123   \n",
       "20  https://shiptoshoremedia.com/collections/scarl...           1  1.258123   \n",
       "21  https://shiptoshoremedia.com/collections/scarl...           1  1.258123   \n",
       "22                           https://dcpla.ie/3zmtBc8           1  0.886524   \n",
       "23  http://www.resident-music.com/productdetails&p...           1  0.744207   \n",
       "24  https://archive.org/details/78_lover-boy_sherr...           1  0.739201   \n",
       "25  https://archive.org/details/78_looks-like-the-...           1  0.739201   \n",
       "26  https://archive.org/details/78_thats-whats-wro...           1  0.739201   \n",
       "27         https://archive.org/details/dmst2007-05-15           1  0.334222   \n",
       "28              https://lugarconparlantes.com/?p=1474           1  0.324332   \n",
       "\n",
       "    Probability  Input Length  \n",
       "0      0.998520           178  \n",
       "1      0.987668           202  \n",
       "2      0.987668            25  \n",
       "3      0.978780           230  \n",
       "4      0.969689           115  \n",
       "5      0.953146           231  \n",
       "6      0.935838           184  \n",
       "7      0.935838           184  \n",
       "8      0.931468           180  \n",
       "9      0.931468           180  \n",
       "10     0.922608           357  \n",
       "11     0.913545           189  \n",
       "12     0.896956           165  \n",
       "13     0.892875           651  \n",
       "14     0.846139           201  \n",
       "15     0.827608           695  \n",
       "16     0.827460           197  \n",
       "17     0.818058           640  \n",
       "18     0.811235           159  \n",
       "19     0.778703            18  \n",
       "20     0.778703            18  \n",
       "21     0.778703            18  \n",
       "22     0.708172          2984  \n",
       "23     0.677915           200  \n",
       "24     0.676821           180  \n",
       "25     0.676821           180  \n",
       "26     0.676821           180  \n",
       "27     0.582786           145  \n",
       "28     0.580380           275  "
      ]
     },
     "execution_count": 42,
     "metadata": {},
     "output_type": "execute_result"
    }
   ],
   "source": [
    "resources_predictions = lr_predict(path, 'resources', links_to_add, 'Description')\n",
    "\n",
    "resources_preds_cv_df = resources_predictions.copy()\n",
    "resources_preds_cv_df = resources_preds_cv_df.loc[resources_preds_cv_df['Prediction'] == 1]\n",
    "resources_preds_cv_df = resources_preds_cv_df[~resources_preds_cv_df.Title.str.contains('|'.join(discard))]\n",
    "resources_preds_cv_df = resources_preds_cv_df[~resources_preds_cv_df.URL.str.contains('|'.join(discard))]\n",
    "resources_preds_cv_df.sort_values(by='Score', ascending=False).reset_index(drop=True)"
   ]
  }
 ],
 "metadata": {
  "interpreter": {
   "hash": "aee8b7b246df8f9039afb4144a1f6fd8d2ca17a180786b69acc140d282b71a49"
  },
  "kernelspec": {
   "display_name": "Python 3.10.4 64-bit",
   "language": "python",
   "name": "python3"
  },
  "language_info": {
   "codemirror_mode": {
    "name": "ipython",
    "version": 3
   },
   "file_extension": ".py",
   "mimetype": "text/x-python",
   "name": "python",
   "nbconvert_exporter": "python",
   "pygments_lexer": "ipython3",
   "version": "3.10.4"
  }
 },
 "nbformat": 4,
 "nbformat_minor": 4
}
