{
 "cells": [
  {
   "cell_type": "markdown",
   "metadata": {},
   "source": [
    "# Pipeline\n",
    "\n",
    "- This notebook is used to test various aspects of the twitter pipeline \n",
    "\n",
    "## Imports"
   ]
  },
  {
   "cell_type": "code",
   "execution_count": 1,
   "metadata": {},
   "outputs": [],
   "source": [
    "path = '../'\n",
    "import csv , dateutil.parser , time\n",
    "from datetime import date , timedelta \n",
    "import os\n",
    "# classifier\n",
    "import pandas as pd\n",
    "import pickle\n",
    "from sklearn.linear_model import LogisticRegressionCV\n",
    "from sklearn.metrics import classification_report \n",
    "from sklearn.model_selection import cross_val_predict\n",
    "from sklearn.feature_extraction.text import TfidfVectorizer\n",
    "# web scraping\n",
    "import requests\n",
    "from bs4 import BeautifulSoup\n",
    "#!pip3 install trafilatura\n",
    "import trafilatura\n",
    "from transformers import pipeline\n",
    "#cleaning \n",
    "import emoji\n",
    "import re\n",
    "#functions\n",
    "from PYTHON_FILES.LogReg_Searches import LogRegSearches"
   ]
  },
  {
   "cell_type": "markdown",
   "metadata": {},
   "source": [
    "## Variables"
   ]
  },
  {
   "cell_type": "code",
   "execution_count": 20,
   "metadata": {},
   "outputs": [],
   "source": [
    "# descriptions training set -> v2 = musow+mji descriptions vs summarized scrapes from twitter searches  \n",
    "archive_desc_training_v2 = pd.read_pickle(path+'LOGREG_RELEVANCE/TRAINING_SETS/archive_desc_training_v2.pkl')\n",
    "\n",
    "# twitter training set -> v1 = tweets from bigrams vs tweets for digital humanities and music company \n",
    "twitter_training_set_v1 = pd.read_pickle(path+'LOGREG_RELEVANCE/TRAINING_SETS/twitter_training_v1.pkl')"
   ]
  },
  {
   "cell_type": "markdown",
   "metadata": {},
   "source": [
    "## Functions"
   ]
  },
  {
   "cell_type": "code",
   "execution_count": 3,
   "metadata": {},
   "outputs": [],
   "source": [
    "def lr_training(t_input, t_feature, target, cv_int, score_type, filename, path):\n",
    "    \"\"\" Create a text classifier based on Logistic regression and TF-IDF. Use cross validation \n",
    "    \n",
    "    Parameters\n",
    "    ----------\n",
    "    t_input: \n",
    "        dataframe of the training set\n",
    "    t_feature: \n",
    "        df column, text of tweet or description of the resource\n",
    "    target: \n",
    "        df column, [0,1] values\n",
    "    cv_int: int\n",
    "        the number of cross validation folding\n",
    "    score_type: str\n",
    "        precision or recall\n",
    "    filename: str\n",
    "        model file name\n",
    "    path: str\n",
    "        parent folder\n",
    "    \"\"\"\n",
    "    # TODO eda to define max_features=1000\n",
    "      \n",
    "    tfidf_transformer = TfidfVectorizer(ngram_range=(1, 2), lowercase=True, max_features=1000) \n",
    "    x_train = tfidf_transformer.fit_transform(t_input[t_feature])\n",
    "    y_train = t_input[target].values\n",
    "    model = LogisticRegressionCV(solver='liblinear', random_state=44, cv=cv_int, scoring=score_type)\n",
    "    \n",
    "    # export\n",
    "    model.fit(x_train, y_train)\n",
    "    export_model = f'LOGREG_RELEVANCE/MODELS/{filename}_model.pkl'\n",
    "    export_vectorizer = f'LOGREG_RELEVANCE/MODELS/{filename}_vectorizer.pkl'\n",
    "    pickle.dump(model, open(path+export_model, 'wb'))\n",
    "    pickle.dump(tfidf_transformer, open(path+export_vectorizer, 'wb'))\n",
    "    \n",
    "    # report\n",
    "    y_pred = cross_val_predict(model, x_train, y_train, cv=cv_int)\n",
    "    report = classification_report(y_train, y_pred)\n",
    "    print('report:', report, sep='\\n')\n",
    "    return model\n",
    "    \n",
    "def lr_predict(path, filename, p_input, p_feature):\n",
    "    \"\"\" Classify text using a pickled model based on Logistic regression and TF-IDF.\n",
    "    \n",
    "    Parameters\n",
    "    ----------\n",
    "    p_input: \n",
    "        dataframe of the prediction set\n",
    "    p_feature: \n",
    "        df column, text of tweet or description of the resource\n",
    "    filename: str\n",
    "        model file name\n",
    "    path: str\n",
    "        parent folder\n",
    "    \"\"\"\n",
    "    export_model = f'{path}LOGREG_RELEVANCE/MODELS/{filename}_model.pkl'\n",
    "    export_vectorizer = f'{path}LOGREG_RELEVANCE/MODELS/{filename}_vectorizer.pkl'\n",
    "    model = pickle.load(open(export_model, 'rb'))\n",
    "    tfidf_transformer = pickle.load(open(export_vectorizer, 'rb'))\n",
    "  \n",
    "    #result = loaded_model.score(X_test, Y_test)\n",
    "    #x_new_count = count_vect.transform(p_input[p_feature])\n",
    "    x_predict = tfidf_transformer.transform(p_input[p_feature])\n",
    "    y_predict = model.predict(x_predict)\n",
    "    scores = model.decision_function(x_predict)\n",
    "    probability = model.predict_proba(x_predict)\n",
    "    \n",
    "    #results = [r for r in y_predict]\n",
    "    result = p_input.copy()\n",
    "    result['Prediction'] = y_predict\n",
    "    result['Score'] = scores\n",
    "    result['Probability'] = probability[:,1]\n",
    "    result['Input Length'] = result[p_feature].str.len()\n",
    "    return result\n",
    "\n",
    "def create_url(keyword, start_date, end_date, max_results):\n",
    "        search_url = \"https://api.twitter.com/2/tweets/search/all\" #Change to the endpoint you want to collect data from\n",
    "        #change params based on the endpoint you are using\n",
    "        query_params = {'query': keyword,\n",
    "                        'start_time': start_date,\n",
    "                        'end_time': end_date,\n",
    "                        'max_results': max_results,\n",
    "                        'expansions': 'author_id,in_reply_to_user_id,geo.place_id',\n",
    "                        'tweet.fields': 'id,text,author_id,in_reply_to_user_id,geo,conversation_id,created_at,lang,public_metrics,referenced_tweets,reply_settings,source,entities',\n",
    "                        'user.fields': 'id,name,username,created_at,description,public_metrics,verified',\n",
    "                        'place.fields': 'full_name,id,country,country_code,geo,name,place_type',\n",
    "                        'next_token': {}}\n",
    "        return (search_url, query_params)\n",
    "    \n",
    "def connect_to_endpoint(url, headers, params, next_token = None):\n",
    "    params['next_token'] = next_token   #params object received from create_url function\n",
    "    response = requests.request(\"GET\", url, headers = headers, params = params)\n",
    "    print(\"Endpoint Response Code: \" + str(response.status_code))\n",
    "    if response.status_code != 200:\n",
    "        raise Exception(response.status_code, response.text)\n",
    "    return response.json()\n",
    "\n",
    "def give_emoji_free_text(text):\n",
    "    return emoji.replace_emoji(text, replace='')\n",
    "\n",
    "def append_to_csv(json_response, fileName):\n",
    "    #A counter variable\n",
    "    counter = 0\n",
    "\n",
    "    #Open OR create the target CSV file\n",
    "    csvFile = open(fileName, \"a\", newline=\"\", encoding='utf-8')\n",
    "    csvWriter = csv.writer(csvFile)\n",
    "    \n",
    "    #setup usernames via includes\n",
    "    username = {user['id']: user['username'] for user in json_response['includes']['users']}\n",
    "    \n",
    "    #Loop through each tweet\n",
    "    for tweet in json_response['data']:\n",
    "\n",
    "        # 1. Username\n",
    "        author_id = tweet['author_id']\n",
    "        user = username[author_id]\n",
    "\n",
    "        # 2. Time created\n",
    "        created_at = dateutil.parser.parse(tweet['created_at'])\n",
    "\n",
    "        # 3. Language\n",
    "        lang = tweet['lang']\n",
    "\n",
    "        # 4. Tweet metrics\n",
    "        retweet_count = tweet['public_metrics']['retweet_count']\n",
    "        reply_count = tweet['public_metrics']['reply_count']\n",
    "        like_count = tweet['public_metrics']['like_count']\n",
    "        quote_count = tweet['public_metrics']['quote_count']\n",
    "\n",
    "        #5. URLs w/ a catch for tweets w/ two links TODO: how to catch more than two links? \n",
    "        if ('entities' in tweet) and ('urls' in tweet['entities']):\n",
    "            for url in tweet['entities']['urls']:\n",
    "                url = [url['expanded_url'] for url in tweet['entities']['urls'] if 'twitter.com' not in url['expanded_url']]\n",
    "                url = ', '.join(url)\n",
    "        else:\n",
    "            url = \"\"\n",
    "        \n",
    "        #6. Tweet text\n",
    "        text = give_emoji_free_text(tweet['text']) \n",
    "        \n",
    "        # Assemble all data in a list\n",
    "        res = [user, created_at, lang, like_count, quote_count, reply_count, retweet_count, text, url]\n",
    "\n",
    "        # Append the result to the CSV file\n",
    "        csvWriter.writerow(res)\n",
    "        counter += 1    \n",
    "    \n",
    "    # When done, close the CSV file\n",
    "    csvFile.close()\n",
    "\n",
    "    # Print the number of tweets for this iteration\n",
    "    print(\"# of Tweets added from this response: \", counter) \n",
    "\n",
    "def twitter_search(token, keyword, start, end, mresults, mcount, file_name):\n",
    "    \n",
    "    # TODO filter tweets in english only OR tweak TF-IDF stopwords (lang detection)\n",
    "    bearer_token = token\n",
    "    headers = {\"Authorization\": \"Bearer {}\".format(bearer_token)} \n",
    "    start_list = start\n",
    "    end_list =  end\n",
    "    max_results = mresults\n",
    "    total_tweets = 0\n",
    "\n",
    "    # Create file\n",
    "    csvFile = open(f'{path}TWITTER_SEARCHES/RAW_SEARCHES/{file_name}.csv', \"a\", newline=\"\", encoding='utf-8')\n",
    "    csvWriter = csv.writer(csvFile)\n",
    "    csvWriter.writerow(['user', 'created_at', 'lang', 'like_count', 'quote_count', 'reply_count','retweet_count','tweet', 'URL'])\n",
    "    csvFile.close()\n",
    "\n",
    "    for i in range(0,len(start_list)):\n",
    "        # Inputs\n",
    "        count = 0 # Counting tweets per time period\n",
    "        max_count = mcount # Max tweets per time period\n",
    "        flag = True\n",
    "        next_token = None\n",
    "        \n",
    "        while flag:\n",
    "            # Check if max_count reached\n",
    "            if count >= max_count:\n",
    "                break\n",
    "            print(\"-------------------\")\n",
    "            print(\"Token: \", next_token)\n",
    "            url = create_url(keyword, start_list[i],end_list[i], max_results)\n",
    "            json_response = connect_to_endpoint(url[0], headers, url[1], next_token)\n",
    "            result_count = json_response['meta']['result_count']\n",
    "\n",
    "            if 'next_token' in json_response['meta']:\n",
    "                # Save the token to use for next call\n",
    "                next_token = json_response['meta']['next_token']\n",
    "                print(\"Next Token: \", next_token)\n",
    "                if result_count is not None and result_count > 0 and next_token is not None:\n",
    "                    print(\"Start Date: \", start_list[i])\n",
    "                    append_to_csv(json_response, f'{path}TWITTER_SEARCHES/RAW_SEARCHES/{file_name}.csv')\n",
    "                    count += result_count\n",
    "                    total_tweets += result_count\n",
    "                    print(f\"Total # of Tweets added for '{keyword}':\", total_tweets)\n",
    "                    print(\"-------------------\")\n",
    "                    time.sleep(5)                \n",
    "            # If no next token exists\n",
    "            else:\n",
    "                if result_count is not None and result_count > 0:\n",
    "                    print(\"-------------------\")\n",
    "                    print(\"Start Date: \", start_list[i])\n",
    "                    append_to_csv(json_response, f'{path}TWITTER_SEARCHES/RAW_SEARCHES/{file_name}.csv')\n",
    "                    count += result_count\n",
    "                    total_tweets += result_count\n",
    "                    print(f\"Total # of Tweets added for '{keyword}':\", total_tweets)\n",
    "                    print(\"-------------------\")\n",
    "                    time.sleep(5)\n",
    "\n",
    "                #Since this is the final request, turn flag to false to move to the next time period.\n",
    "                flag = False\n",
    "                next_token = None\n",
    "            time.sleep(5)\n",
    "    print(\"Total number of results:\", total_tweets)\n",
    "    \n",
    "    df = pd.read_csv(f'{path}TWITTER_SEARCHES/RAW_SEARCHES/{file_name}.csv', keep_default_na=False, dtype={\"user\": \"string\", \"lang\": \"string\", \"tweet\": \"string\", \"URL\": \"string\"})\n",
    "    \n",
    "    # clean the tweet from meentions, hashtags, emojis\n",
    "    df['tweet'].replace( { r\"@[A-Za-z0-9_]+\": '' }, inplace= True, regex = True)\n",
    "    df['tweet'].replace( { r\"#\": '' }, inplace= True, regex = True)\n",
    "    \n",
    "    # remove tweets that are not in english, have empty URLs, or have duplicate URLs\n",
    "    df = df[df['lang'].isin(['en'])]\n",
    "    df = df[df.URL != '']\n",
    "    df = df.drop_duplicates(['URL'], keep='last')\n",
    "\n",
    "    #add a column for the search keyword\n",
    "    df['Search KW'] = keyword\n",
    "\n",
    "    #pickle df for reuse\n",
    "    df.to_pickle(f'{path}TWITTER_SEARCHES/RAW_SEARCHES/{file_name}.pkl')\n",
    "\n",
    "def scrape_links(link_list, pred_df, filename):\n",
    "    \"\"\" Scrape links from classified tweets, save scrapes, combine them w/ tweets and return a DF for description classification.\n",
    "    \n",
    "    Parameters\n",
    "    ----------\n",
    "    p_input: \n",
    "        dataframe of the prediction set\n",
    "    p_feature: \n",
    "        df column, text of tweet or description of the resource\n",
    "    filename: str\n",
    "        model file name\n",
    "    path: str\n",
    "        parent folder\n",
    "    score: int\n",
    "        which prediction score to filter the results by 1/0\n",
    "    discard: variable\n",
    "        a list of terms to check against to remove tweets\n",
    "    filter: str \n",
    "        a string against which to further filter predictions \n",
    "    \"\"\"\n",
    "    links = pd.DataFrame(columns=['Title', 'Description', 'URL'])\n",
    "    summarizer = pipeline(\"summarization\", model='sshleifer/distilbart-cnn-12-6')\n",
    "    \n",
    "    for link in link_list:\n",
    "        URL = link\n",
    "        page = None\n",
    "        ARTICLE = ''\n",
    "        try:\n",
    "            x = requests.head(URL, timeout=15)\n",
    "            content_type = x.headers[\"Content-Type\"] if \"Content-Type\" in x.headers else \"None\"\n",
    "            if (\"text/html\" in content_type.lower()):\n",
    "                page = requests.get(URL, timeout=15)\n",
    "        except Exception:\n",
    "            pass\n",
    "        \n",
    "        if page:\n",
    "            soup = BeautifulSoup(page.content, \"html.parser\")\n",
    "            title = ' '.join([t.text for t in soup.find('head').find_all('title')]).strip() \\\n",
    "                if soup and soup.find('head') and soup.find('body') is not None \\\n",
    "                else URL\n",
    "            \n",
    "            try:\n",
    "                downloaded = trafilatura.fetch_url(URL)\n",
    "                ARTICLE = trafilatura.extract(downloaded, include_comments=False, include_tables=True, target_language='en', deduplicate=True)\n",
    "            except Exception:\n",
    "                results = soup.find_all(['h1', 'p'])\n",
    "                text = [result.text for result in results]\n",
    "                ARTICLE = ' '.join(text)\n",
    "            \n",
    "            if ARTICLE is not None and len(ARTICLE) > 200:\n",
    "                # text summarisation\n",
    "                max_chunk = 500\n",
    "                #removing special characters and replacing with end of sentence\n",
    "                ARTICLE = ARTICLE.replace('.', '.<eos>')\n",
    "                ARTICLE = ARTICLE.replace('?', '?<eos>')\n",
    "                ARTICLE = ARTICLE.replace('!', '!<eos>')\n",
    "                sentences = ARTICLE.split('<eos>')\n",
    "                current_chunk = 0 \n",
    "                chunks = []\n",
    "\n",
    "                # split text to process\n",
    "                for sentence in sentences:\n",
    "                    if len(chunks) == current_chunk + 1: \n",
    "                        if len(chunks[current_chunk]) + len(sentence.split(' ')) <= max_chunk:\n",
    "                            chunks[current_chunk].extend(sentence.split(' '))\n",
    "                        else:\n",
    "                            current_chunk += 1\n",
    "                            chunks.append(sentence.split(' '))\n",
    "                    else:\n",
    "                        chunks.append(sentence.split(' '))\n",
    "\n",
    "                for chunk_id in range(len(chunks)):\n",
    "                    chunks[chunk_id] = ' '.join(chunks[chunk_id])\n",
    "                try:\n",
    "                    res = summarizer(chunks, min_length = int(0.2 * len(text)), max_length = int(0.5 * len(text)), do_sample=False)\n",
    "                    # summary\n",
    "                    text = ' '.join([summ['summary_text'] for summ in res])\n",
    "                except Exception:\n",
    "                    text = ARTICLE\n",
    "                    continue\n",
    "            else:\n",
    "                text = ARTICLE\n",
    "            print(URL)\n",
    "            new_row = {'Title': title, 'Description': text, 'URL': URL.strip()}\n",
    "            new_df = pd.DataFrame(data=new_row, index=[0])\n",
    "            links = pd.concat([links, new_df], ignore_index=True)\n",
    "    discard = ['None', '! D O C T Y P E h t m l >', '! d o c t y p e h t m l >', '! D O C T Y P E H T M L >']\n",
    "    links = links.fillna('None')\n",
    "    links = links[~links.Description.str.contains('|'.join(discard))]\n",
    "    twitter_scrapes_preds = pd.merge(pred_df, links, on='URL')\n",
    "    twitter_scrapes_preds.to_pickle(f'{path}LOGREG_RELEVANCE/SCRAPES/{filename}.pkl')\n",
    "    print(len(twitter_scrapes_preds))\n",
    "    return twitter_scrapes_preds\n",
    "\n",
    "def twitter_predictions(path, filename, p_input, p_feature, score, discard, filter):\n",
    "    \"\"\" Predict relevant tweets using a pickled model based on Logistic regression and TF-IDF.\n",
    "    \n",
    "    Parameters\n",
    "    ----------\n",
    "    p_input: \n",
    "        dataframe of the prediction set\n",
    "    p_feature: \n",
    "        df column, text of tweet or description of the resource\n",
    "    filename: str\n",
    "        model file name\n",
    "    path: str\n",
    "        parent folder\n",
    "    score: int\n",
    "        which prediction score to filter the results by 1/0\n",
    "    discard: variable\n",
    "        a list of terms to check against to remove tweets\n",
    "    filter: str \n",
    "        a string against which to further filter predictions \n",
    "    \"\"\"\n",
    "    preds = lr_predict(path, filename, p_input, p_feature)\n",
    "    preds = preds.drop_duplicates(['tweet'], keep='last')\n",
    "    preds = preds.loc[preds['Prediction'] == score]\n",
    "    preds = preds[~preds.URL.str.contains('|'.join(discard))]\n",
    "    preds = preds.sort_values(by='Score', ascending=False).reset_index(drop=True)\n",
    "    preds = preds[['tweet', 'Prediction', 'Score', 'Probability', 'Input Length', 'URL', 'Search KW']]\n",
    "    if filter != '':\n",
    "        preds = preds[preds['tweet'].str.contains(filter)]\n",
    "        preds = preds.reset_index(drop=True)\n",
    "    twitter_link_list = [link for link in preds['URL']]\n",
    "    print('Total tweets classified:', len(preds))\n",
    "    return preds, twitter_link_list\n",
    "\n",
    "def resource_predictions(path, filename, p_input, p_feature, score, discard, savefile):\n",
    "    \"\"\" Predict relevant URL descriptions using a pickled model based on Logistic regression and TF-IDF.\n",
    "    \n",
    "    Parameters\n",
    "    ----------\n",
    "    p_input: \n",
    "        dataframe of the prediction set\n",
    "    p_feature: \n",
    "        df column, text of tweet or description of the resource\n",
    "    filename: str\n",
    "        model file name\n",
    "    path: str\n",
    "        parent folder\n",
    "    score: int\n",
    "        which prediction score to filter the results by 1/0\n",
    "    discard: variable\n",
    "        a list of terms to check against to remove tweets\n",
    "    savefile: str\n",
    "        name for the final csv to be saved under \n",
    "    \"\"\"\n",
    "    if len(filename) == 0:\n",
    "        return 'Sorry no URLs to classify!'\n",
    "    preds = lr_predict(path, filename, p_input, p_feature)\n",
    "    preds = preds.drop_duplicates(['Description'], keep='last')\n",
    "    preds = preds.loc[preds['Description'] != '']\n",
    "    preds = preds.loc[preds['Prediction'] == score]\n",
    "    preds = preds[~preds.URL.str.contains('|'.join(discard))]\n",
    "    preds = preds[~preds.Title.str.contains('|'.join(discard))]\n",
    "    preds = preds.sort_values(by='Score', ascending=False).reset_index(drop=True)\n",
    "    preds.to_csv(f'{path}LOGREG_RELEVANCE/PREDICTIONS/{savefile}.csv')\n",
    "    print(preds)\n",
    "    return preds\n",
    "\n",
    "def tweets_to_classify(path, filetype):   \n",
    "    \"\"\" Merge all tweet searches together.\n",
    "    \n",
    "    Parameters\n",
    "    ----------\n",
    "    path: \n",
    "        for raw searches folder\n",
    "    filetype: \n",
    "        the ending of the files to load, you can call just .pkl or also the date tag from file names\n",
    "    \"\"\"  \n",
    "    raw_searches = path+'TWITTER_SEARCHES/RAW_SEARCHES/'\n",
    "    result = pd.DataFrame()\n",
    "    tweets_to_classify = pd.DataFrame()\n",
    "    for file in os.listdir(raw_searches):\n",
    "        if file.endswith(filetype):\n",
    "            result = pd.read_pickle(raw_searches+file)\n",
    "        tweets_to_classify = pd.concat([tweets_to_classify, result])\n",
    "        tweets_to_classify = tweets_to_classify.reset_index(drop=True)\n",
    "    print('Total tweets to classify:', len(tweets_to_classify))\n",
    "    return tweets_to_classify"
   ]
  },
  {
   "cell_type": "markdown",
   "metadata": {},
   "source": [
    "## Training twitter and descriptions classifiers\n",
    "\n",
    "This is a ONE TIME operation. The models are pickled and loaded later to predict new results"
   ]
  },
  {
   "cell_type": "code",
   "execution_count": null,
   "metadata": {},
   "outputs": [],
   "source": [
    "# one time training on twitter\n",
    "twitter_training_model = LogRegSearches.train(twitter_training_set_v1, 'tweet', 'Target', 150, 'precision', 10, 'twitter_v1_150maxfeats', path)\n",
    "\n",
    "# one time training on resources\n",
    "#resource_training_model = lr_training(archive_desc_training_v2, 'Description', 'Target', 10, 'f1','resources_v2',path)"
   ]
  },
  {
   "cell_type": "markdown",
   "metadata": {},
   "source": [
    "## Query Twitter\n",
    "\n",
    "Calls Twitter API with the list of keywords and returns the table `prediction_twitter`"
   ]
  },
  {
   "cell_type": "code",
   "execution_count": null,
   "metadata": {},
   "outputs": [],
   "source": [
    "#load token\n",
    "token = 'AAAAAAAAAAAAAAAAAAAAAJgsNAEAAAAAQcsgbUnOJJmqmU483%2F8x6n9V1i8%3Df0qaEo9cV1sWP4eyNQ6E9s8BiRjvFTSN9mSqithe8uIXSNP68x'\n",
    "#a selection of keywords based on MJI and musoW datasets\n",
    "\n",
    "#choose KW list \n",
    "##OG keyword list\n",
    "keywords = ['oral history', 'music magazine', 'sound archive', 'music history', 'music culture', 'music research', 'sheet music', 'music library', 'digital library', 'music collection', 'digital collection', 'sound recording', 'midi file', 'audio file', 'music information', 'musical score', 'digital score', 'song dataset', 'digital edition', 'digital archive', 'digital library', 'music archive', 'music library', 'archive collection']\n",
    "\n",
    "##best performing list based on v1 tests\n",
    "better_keywords = ['audio file', 'music archive', 'music collection', 'music library', 'sheet music', 'sound archive', 'sound recording']\n",
    "\n",
    "#custom timeframe for searching\n",
    "start = ['2022-01-01T00:00:00.000Z', '2022-02-01T00:00:00.000Z', '2022-03-01T00:00:00.000Z']\n",
    "end = ['2022-01-31T23:59:59.000Z', '2022-02-28T23:59:59.000Z', '2022-03-31T23:59:59.000Z']\n",
    "\n",
    "#choose search option \n",
    "## search last week\n",
    "#twitter_search_weekly(token, better_keywords, 500, 500)\n",
    "## search custom timeframe\n",
    "twitter_search_custom(token, better_keywords, start, end, 500, 500)"
   ]
  },
  {
   "cell_type": "code",
   "execution_count": null,
   "metadata": {},
   "outputs": [],
   "source": [
    "#load token\n",
    "token = 'AAAAAAAAAAAAAAAAAAAAAJgsNAEAAAAAQcsgbUnOJJmqmU483%2F8x6n9V1i8%3Df0qaEo9cV1sWP4eyNQ6E9s8BiRjvFTSN9mSqithe8uIXSNP68x'\n",
    "#a selection of keywords based on MJI and musoW datasets\n",
    "\n",
    "#OG keyword list\n",
    "keywords = ['oral history', 'music magazine', 'sound archive', 'music history', 'music culture', 'music research', 'sheet music', 'music library', 'digital library', 'music collection', 'digital collection', 'sound recording', 'midi file', 'audio file', 'music information', 'musical score', 'digital score', 'song dataset', 'digital edition', 'digital archive', 'digital library', 'music archive', 'music library', 'archive collection']\n",
    "\n",
    "#best performing list based on v1 tests\n",
    "better_keywords = ['audio file', 'music archive', 'music collection', 'music library', 'sheet music', 'sound archive', 'sound recording']\n",
    "\n",
    "#transfer keywords to input list w/ additional twitter parameters, e.g. no retweets\n",
    "input_keywords = [f'\\\"{k}\\\" -is:retweet' for k in keywords] \n",
    "#input time periods for search as a comma separated list, searches will be conducted for each time pair e.g. first of week/month, last of week/month \n",
    "start = ['2022-05-01T00:00:00.000Z', '2022-05-02T00:00:00.000Z', '2022-05-03T00:00:00.000Z', '2022-05-04T00:00:00.000Z', '2022-05-05T00:00:00.000Z', '2022-05-06T00:00:00.000Z', '2022-05-07T00:00:00.000Z']\n",
    "end = ['2022-05-01T23:59:59.000Z', '2022-05-02T23:59:59.000Z', '2022-05-03T23:59:59.000Z', '2022-05-04T23:59:59.000Z', '2022-05-05T23:59:59.000Z', '2022-05-06T23:59:59.000Z', '2022-05-07T23:59:59.000Z']\n",
    "\n",
    "\n",
    "#input max results / counts, and path \n",
    "mresults = 500 # max tweets per json response (100-500)\n",
    "mcount = 500 # max tweets per search period \n",
    "#run the search! \n",
    "for k in input_keywords:\n",
    "    filename = re.sub(r\"([^A-Za-z0-9]+)\", '', k) + f'_{start[0][0:10]}' + f'_{end[-1][6:10]}'\n",
    "    filename = re.sub(r\"isretweet\", '', filename)\n",
    "    prediction_twitter = LogRegSearches.search_twitter(token, k, start, end, mresults, mcount, filename)\n",
    "\n",
    "#today = date.today()\n",
    "#week_ago = today - timedelta(days=7)\n",
    "#start = [week_ago.strftime(\"%Y-%m-%dT%H:%M:%S.000Z\")]\n",
    "#end = [today.strftime(\"%Y-%m-%dT%H:%M:%S.000Z\")]"
   ]
  },
  {
   "cell_type": "markdown",
   "metadata": {},
   "source": [
    "## Classify tweets"
   ]
  },
  {
   "cell_type": "code",
   "execution_count": 22,
   "metadata": {},
   "outputs": [
    {
     "name": "stdout",
     "output_type": "stream",
     "text": [
      "Total tweets to classify: 2466\n"
     ]
    }
   ],
   "source": [
    "#load all search results into a single dataframe \n",
    "classified_tweets = LogRegSearches.tweets_to_classify(path, '2022-01-01_3-31.pkl')"
   ]
  },
  {
   "cell_type": "code",
   "execution_count": 28,
   "metadata": {},
   "outputs": [
    {
     "name": "stdout",
     "output_type": "stream",
     "text": [
      "Total tweets classified: 611\n"
     ]
    }
   ],
   "source": [
    "#run classification and get links from results\n",
    "predicted_tweets, twitter_link_list = LogRegSearches.predict_twitter(path, 'twitter_v1_10maxfeats', classified_tweets, 'tweet', 1, '')"
   ]
  },
  {
   "cell_type": "code",
   "execution_count": 10,
   "metadata": {},
   "outputs": [
    {
     "data": {
      "text/html": [
       "<div>\n",
       "<style scoped>\n",
       "    .dataframe tbody tr th:only-of-type {\n",
       "        vertical-align: middle;\n",
       "    }\n",
       "\n",
       "    .dataframe tbody tr th {\n",
       "        vertical-align: top;\n",
       "    }\n",
       "\n",
       "    .dataframe thead th {\n",
       "        text-align: right;\n",
       "    }\n",
       "</style>\n",
       "<table border=\"1\" class=\"dataframe\">\n",
       "  <thead>\n",
       "    <tr style=\"text-align: right;\">\n",
       "      <th></th>\n",
       "      <th>tweet</th>\n",
       "      <th>Prediction</th>\n",
       "      <th>Score</th>\n",
       "      <th>Probability</th>\n",
       "      <th>Input Length</th>\n",
       "      <th>URL</th>\n",
       "      <th>Search KW</th>\n",
       "      <th>tweet date</th>\n",
       "    </tr>\n",
       "  </thead>\n",
       "  <tbody>\n",
       "    <tr>\n",
       "      <th>0</th>\n",
       "      <td>https://t.co/OkEHI6XQu3 Music archive Wolfgang...</td>\n",
       "      <td>1</td>\n",
       "      <td>14.077947</td>\n",
       "      <td>0.999999</td>\n",
       "      <td>139</td>\n",
       "      <td>http://www.opusip.co.uk/2022/01/25/music-archi...</td>\n",
       "      <td>\"music archive\" -is:retweet</td>\n",
       "      <td>2022-01-26</td>\n",
       "    </tr>\n",
       "    <tr>\n",
       "      <th>1</th>\n",
       "      <td>IUMA (Internet Underground Music Archive) Coll...</td>\n",
       "      <td>1</td>\n",
       "      <td>13.847835</td>\n",
       "      <td>0.999999</td>\n",
       "      <td>76</td>\n",
       "      <td>https://ift.tt/33IiRug</td>\n",
       "      <td>\"music archive\" -is:retweet</td>\n",
       "      <td>2022-01-24</td>\n",
       "    </tr>\n",
       "    <tr>\n",
       "      <th>2</th>\n",
       "      <td>IUMA (Internet Underground Music Archive) Coll...</td>\n",
       "      <td>1</td>\n",
       "      <td>13.847835</td>\n",
       "      <td>0.999999</td>\n",
       "      <td>80</td>\n",
       "      <td>https://ift.tt/3Asqwc9</td>\n",
       "      <td>\"music archive\" -is:retweet</td>\n",
       "      <td>2022-01-24</td>\n",
       "    </tr>\n",
       "    <tr>\n",
       "      <th>3</th>\n",
       "      <td>Music archive Wolfgang's Vault resolves copyri...</td>\n",
       "      <td>1</td>\n",
       "      <td>13.728025</td>\n",
       "      <td>0.999999</td>\n",
       "      <td>113</td>\n",
       "      <td>https://www.reuters.com/legal/transactional/mu...</td>\n",
       "      <td>\"music archive\" -is:retweet</td>\n",
       "      <td>2022-01-25</td>\n",
       "    </tr>\n",
       "    <tr>\n",
       "      <th>4</th>\n",
       "      <td>Music archive Wolfgang's Vault resolves copyri...</td>\n",
       "      <td>1</td>\n",
       "      <td>13.728025</td>\n",
       "      <td>0.999999</td>\n",
       "      <td>103</td>\n",
       "      <td>https://www.reuters.com/legal/transactional/mu...</td>\n",
       "      <td>\"music archive\" -is:retweet</td>\n",
       "      <td>2022-01-25</td>\n",
       "    </tr>\n",
       "    <tr>\n",
       "      <th>...</th>\n",
       "      <td>...</td>\n",
       "      <td>...</td>\n",
       "      <td>...</td>\n",
       "      <td>...</td>\n",
       "      <td>...</td>\n",
       "      <td>...</td>\n",
       "      <td>...</td>\n",
       "      <td>...</td>\n",
       "    </tr>\n",
       "    <tr>\n",
       "      <th>603</th>\n",
       "      <td>Wreckers of Civilization : Marcus Werner Hed a...</td>\n",
       "      <td>1</td>\n",
       "      <td>0.039432</td>\n",
       "      <td>0.509857</td>\n",
       "      <td>281</td>\n",
       "      <td>http://dlvr.it/SKmCvD</td>\n",
       "      <td>\"oral history\" -is:retweet</td>\n",
       "      <td>2022-02-27</td>\n",
       "    </tr>\n",
       "    <tr>\n",
       "      <th>604</th>\n",
       "      <td>is reading \"https://t.co/s35k9d1vtn\" https://...</td>\n",
       "      <td>1</td>\n",
       "      <td>0.034007</td>\n",
       "      <td>0.508501</td>\n",
       "      <td>61</td>\n",
       "      <td>https://ift.tt/GneE8yI, https://ift.tt/jaWQXrt</td>\n",
       "      <td>\"oral history\" -is:retweet</td>\n",
       "      <td>2022-02-27</td>\n",
       "    </tr>\n",
       "    <tr>\n",
       "      <th>605</th>\n",
       "      <td>Our special ProsweetsCologne edition of Intern...</td>\n",
       "      <td>1</td>\n",
       "      <td>0.028407</td>\n",
       "      <td>0.507101</td>\n",
       "      <td>242</td>\n",
       "      <td>https://in-confectionery.com/january-2022-sing...</td>\n",
       "      <td>\"digital edition\" -is:retweet</td>\n",
       "      <td>2022-01-30</td>\n",
       "    </tr>\n",
       "    <tr>\n",
       "      <th>606</th>\n",
       "      <td>How annoying Kim. Check out https://t.co/pHXp...</td>\n",
       "      <td>1</td>\n",
       "      <td>0.018098</td>\n",
       "      <td>0.504524</td>\n",
       "      <td>119</td>\n",
       "      <td>https://www.bt.com/help/tv/fix-a-problem/recor...</td>\n",
       "      <td>\"sound recording\" -is:retweet</td>\n",
       "      <td>2022-03-29</td>\n",
       "    </tr>\n",
       "    <tr>\n",
       "      <th>607</th>\n",
       "      <td>On this day in music history: February 27, 197...</td>\n",
       "      <td>1</td>\n",
       "      <td>0.002661</td>\n",
       "      <td>0.500665</td>\n",
       "      <td>199</td>\n",
       "      <td>https://www.patreon.com/posts/on-this-day-in-6...</td>\n",
       "      <td>\"music history\" -is:retweet</td>\n",
       "      <td>2022-02-27</td>\n",
       "    </tr>\n",
       "  </tbody>\n",
       "</table>\n",
       "<p>608 rows × 8 columns</p>\n",
       "</div>"
      ],
      "text/plain": [
       "                                                 tweet  Prediction      Score  \\\n",
       "0    https://t.co/OkEHI6XQu3 Music archive Wolfgang...           1  14.077947   \n",
       "1    IUMA (Internet Underground Music Archive) Coll...           1  13.847835   \n",
       "2    IUMA (Internet Underground Music Archive) Coll...           1  13.847835   \n",
       "3    Music archive Wolfgang's Vault resolves copyri...           1  13.728025   \n",
       "4    Music archive Wolfgang's Vault resolves copyri...           1  13.728025   \n",
       "..                                                 ...         ...        ...   \n",
       "603  Wreckers of Civilization : Marcus Werner Hed a...           1   0.039432   \n",
       "604   is reading \"https://t.co/s35k9d1vtn\" https://...           1   0.034007   \n",
       "605  Our special ProsweetsCologne edition of Intern...           1   0.028407   \n",
       "606   How annoying Kim. Check out https://t.co/pHXp...           1   0.018098   \n",
       "607  On this day in music history: February 27, 197...           1   0.002661   \n",
       "\n",
       "     Probability  Input Length  \\\n",
       "0       0.999999           139   \n",
       "1       0.999999            76   \n",
       "2       0.999999            80   \n",
       "3       0.999999           113   \n",
       "4       0.999999           103   \n",
       "..           ...           ...   \n",
       "603     0.509857           281   \n",
       "604     0.508501            61   \n",
       "605     0.507101           242   \n",
       "606     0.504524           119   \n",
       "607     0.500665           199   \n",
       "\n",
       "                                                   URL  \\\n",
       "0    http://www.opusip.co.uk/2022/01/25/music-archi...   \n",
       "1                               https://ift.tt/33IiRug   \n",
       "2                               https://ift.tt/3Asqwc9   \n",
       "3    https://www.reuters.com/legal/transactional/mu...   \n",
       "4    https://www.reuters.com/legal/transactional/mu...   \n",
       "..                                                 ...   \n",
       "603                              http://dlvr.it/SKmCvD   \n",
       "604     https://ift.tt/GneE8yI, https://ift.tt/jaWQXrt   \n",
       "605  https://in-confectionery.com/january-2022-sing...   \n",
       "606  https://www.bt.com/help/tv/fix-a-problem/recor...   \n",
       "607  https://www.patreon.com/posts/on-this-day-in-6...   \n",
       "\n",
       "                         Search KW  tweet date  \n",
       "0      \"music archive\" -is:retweet  2022-01-26  \n",
       "1      \"music archive\" -is:retweet  2022-01-24  \n",
       "2      \"music archive\" -is:retweet  2022-01-24  \n",
       "3      \"music archive\" -is:retweet  2022-01-25  \n",
       "4      \"music archive\" -is:retweet  2022-01-25  \n",
       "..                             ...         ...  \n",
       "603     \"oral history\" -is:retweet  2022-02-27  \n",
       "604     \"oral history\" -is:retweet  2022-02-27  \n",
       "605  \"digital edition\" -is:retweet  2022-01-30  \n",
       "606  \"sound recording\" -is:retweet  2022-03-29  \n",
       "607    \"music history\" -is:retweet  2022-02-27  \n",
       "\n",
       "[608 rows x 8 columns]"
      ]
     },
     "execution_count": 10,
     "metadata": {},
     "output_type": "execute_result"
    }
   ],
   "source": [
    "predicted_tweets"
   ]
  },
  {
   "cell_type": "markdown",
   "metadata": {},
   "source": [
    "## Scrape URLS"
   ]
  },
  {
   "cell_type": "code",
   "execution_count": 11,
   "metadata": {},
   "outputs": [
    {
     "name": "stdout",
     "output_type": "stream",
     "text": [
      "1 http://www.opusip.co.uk/2022/01/25/music-archive-wolfgangs-vault-resolves-copyright-fight-over-concert-recordings-2022-01-25/\n"
     ]
    },
    {
     "name": "stderr",
     "output_type": "stream",
     "text": [
      "Your max_length is set to 120, but you input_length is only 99. You might consider decreasing max_length manually, e.g. summarizer('...', max_length=49)\n"
     ]
    },
    {
     "name": "stdout",
     "output_type": "stream",
     "text": [
      "2 https://ift.tt/33IiRug\n"
     ]
    },
    {
     "name": "stderr",
     "output_type": "stream",
     "text": [
      "Your max_length is set to 120, but you input_length is only 99. You might consider decreasing max_length manually, e.g. summarizer('...', max_length=49)\n"
     ]
    },
    {
     "name": "stdout",
     "output_type": "stream",
     "text": [
      "3 https://ift.tt/3Asqwc9\n",
      "4 https://www.reuters.com/legal/transactional/music-archive-wolfgangs-vault-resolves-copyright-fight-over-concert-recordings-2022-01-25/?utm_source=dlvr.it&utm_medium=twitter\n",
      "5 https://www.reuters.com/legal/transactional/music-archive-wolfgangs-vault-resolves-copyright-fight-over-concert-recordings-2022-01-25/\n",
      "6 https://archive.org/details/iuma-archive\n",
      "7 https://pointblankdigital.shop/british-library-sound-archive-to-archive-our-music-catalogue/\n"
     ]
    },
    {
     "name": "stderr",
     "output_type": "stream",
     "text": [
      "Token indices sequence length is longer than the specified maximum sequence length for this model (1096 > 1024). Running this sequence through the model will result in indexing errors\n"
     ]
    },
    {
     "name": "stdout",
     "output_type": "stream",
     "text": [
      "8 https://orionlibrary.org/idigorion/\n",
      "9 https://shop.line.me/@156nhver/collection/51040\n",
      "10 https://www.dlsite.com/home/dlaf/=/t/s/link/work/aid/dlsiteyuki21/id/RJ280204.html\n",
      "11 https://archive.org/details/stgigaarchive\n",
      "12 http://fma.org\n"
     ]
    },
    {
     "name": "stderr",
     "output_type": "stream",
     "text": [
      "Your max_length is set to 120, but you input_length is only 69. You might consider decreasing max_length manually, e.g. summarizer('...', max_length=34)\n"
     ]
    },
    {
     "name": "stdout",
     "output_type": "stream",
     "text": [
      "13 https://sound-effects.bbcrewind.co.uk/\n",
      "14 https://apps.gtarcade.com/v1/#/post/53386?anchor=comment\n",
      "15 https://apps.gtarcade.com/v1/#/post/53386?anchor=\n"
     ]
    },
    {
     "name": "stderr",
     "output_type": "stream",
     "text": [
      "Your max_length is set to 120, but you input_length is only 61. You might consider decreasing max_length manually, e.g. summarizer('...', max_length=30)\n"
     ]
    },
    {
     "name": "stdout",
     "output_type": "stream",
     "text": [
      "16 https://nursinggrademiners.com/sampleessay/music-research-paper/\n",
      "17 https://www.votefeed.com/video/play/31036/beautiful-relaxing-and-healing-music-xiao-and-bamboo-flute-instrumental-mus/\n",
      "18 https://www.raymondjamesconnect.com/tWrw38\n",
      "19 https://pastdaily.com/2022/01/30/the-pascal-quartet-play-music-of-guy-ropartz-1950-past-daily-weekend-gramophone/\n",
      "20 https://m.neilyoungarchives.com/account/plans\n",
      "21 https://deephousenews.com/2017/10/23/crackazat-called-my-name-original-mix/\n",
      "22 https://www.saada.org/tides/article/i-am-my-own-savior\n",
      "23 https://globalvacancies.org/job/phd-studentships-digital-archive-of-the-middle-east-dame-institute-of-arab-and-islamic-studies-2/?feed_id=5812&_unique_id=6218ec58d5802\n",
      "24 https://www.boyculture.com/boy_culture/2022/02/levar-burton-gay-eric-adams-kill-gays-uganda-music-archive-fire-island-shirtless.html\n",
      "25 https://pastdaily.com/2021/04/25/jeanne-gautier-and-yvonne-lefebure-play-music-of-ravel-1953-past-daily-weekend-gramophone/\n"
     ]
    },
    {
     "name": "stderr",
     "output_type": "stream",
     "text": [
      "Your max_length is set to 120, but you input_length is only 35. You might consider decreasing max_length manually, e.g. summarizer('...', max_length=17)\n"
     ]
    },
    {
     "name": "stdout",
     "output_type": "stream",
     "text": [
      "26 https://buff.ly/3uH3N9W\n"
     ]
    },
    {
     "name": "stderr",
     "output_type": "stream",
     "text": [
      "Your max_length is set to 120, but you input_length is only 92. You might consider decreasing max_length manually, e.g. summarizer('...', max_length=46)\n"
     ]
    },
    {
     "name": "stdout",
     "output_type": "stream",
     "text": [
      "27 https://www.dancemusicarchive.com/dmamaster/Oliver-Heldens-live-%40-Ultra-Music-Festival-Miami-2015\n",
      "28 https://www.pond5.com/item/170386811\n"
     ]
    },
    {
     "name": "stderr",
     "output_type": "stream",
     "text": [
      "Your max_length is set to 120, but you input_length is only 32. You might consider decreasing max_length manually, e.g. summarizer('...', max_length=16)\n"
     ]
    },
    {
     "name": "stdout",
     "output_type": "stream",
     "text": [
      "29 https://tickets.nfsa.gov.au/Events/Space-Faring-Civilisation-Film-Festival?fbclid=IwAR1cypZsK2UJ8hKCt4cANnW3g-RrsnGaXkMt_onUHMNvjwK1E-VwsegjgTU\n",
      "30 https://www.jbhe.com/2022/03/san-diego-state-university-decides-not-to-accept-the-donation-of-a-black-music-archive/\n",
      "31 https://music.tagirijus.de\n",
      "32 https://www.mdmarchive.co.uk/exhibition/716/andrew-weatherall-a-herbal-tea-party-celebration?fbclid=IwAR26dCtyAfUO1jmjhRvMXGIieJkMTNdUYJHAJ3YDWH4th957Wiy0gYoVOvM\n",
      "33 http://www.noise11.com/news/national-film-and-sound-archive-of-australia-restore-the-original-helen-reddy-i-am-woman-video-20220322\n",
      "34 http://ballsackradio.com\n"
     ]
    },
    {
     "name": "stderr",
     "output_type": "stream",
     "text": [
      "Your max_length is set to 120, but you input_length is only 82. You might consider decreasing max_length manually, e.g. summarizer('...', max_length=41)\n"
     ]
    },
    {
     "name": "stdout",
     "output_type": "stream",
     "text": [
      "35 https://www.nfsa.gov.au/collection/curated/muriels-wedding\n",
      "36 https://t1p.de/w6jn\n",
      "37 https://livemusicarchive.app/music/artists/moe/recordings/moe2013-03-23.late\n",
      "38 https://www.forbes.com/sites/evaamsen/2022/01/31/you-use-the-language-area-of-your-brain-when-listening-to-music/\n"
     ]
    },
    {
     "name": "stderr",
     "output_type": "stream",
     "text": [
      "Your max_length is set to 120, but you input_length is only 67. You might consider decreasing max_length manually, e.g. summarizer('...', max_length=33)\n"
     ]
    },
    {
     "name": "stdout",
     "output_type": "stream",
     "text": [
      "39 https://pastdaily.com/2022/03/20/dexter-gordon-live-in-berlin-1967-past-daily-downbeat/\n",
      "40 https://pastdaily.com/2018/09/26/luciano-berio-with-the-swingle-singers-and-the-boston-symphony-play-music-of-boccherini-bach-and-berio-1982-past-daily-mid-week-concert/\n",
      "41 https://www.nfsa.gov.au/about/what-we-collect/oral-history\n",
      "42 https://pastdaily.com/2021/08/25/rudolf-serkin-with-edo-dewaart-and-the-san-francisco-symphony-gala-opening-of-louise-m-davies-hall-1980-past-daily-mid-week-concert/\n"
     ]
    },
    {
     "name": "stderr",
     "output_type": "stream",
     "text": [
      "Your max_length is set to 120, but you input_length is only 119. You might consider decreasing max_length manually, e.g. summarizer('...', max_length=59)\n"
     ]
    },
    {
     "name": "stdout",
     "output_type": "stream",
     "text": [
      "43 https://bit.ly/3IKMqK7\n",
      "44 https://talesfromthebraziersgrotto.wordpress.com/2022/01/28/music-archive-part-xiv-hide-with-spread-beaver-rocket-dive-universal-victor-1998/\n",
      "45 https://archive.org/details/mwalk06\n",
      "46 https://music.sleevenote.com/@ade\n",
      "47 https://teia.art/kramer\n",
      "48 https://buff.ly/3hMbFAQ\n",
      "49 https://newindia24news.com/new-digital-archive-promotes-south-indian-visual-artists-and-their-works/\n",
      "50 https://talesfromthebraziersgrotto.wordpress.com/2022/03/24/music-archive-part-xvi-hide-tell-me-mca-victor-1994/\n",
      "51 https://www.musiceternal.com/News/2022/Florida-Sound-Archive-With-Sam-Rosenthal-20220126\n",
      "52 https://creativecommons.org/licenses/by-nc-sa/4.0/\n",
      "53 https://www.noise11.com/news/national-film-and-sound-archive-of-australia-restore-the-original-helen-reddy-i-am-woman-video-20220322\n",
      "54 https://ift.tt/W1H3LYZ\n",
      "55 https://en.wikipedia.org/wiki/FabricLive.07\n",
      "56 https://www.identificationofmusic.com/iom-news/2022/2/16/mumdance-releases-extensive-music-archive\n",
      "57 https://australianmusician.com.au/youre-invited-to-a-live-music-in-regional-australia-session/\n",
      "58 https://bit.ly/3rrgHZ5\n",
      "59 http://dlvr.it/SMY0Cw\n",
      "60 http://dlvr.it/SJ3vRm\n",
      "61 https://ift.tt/jqy3TYGhV\n",
      "62 http://bit.ly/NAfME2022\n",
      "63 https://lipa.access.preservica.com\n",
      "64 https://djandyward.net/talking-to-justin-bond-bonds-nightclub-jez-collins-birmingham-music-archive-brum-as-fck/\n",
      "65 https://soundiiz.com\n",
      "66 https://talesfromthebraziersgrotto.wordpress.com/2022/02/23/music-archive-part-xv-hide-hide-your-face-mca-victor-1994/\n",
      "67 https://thequietus.com/articles/31123-mumdance-shares-vast-music-archive-online\n",
      "68 http://createhq.com\n",
      "69 https://livemusicarchive.app/music/artists/GratefulDead/recordings/gd1972-03-23.sbd.miller.100000.sbeok.flac16\n",
      "70 https://livemusicarchive.app/music/artists/GooseBand/recordings/goose2022-02-26\n",
      "71 https://imperialglobalexeter.com/2018/11/26/amazing-new-digital-archive-of-political-maps-for-imperial-and-global-historians/\n",
      "72 https://www.teresabarrozo.com/post/the-british-library-sound-achive\n",
      "73 https://buff.ly/3qFxCXi\n",
      "74 http://digital-archive.kilkenny.ie\n"
     ]
    },
    {
     "name": "stderr",
     "output_type": "stream",
     "text": [
      "Your max_length is set to 120, but you input_length is only 116. You might consider decreasing max_length manually, e.g. summarizer('...', max_length=58)\n"
     ]
    },
    {
     "name": "stdout",
     "output_type": "stream",
     "text": [
      "75 https://theconversation.com/digital-sound-archives-can-bring-extinct-birds-briefly-back-to-life-176115\n"
     ]
    },
    {
     "name": "stderr",
     "output_type": "stream",
     "text": [
      "Your max_length is set to 120, but you input_length is only 68. You might consider decreasing max_length manually, e.g. summarizer('...', max_length=34)\n"
     ]
    },
    {
     "name": "stdout",
     "output_type": "stream",
     "text": [
      "76 https://contact-keith.wixsite.com/celtic-cd-releases?pgid=kc8wzmjt-35d07cbc-3355-4ba5-a982-b8cb0a69fe63\n"
     ]
    },
    {
     "name": "stderr",
     "output_type": "stream",
     "text": [
      "Your max_length is set to 120, but you input_length is only 69. You might consider decreasing max_length manually, e.g. summarizer('...', max_length=34)\n"
     ]
    },
    {
     "name": "stdout",
     "output_type": "stream",
     "text": [
      "77 https://midtermessays.com/image-storage-requirements-can-be-reduced-with-____-compression-techniques-bit-map-c-midi-file-b-additive-file-d/\n",
      "78 https://bit.ly/35lYyni\n",
      "79 https://www.nme.com/news/music/neil-young-14-1226510\n",
      "80 https://bit.ly/3IK8eFM\n",
      "81 http://rver.se/fanresearch2022\n",
      "82 https://www.marcrhayes.com/post/a-summary-of-ofsted-s-music-report-for-teachers-and-leaders\n",
      "83 https://cincinnatilibrary.bibliocommons.com/v2/record/S170C1857835\n",
      "84 https://livemusicarchive.app/music/artists/BobWeir/recordings/bw2022-03-24.peluso.flac24\n",
      "85 https://www.nfsa.gov.au/collection/curated\n"
     ]
    },
    {
     "name": "stderr",
     "output_type": "stream",
     "text": [
      "Your max_length is set to 120, but you input_length is only 71. You might consider decreasing max_length manually, e.g. summarizer('...', max_length=35)\n"
     ]
    },
    {
     "name": "stdout",
     "output_type": "stream",
     "text": [
      "86 https://beatfoundry.xyz\n",
      "87 https://catholicarchivesociety.org/2022/01/22/the-leonard-cheshire-historic-sound-archive-%ef%bf%bc/\n",
      "88 http://bit.ly/362rXms\n",
      "89 https://playbill.com/article/watch-and-listen-an-evolving-archive-at-the-chamber-music-society\n",
      "90 https://issuu.com/odouglasj?issuu_product=header&issuu_context=link&issuu_cta=profile\n",
      "91 https://natlib.govt.nz/blog/posts/download-now-free\n"
     ]
    },
    {
     "name": "stderr",
     "output_type": "stream",
     "text": [
      "Your max_length is set to 120, but you input_length is only 104. You might consider decreasing max_length manually, e.g. summarizer('...', max_length=52)\n"
     ]
    },
    {
     "name": "stdout",
     "output_type": "stream",
     "text": [
      "92 https://music-for-video.com/royaltyfreemusic/easy-lounge\n",
      "93 https://www.mdmarchive.co.uk/exhibitions.php\n",
      "94 https://www.hollylist.com/jobs/m5thu6C5gah7Eb8tK\n"
     ]
    },
    {
     "name": "stderr",
     "output_type": "stream",
     "text": [
      "Your max_length is set to 120, but you input_length is only 80. You might consider decreasing max_length manually, e.g. summarizer('...', max_length=40)\n"
     ]
    },
    {
     "name": "stdout",
     "output_type": "stream",
     "text": [
      "95 http://j.mp/3b4aGay\n",
      "96 https://www.fourcornersbooks.co.uk/articles/the-library-of-bootlegs\n",
      "97 https://www.york.ac.uk/study/international/fees-funding/be-exceptional-scholarships/\n",
      "98 https://news.sunsetmusicsupervision.com/2022/03/29/dynamyte-come-thru-indiepulse-music-magazine/\n",
      "99 https://news.jamfestradio.com/2022/03/29/hot-half-dozen-3-29-22-indiepulse-music-magazine/\n",
      "100 https://imgur.com/a/fbmLz6k/\n",
      "101 https://www.dancemusicarchive.com/radioshow\n"
     ]
    },
    {
     "name": "stderr",
     "output_type": "stream",
     "text": [
      "Your max_length is set to 120, but you input_length is only 114. You might consider decreasing max_length manually, e.g. summarizer('...', max_length=57)\n"
     ]
    },
    {
     "name": "stdout",
     "output_type": "stream",
     "text": [
      "102 https://archives.library.wales/index.php/y-glomen\n",
      "103 https://www.exeter.ac.uk/study/funding/award/?id=4432\n",
      "104 https://www.thebbrm.org/\n",
      "105 https://www.thenational.wales/news/20030535.cardigan-castle---castell-aberteifi-opening-new-research-facility-april/\n",
      "106 https://objkt.com/collection/KT1N1zPreiu3ANMizC44tkfcKdnsjop67qts\n",
      "107 http://www.walterscott.lib.ed.ac.uk/home.html\n"
     ]
    },
    {
     "name": "stderr",
     "output_type": "stream",
     "text": [
      "Your max_length is set to 120, but you input_length is only 87. You might consider decreasing max_length manually, e.g. summarizer('...', max_length=43)\n"
     ]
    },
    {
     "name": "stdout",
     "output_type": "stream",
     "text": [
      "108 https://www.ism.org/my-ism/your-discounts/grove\n"
     ]
    },
    {
     "name": "stderr",
     "output_type": "stream",
     "text": [
      "Your max_length is set to 120, but you input_length is only 102. You might consider decreasing max_length manually, e.g. summarizer('...', max_length=51)\n"
     ]
    },
    {
     "name": "stdout",
     "output_type": "stream",
     "text": [
      "109 https://www.sd.net/blogs/archive/03302022-sd-board-of-regents/\n"
     ]
    },
    {
     "name": "stderr",
     "output_type": "stream",
     "text": [
      "Your max_length is set to 120, but you input_length is only 78. You might consider decreasing max_length manually, e.g. summarizer('...', max_length=39)\n"
     ]
    },
    {
     "name": "stdout",
     "output_type": "stream",
     "text": [
      "110 http://bit.ly/2VW04qo\n"
     ]
    },
    {
     "name": "stderr",
     "output_type": "stream",
     "text": [
      "Your max_length is set to 120, but you input_length is only 65. You might consider decreasing max_length manually, e.g. summarizer('...', max_length=32)\n"
     ]
    },
    {
     "name": "stdout",
     "output_type": "stream",
     "text": [
      "111 https://goodiespodcast.libsyn.com/166-sally-wilton-on-bill-oddies-music\n",
      "112 https://exacted.me/SlightlyFoxedForInstitutions\n"
     ]
    },
    {
     "name": "stderr",
     "output_type": "stream",
     "text": [
      "Your max_length is set to 120, but you input_length is only 66. You might consider decreasing max_length manually, e.g. summarizer('...', max_length=33)\n"
     ]
    },
    {
     "name": "stdout",
     "output_type": "stream",
     "text": [
      "113 http://www.foundsoundcycling.co.uk/\n",
      "114 https://tinyurl.com/6h6hytdb\n",
      "115 https://www.nfsa.gov.au/\n",
      "116 https://ocean-archive.org/story/silent-whale-letters\n",
      "117 https://www.ed.ac.uk/edinburgh-college-art/reid-school-music/research-seminars/music/yvonne-liao\n",
      "118 https://www.whizz-kidz.org.uk/charity/30-years-30-stories/miro-story\n",
      "119 https://bit.ly/3BSFWHB\n"
     ]
    },
    {
     "name": "stderr",
     "output_type": "stream",
     "text": [
      "Your max_length is set to 120, but you input_length is only 91. You might consider decreasing max_length manually, e.g. summarizer('...', max_length=45)\n"
     ]
    },
    {
     "name": "stdout",
     "output_type": "stream",
     "text": [
      "120 https://bit.ly/3o7RIYS\n",
      "121 http://KISSFMUK.COM\n"
     ]
    },
    {
     "name": "stderr",
     "output_type": "stream",
     "text": [
      "Your max_length is set to 120, but you input_length is only 81. You might consider decreasing max_length manually, e.g. summarizer('...', max_length=40)\n"
     ]
    },
    {
     "name": "stdout",
     "output_type": "stream",
     "text": [
      "122 https://bit.ly/APFTPep6\n",
      "123 https://tabsoft.co/36udGPN\n",
      "124 https://www.ed.ac.uk/edinburgh-college-art/reid-school-music/research-seminars/music/fabrice-fitch\n",
      "125 https://www.nfsa.gov.au/collection/curated/waltzing-matilda-0\n",
      "126 https://bit.ly/3qsBkDn\n",
      "127 https://losscaptureproject.cargo.site/More-than-a-Melody-Reimagining-the-Sounds-of-Blackness\n",
      "128 https://rainwatertornado.cloud/collections/pony-music-archive/\n",
      "129 http://www.bristol.ac.uk/theatre-collection/caring-for-your-theatre--live-art-records/caring-for-your-own-records/\n"
     ]
    },
    {
     "name": "stderr",
     "output_type": "stream",
     "text": [
      "Your max_length is set to 120, but you input_length is only 96. You might consider decreasing max_length manually, e.g. summarizer('...', max_length=48)\n"
     ]
    },
    {
     "name": "stdout",
     "output_type": "stream",
     "text": [
      "130 https://www.armenianmuseum.org/sound-archive-2021-year-in-review\n",
      "131 https://bit.ly/3p7Whmx\n",
      "132 https://objkt.com/asset/KT1N1zPreiu3ANMizC44tkfcKdnsjop67qts/8, https://objkt.com/asset/KT1N1zPreiu3ANMizC44tkfcKdnsjop67qts/9\n",
      "133 https://www.globeboss.com/new-digital-archive-reclaims-lost-jewish-history-israel-hayom/?feed_id=14242&_unique_id=61f5f268ea0ae\n",
      "134 https://reut.rs/3KHTGJ3\n",
      "135 http://conference.measureofmusic.com\n",
      "136 http://DaytonMetroLibrary.org/research/databases/history\n",
      "137 https://aec-music.eu/news-article/experimentation-and-beyond-in-music-research-forum-porto-portugal-15-16-april-2022/\n",
      "138 https://bit.ly/NinthAnnualRobertKellyMemorialLecture\n",
      "139 https://www.rollingstone.co.uk/music/british-library-to-track-600-years-of-black-british-music-for-new-exhibition-9690/\n",
      "140 https://exbulletin.com/world/health/1524410/\n"
     ]
    },
    {
     "name": "stderr",
     "output_type": "stream",
     "text": [
      "Your max_length is set to 120, but you input_length is only 112. You might consider decreasing max_length manually, e.g. summarizer('...', max_length=56)\n"
     ]
    },
    {
     "name": "stdout",
     "output_type": "stream",
     "text": [
      "141 https://www.intotheoutside.org.uk/\n"
     ]
    },
    {
     "name": "stderr",
     "output_type": "stream",
     "text": [
      "Your max_length is set to 120, but you input_length is only 81. You might consider decreasing max_length manually, e.g. summarizer('...', max_length=40)\n"
     ]
    },
    {
     "name": "stdout",
     "output_type": "stream",
     "text": [
      "142 https://cincinnatilibrary.bibliocommons.com/v2/record/S170C2625353\n",
      "143 https://bit.ly/341EHcg\n",
      "144 https://www.loc.gov/programs/national-recording-preservation-plan/about-this-program/radio-preservation-task-force/current-projects/sound-submissions/\n",
      "145 http://web.archive.org\n",
      "146 http://suzywildeshow.com\n",
      "147 http://blackfilmarchive.com\n"
     ]
    },
    {
     "name": "stderr",
     "output_type": "stream",
     "text": [
      "Your max_length is set to 120, but you input_length is only 70. You might consider decreasing max_length manually, e.g. summarizer('...', max_length=35)\n"
     ]
    },
    {
     "name": "stdout",
     "output_type": "stream",
     "text": [
      "148 https://cincinnatilibrary.bibliocommons.com/v2/record/S170C2925059\n",
      "149 https://rockcritics.com/2013/03/29/from-the-archives-paul-williams-2001/\n",
      "150 https://blog.nls.uk/the-oscars-come-to-the-national-library/\n"
     ]
    },
    {
     "name": "stderr",
     "output_type": "stream",
     "text": [
      "Your max_length is set to 120, but you input_length is only 60. You might consider decreasing max_length manually, e.g. summarizer('...', max_length=30)\n"
     ]
    },
    {
     "name": "stdout",
     "output_type": "stream",
     "text": [
      "151 https://cincinnatilibrary.bibliocommons.com/v2/record/S170C2724724\n",
      "152 https://chroniclingamerica.loc.gov/\n"
     ]
    },
    {
     "name": "stderr",
     "output_type": "stream",
     "text": [
      "Your max_length is set to 120, but you input_length is only 68. You might consider decreasing max_length manually, e.g. summarizer('...', max_length=34)\n"
     ]
    },
    {
     "name": "stdout",
     "output_type": "stream",
     "text": [
      "153 https://cincinnatilibrary.bibliocommons.com/v2/record/S170C3468000\n"
     ]
    },
    {
     "name": "stderr",
     "output_type": "stream",
     "text": [
      "Your max_length is set to 120, but you input_length is only 83. You might consider decreasing max_length manually, e.g. summarizer('...', max_length=41)\n"
     ]
    },
    {
     "name": "stdout",
     "output_type": "stream",
     "text": [
      "154 https://cincinnatilibrary.bibliocommons.com/v2/record/S170C2706837\n",
      "155 https://cincinnatilibrary.bibliocommons.com/v2/record/S170C2681008\n"
     ]
    },
    {
     "name": "stderr",
     "output_type": "stream",
     "text": [
      "Your max_length is set to 120, but you input_length is only 67. You might consider decreasing max_length manually, e.g. summarizer('...', max_length=33)\n"
     ]
    },
    {
     "name": "stdout",
     "output_type": "stream",
     "text": [
      "156 https://cincinnatilibrary.bibliocommons.com/v2/record/S170C2629312\n"
     ]
    },
    {
     "name": "stderr",
     "output_type": "stream",
     "text": [
      "Your max_length is set to 120, but you input_length is only 36. You might consider decreasing max_length manually, e.g. summarizer('...', max_length=18)\n"
     ]
    },
    {
     "name": "stdout",
     "output_type": "stream",
     "text": [
      "157 https://www.mymagazinesub.co.uk/he-naturist/\n",
      "158 https://cincinnatilibrary.bibliocommons.com/v2/record/S170C2503999\n"
     ]
    },
    {
     "name": "stderr",
     "output_type": "stream",
     "text": [
      "Your max_length is set to 120, but you input_length is only 73. You might consider decreasing max_length manually, e.g. summarizer('...', max_length=36)\n"
     ]
    },
    {
     "name": "stdout",
     "output_type": "stream",
     "text": [
      "159 https://bit.ly/3KSkk16\n",
      "160 http://livestreamingmusic.uk\n"
     ]
    },
    {
     "name": "stderr",
     "output_type": "stream",
     "text": [
      "Your max_length is set to 120, but you input_length is only 79. You might consider decreasing max_length manually, e.g. summarizer('...', max_length=39)\n"
     ]
    },
    {
     "name": "stdout",
     "output_type": "stream",
     "text": [
      "161 https://cincinnatilibrary.bibliocommons.com/v2/record/S170C2518943\n",
      "162 https://hiphopminute.com/rapper-tyler-pauley-is-a-genz-powerhouse-shifting-music-culture/\n",
      "163 https://24hip-hop.com/rapper-tyler-pauley-is-a-genz-powerhouse-shifting-music-culture/\n",
      "164 https://www.gov.uk/government/publications/research-review-series-pe/research-review-series-pe\n"
     ]
    },
    {
     "name": "stderr",
     "output_type": "stream",
     "text": [
      "Your max_length is set to 120, but you input_length is only 72. You might consider decreasing max_length manually, e.g. summarizer('...', max_length=36)\n"
     ]
    },
    {
     "name": "stdout",
     "output_type": "stream",
     "text": [
      "165 https://cincinnatilibrary.bibliocommons.com/v2/record/S170C3034053\n",
      "166 https://bit.ly/3oPyZBt\n"
     ]
    },
    {
     "name": "stderr",
     "output_type": "stream",
     "text": [
      "Your max_length is set to 120, but you input_length is only 69. You might consider decreasing max_length manually, e.g. summarizer('...', max_length=34)\n"
     ]
    },
    {
     "name": "stdout",
     "output_type": "stream",
     "text": [
      "167 https://cincinnatilibrary.bibliocommons.com/v2/record/S170C2965270\n",
      "168 https://cincinnatilibrary.bibliocommons.com/v2/record/S170C2745085\n",
      "169 https://cincinnatilibrary.bibliocommons.com/v2/record/S170C1824078\n"
     ]
    },
    {
     "name": "stderr",
     "output_type": "stream",
     "text": [
      "Your max_length is set to 120, but you input_length is only 76. You might consider decreasing max_length manually, e.g. summarizer('...', max_length=38)\n"
     ]
    },
    {
     "name": "stdout",
     "output_type": "stream",
     "text": [
      "170 https://cincinnatilibrary.bibliocommons.com/v2/record/S170C2752777\n",
      "171 https://cincinnatilibrary.bibliocommons.com/v2/record/S170C2625892\n"
     ]
    },
    {
     "name": "stderr",
     "output_type": "stream",
     "text": [
      "Your max_length is set to 120, but you input_length is only 74. You might consider decreasing max_length manually, e.g. summarizer('...', max_length=37)\n"
     ]
    },
    {
     "name": "stdout",
     "output_type": "stream",
     "text": [
      "172 https://cincinnatilibrary.bibliocommons.com/v2/record/S170C2717753\n"
     ]
    },
    {
     "name": "stderr",
     "output_type": "stream",
     "text": [
      "Your max_length is set to 120, but you input_length is only 74. You might consider decreasing max_length manually, e.g. summarizer('...', max_length=37)\n"
     ]
    },
    {
     "name": "stdout",
     "output_type": "stream",
     "text": [
      "173 https://cincinnatilibrary.bibliocommons.com/v2/record/S170C2691690\n",
      "174 https://cincinnatilibrary.bibliocommons.com/v2/record/S170C2664729\n"
     ]
    },
    {
     "name": "stderr",
     "output_type": "stream",
     "text": [
      "Your max_length is set to 120, but you input_length is only 72. You might consider decreasing max_length manually, e.g. summarizer('...', max_length=36)\n"
     ]
    },
    {
     "name": "stdout",
     "output_type": "stream",
     "text": [
      "175 https://cincinnatilibrary.bibliocommons.com/v2/record/S170C2756383\n",
      "176 https://www.strippedfm.com/post/festival-season\n",
      "177 http://digitalarchive.mcmaster.ca/islandora/object/macrepo%3A9839\n",
      "178 https://www.ias.surrey.ac.uk/fellows/\n",
      "179 https://cincinnatilibrary.bibliocommons.com/v2/record/S170C2448811\n",
      "180 http://dla.acaweb.org/cdm/ref/collection/berea/id/2972\n",
      "181 https://cincinnatilibrary.bibliocommons.com/v2/record/S170C2663810\n",
      "182 https://patents.google.com/patent/USD147314\n",
      "183 https://jamsphere.com/printed-magazine-issues/jamsphere-indie-music-magazine-march-2022\n",
      "184 https://jamsphere.com/printed-magazine-issues/jamsphere-indie-music-magazine-february-2022\n",
      "185 https://jamsphere.com/printed-magazine-issues/jamsphere-indie-music-magazine-january-2022\n",
      "186 https://pocketmags.com/eu/computer-music-magazine\n"
     ]
    },
    {
     "name": "stderr",
     "output_type": "stream",
     "text": [
      "Your max_length is set to 120, but you input_length is only 100. You might consider decreasing max_length manually, e.g. summarizer('...', max_length=50)\n"
     ]
    },
    {
     "name": "stdout",
     "output_type": "stream",
     "text": [
      "187 https://www.bbc.co.uk/sounds/series/m0014cg0\n",
      "188 https://tabsoft.co/3v8lbGt\n",
      "189 https://cincinnatilibrary.bibliocommons.com/v2/record/S170C2608391\n",
      "190 https://bit.ly/3I5n75x\n",
      "191 https://www.whizz-kidz.org.uk/charity/30-years-30-stories/rebecca-farren-story\n",
      "192 https://cincinnatilibrary.bibliocommons.com/v2/record/S170C2725059\n",
      "193 https://cincinnatilibrary.bibliocommons.com/v2/record/S170C2718073\n"
     ]
    },
    {
     "name": "stderr",
     "output_type": "stream",
     "text": [
      "Your max_length is set to 120, but you input_length is only 75. You might consider decreasing max_length manually, e.g. summarizer('...', max_length=37)\n"
     ]
    },
    {
     "name": "stdout",
     "output_type": "stream",
     "text": [
      "194 https://bit.ly/3sgVJN6\n",
      "195 https://cincinnatilibrary.bibliocommons.com/v2/record/S170C2782985\n"
     ]
    },
    {
     "name": "stderr",
     "output_type": "stream",
     "text": [
      "Your max_length is set to 120, but you input_length is only 65. You might consider decreasing max_length manually, e.g. summarizer('...', max_length=32)\n"
     ]
    },
    {
     "name": "stdout",
     "output_type": "stream",
     "text": [
      "196 https://cincinnatilibrary.bibliocommons.com/v2/record/S170C2720486\n",
      "197 https://cincinnatilibrary.bibliocommons.com/v2/record/S170C2575390\n"
     ]
    },
    {
     "name": "stderr",
     "output_type": "stream",
     "text": [
      "Your max_length is set to 120, but you input_length is only 78. You might consider decreasing max_length manually, e.g. summarizer('...', max_length=39)\n"
     ]
    },
    {
     "name": "stdout",
     "output_type": "stream",
     "text": [
      "198 https://cincinnatilibrary.bibliocommons.com/v2/record/S170C2757581\n",
      "199 http://hermitage-crabapple.amebaownd.com/pages/811095/page_201701220951\n",
      "200 https://bit.ly/3qQatkR\n"
     ]
    },
    {
     "name": "stderr",
     "output_type": "stream",
     "text": [
      "Your max_length is set to 120, but you input_length is only 79. You might consider decreasing max_length manually, e.g. summarizer('...', max_length=39)\n"
     ]
    },
    {
     "name": "stdout",
     "output_type": "stream",
     "text": [
      "201 https://cincinnatilibrary.bibliocommons.com/v2/record/S170C2573259\n",
      "202 http://millionsongdataset.com\n",
      "203 https://cincinnatilibrary.bibliocommons.com/v2/record/S170C2667075\n",
      "204 https://ibccdigitalarchive.lincoln.ac.uk/omeka/\n",
      "205 https://bit.ly/3Dl0GrU\n",
      "206 https://bit.ly/3hzgVaY\n"
     ]
    },
    {
     "name": "stderr",
     "output_type": "stream",
     "text": [
      "Your max_length is set to 120, but you input_length is only 96. You might consider decreasing max_length manually, e.g. summarizer('...', max_length=48)\n"
     ]
    },
    {
     "name": "stdout",
     "output_type": "stream",
     "text": [
      "207 https://www.academia.edu/29529055/Mari_Archive_2014_\n",
      "208 https://www.artseverywhere.ca/the-drop/\n",
      "209 https://bimbotech.notion.site/pink-template-d40fb130e17e44eab2e8f1239a5144c1\n",
      "210 https://blog.richmond.edu/parsons/2022/03/arachnophonia-la-flor-de-la-canela-by-chabuca-granda/\n"
     ]
    },
    {
     "name": "stderr",
     "output_type": "stream",
     "text": [
      "Your max_length is set to 120, but you input_length is only 76. You might consider decreasing max_length manually, e.g. summarizer('...', max_length=38)\n"
     ]
    },
    {
     "name": "stdout",
     "output_type": "stream",
     "text": [
      "211 https://cincinnatilibrary.bibliocommons.com/v2/record/S170C2693255\n"
     ]
    },
    {
     "name": "stderr",
     "output_type": "stream",
     "text": [
      "Your max_length is set to 120, but you input_length is only 71. You might consider decreasing max_length manually, e.g. summarizer('...', max_length=35)\n"
     ]
    },
    {
     "name": "stdout",
     "output_type": "stream",
     "text": [
      "212 https://cincinnatilibrary.bibliocommons.com/v2/record/S170C2653386\n",
      "213 https://bit.ly/3pHEy4f\n",
      "214 https://ift.tt/F8dVZWG\n"
     ]
    },
    {
     "name": "stderr",
     "output_type": "stream",
     "text": [
      "Your max_length is set to 120, but you input_length is only 69. You might consider decreasing max_length manually, e.g. summarizer('...', max_length=34)\n"
     ]
    },
    {
     "name": "stdout",
     "output_type": "stream",
     "text": [
      "215 https://cincinnatilibrary.bibliocommons.com/v2/record/S170C2045199\n",
      "216 https://www.the-tls.co.uk/articles/sylvia-townsend-warner-book-review-janet-montefiore/\n",
      "217 http://arxiv.org/abs/2201.08448v1\n"
     ]
    },
    {
     "name": "stderr",
     "output_type": "stream",
     "text": [
      "Your max_length is set to 120, but you input_length is only 81. You might consider decreasing max_length manually, e.g. summarizer('...', max_length=40)\n"
     ]
    },
    {
     "name": "stdout",
     "output_type": "stream",
     "text": [
      "218 https://cincinnatilibrary.bibliocommons.com/v2/record/S170C2825033\n"
     ]
    },
    {
     "name": "stderr",
     "output_type": "stream",
     "text": [
      "Your max_length is set to 120, but you input_length is only 81. You might consider decreasing max_length manually, e.g. summarizer('...', max_length=40)\n"
     ]
    },
    {
     "name": "stdout",
     "output_type": "stream",
     "text": [
      "219 https://www.bootsfordancing.com/copy-of-home-2\n"
     ]
    },
    {
     "name": "stderr",
     "output_type": "stream",
     "text": [
      "Your max_length is set to 120, but you input_length is only 109. You might consider decreasing max_length manually, e.g. summarizer('...', max_length=54)\n"
     ]
    },
    {
     "name": "stdout",
     "output_type": "stream",
     "text": [
      "220 https://www.classicaltrombone.com/digital-downloads/p/ukrainian-national-anthem-\n",
      "221 https://news.jamfestradio.com/2022/03/29/how-to-create-music-at-home-with-an-audio-interface%ef%bf%bc-indiepulse-music-magazine/\n",
      "222 https://m.blog.naver.com/lovevante_7909/222658887118\n",
      "223 https://bit.ly/3GTZxsC\n",
      "224 https://indieshark.com/music-reviews/toronto-tabla-ensemble-for-the-love-of-tabla-lp/\n",
      "225 http://dla.acaweb.org/cdm/ref/collection/berea/id/4972\n",
      "226 http://dla.acaweb.org/cdm/ref/collection/berea/id/3946\n",
      "227 http://dla.acaweb.org/cdm/ref/collection/berea/id/4492\n",
      "228 https://sounds.bl.uk/Environment/Weather\n"
     ]
    },
    {
     "name": "stderr",
     "output_type": "stream",
     "text": [
      "Your max_length is set to 120, but you input_length is only 50. You might consider decreasing max_length manually, e.g. summarizer('...', max_length=25)\n"
     ]
    },
    {
     "name": "stdout",
     "output_type": "stream",
     "text": [
      "229 http://s.einnews.com/FrkoJjQAlR\n"
     ]
    },
    {
     "name": "stderr",
     "output_type": "stream",
     "text": [
      "Your max_length is set to 120, but you input_length is only 50. You might consider decreasing max_length manually, e.g. summarizer('...', max_length=25)\n"
     ]
    },
    {
     "name": "stdout",
     "output_type": "stream",
     "text": [
      "230 https://ift.tt/6LSTgJv\n",
      "231 https://bit.ly/3lqjYoa\n",
      "232 https://www.digitaladvicezone.com/top-5-microphones\n",
      "233 https://www.newsletter.co.uk/heritage-and-retro/heritage/archive-footage-of-bygone-days-in-northern-ireland-given-new-lease-of-life-by-musicians-3631862\n",
      "234 https://ift.tt/Q40nIOW\n",
      "235 https://www.ilovefreegle.org/message/87289922?src=twitter\n"
     ]
    },
    {
     "name": "stderr",
     "output_type": "stream",
     "text": [
      "Your max_length is set to 120, but you input_length is only 50. You might consider decreasing max_length manually, e.g. summarizer('...', max_length=25)\n"
     ]
    },
    {
     "name": "stdout",
     "output_type": "stream",
     "text": [
      "236 https://buff.ly/3LsvHxd\n",
      "237 https://www.jns.org/a-lost-jewish-history-reclaimed-new-digital-archive-that-reveals-pre-holocaust-world-of-eastern-european-jewry/\n",
      "238 https://bit.ly/2TYZDcn\n"
     ]
    },
    {
     "name": "stderr",
     "output_type": "stream",
     "text": [
      "Your max_length is set to 120, but you input_length is only 113. You might consider decreasing max_length manually, e.g. summarizer('...', max_length=56)\n"
     ]
    },
    {
     "name": "stdout",
     "output_type": "stream",
     "text": [
      "239 https://news.prairiepublic.org/show/prairie-public-presents/2022-02-25/february-27-2022-mavis-staples-soul-a-celebration\n",
      "240 https://issuu.com/indiepulsemusicmagazine/docs/indiepulse_febuary_issue_8_2022_final\n"
     ]
    },
    {
     "name": "stderr",
     "output_type": "stream",
     "text": [
      "Your max_length is set to 120, but you input_length is only 110. You might consider decreasing max_length manually, e.g. summarizer('...', max_length=55)\n"
     ]
    },
    {
     "name": "stdout",
     "output_type": "stream",
     "text": [
      "241 https://buff.ly/32iq8gg, https://buff.ly/2VuvncS\n",
      "242 https://radioexplorations.ch/\n",
      "243 https://lovelive-sif-global.bushimo.jp/9thproject/codegeass/\n",
      "244 https://digital.library.temple.edu/digital/collection/p15037coll3/id/56729/\n",
      "245 https://digital.library.temple.edu/digital/collection/p15037coll3/id/62290/\n",
      "246 https://digital.library.temple.edu/digital/collection/p15037coll3/id/56735/\n",
      "247 https://digital.library.temple.edu/digital/collection/p15037coll3/id/56732/\n",
      "248 https://digital.library.temple.edu/digital/collection/p15037coll3/id/62445/\n",
      "249 http://noisehype.com/submit\n",
      "250 http://dla.acaweb.org/cdm/ref/collection/berea/id/4097\n",
      "251 http://WestCoastStyles.com\n",
      "252 https://www.mic.lt/en/news/2022/02/08/advance-beyond-sound-yiorgis-sakellariou/\n",
      "253 https://bit.ly/36tu4zS\n",
      "254 https://open.qobuz.com/playlist/8189647\n",
      "255 https://reut.rs/3rTJWTx\n",
      "256 http://fluxus.lib.uiowa.edu/home.html\n",
      "257 http://dlvr.it/SMdppq\n",
      "258 https://podcasterwarehouse.com/product/neewer-nw-13-compact-microphone-isolation-shieldtripod-studio-mic-sound-absorbing-foam-reflector-for-sound-recordingpodcasts/\n",
      "259 https://cplorg.contentdm.oclc.org/digital/collection/p4014coll27/id/313/rec/3\n",
      "260 https://appalachian.nccardinal.org/eg/opac/record/13189744?_special=1;detail_record_view=1;locg=126\n",
      "261 http://www.sheetmusicnow.com/products/tom-sawyer-p234859\n",
      "262 https://gist.github.com/psychemedia/a9e3d67c589cc07b0b97753441ce3cb2\n",
      "263 https://pub.dev/packages/soundpool\n"
     ]
    },
    {
     "name": "stderr",
     "output_type": "stream",
     "text": [
      "Your max_length is set to 120, but you input_length is only 107. You might consider decreasing max_length manually, e.g. summarizer('...', max_length=53)\n"
     ]
    },
    {
     "name": "stdout",
     "output_type": "stream",
     "text": [
      "264 https://ntia.co.uk/find-your-mp-postponement-of-vat-business-rates-national-insurance-increases/\n",
      "265 https://bit.ly/3I5rs8t\n"
     ]
    },
    {
     "name": "stderr",
     "output_type": "stream",
     "text": [
      "Your max_length is set to 120, but you input_length is only 49. You might consider decreasing max_length manually, e.g. summarizer('...', max_length=24)\n"
     ]
    },
    {
     "name": "stdout",
     "output_type": "stream",
     "text": [
      "266 https://bit.ly/3cZkyoT\n",
      "267 https://www.jwpepper.com/sheet-music/media-player.jsp?&type=audio&productID=10024362\n",
      "268 https://www.fairobserver.com/culture/peter-isackson-music-culture-arts-news-popular-music-38922/\n",
      "269 https://blogs.loc.gov/music/2022/02/lift-every-voice-and-sing/\n",
      "270 https://relayx.com/market/77ae0dbe6b18157226aa75fc290a67f0630008bbb2e4a6ebf470a54897e5f28e_o1\n",
      "271 https://oc.lc/3tRjcVN\n",
      "272 https://bit.ly/3tEyFso\n",
      "273 https://bit.ly/3NledUX\n",
      "274 https://consortiumnews.com/2015/01/06/nyt-still-pretends-no-coup-in-ukraine/\n",
      "275 https://www.mymusicsheet.com/sheet-music/57640\n",
      "276 https://grangerartondemand.com/featured/2-sheet-music-1917-granger.html\n",
      "277 https://grangerartondemand.com/featured/sheet-music-1917-granger.html\n",
      "278 https://libbyapp.com/search/southtyneside/search/query-mojo/page-1/8840798\n",
      "279 http://bit.ly/historymakerscontest\n",
      "280 https://freegbedu.ng/mp3-download/mp3-nicki-minaj-do-we-have-a-problem-ft-lil-baby/\n",
      "281 https://www.msn.com/en-us/music/news/why-bruce-springsteens-500m-deal-signals-a-perfect-storm-brewing-in-music/ar-AARWzQQ\n",
      "282 https://www.playgroundsessions.com/store/view-song/hey-jude-piano-sheet-music-rookie\n",
      "283 https://drive.google.com/file/d/1a7isLISnPviUthpcFyNDAdwVWCxCBPQo/view?usp=drivesdk\n",
      "284 https://cincinnatilibrary.bibliocommons.com/v2/record/S170C2558396\n",
      "285 http://audio-file.org/2022/02/27/openbroadcaster-player-broadcast-your-stream/\n"
     ]
    },
    {
     "name": "stderr",
     "output_type": "stream",
     "text": [
      "Your max_length is set to 120, but you input_length is only 57. You might consider decreasing max_length manually, e.g. summarizer('...', max_length=28)\n"
     ]
    },
    {
     "name": "stdout",
     "output_type": "stream",
     "text": [
      "286 http://fppld.org/digital-library\n",
      "287 https://www.chamber-music.org/mag/2022/winter/index.html\n",
      "288 https://www.spreaker.com/show/simone-nicole\n",
      "289 https://music-for-video.com\n"
     ]
    },
    {
     "name": "stderr",
     "output_type": "stream",
     "text": [
      "Your max_length is set to 120, but you input_length is only 41. You might consider decreasing max_length manually, e.g. summarizer('...', max_length=20)\n"
     ]
    },
    {
     "name": "stdout",
     "output_type": "stream",
     "text": [
      "290 https://www.nbcnews.com/news/us-news/rolling-stone-magazine-settles-rape-story-lawsuit-1-65-million-n772006\n",
      "291 https://bit.ly/3Jwm27z\n",
      "292 https://www-xsnoize-com.cdn.ampproject.org/v/s/www.xsnoize.com/album-review-tears-for-fears-the-tipping-point/?amp_js_v=a6&amp_gsa=1&amp&usqp=mq331AQKKAFQArABIIACAw%3D%3D#aoh=16459126957862&referrer=https%3A%2F%2Fwww.google.com&amp_tf=De%20%251%24s&ampshare=https%3A%2F%2Fwww.xsnoize.com%2Falbum-review-tears-for-fears-the-tipping-point%2F\n",
      "293 https://www.emic.ee/?sisu=uudis_edasi&mid=27&lang=est&id=8063&uudis=1\n"
     ]
    },
    {
     "name": "stderr",
     "output_type": "stream",
     "text": [
      "Your max_length is set to 120, but you input_length is only 41. You might consider decreasing max_length manually, e.g. summarizer('...', max_length=20)\n"
     ]
    },
    {
     "name": "stdout",
     "output_type": "stream",
     "text": [
      "294 https://news.jamfestradio.com/2022/03/29/celebrated-soul-pop-artist-laura-cheadle-reveals-details-for-her-sultry-new-single-the-lust-in-between-indiepulse-music-magazine/\n"
     ]
    },
    {
     "name": "stderr",
     "output_type": "stream",
     "text": [
      "Some characters could not be decoded, and were replaced with REPLACEMENT CHARACTER.\n"
     ]
    },
    {
     "name": "stdout",
     "output_type": "stream",
     "text": [
      "295 https://www.prsformusic.com/-/media/files/prs-for-music/research/economic-insight-18-a-songwriters-perspective-on-six-music.ashx?la=en&hash=29BCB469126CE7D513F6914207008F875B4F7B84\n",
      "296 https://www.namm.org/library/oral-history/garth-hudson\n",
      "297 https://news.jamfestradio.com/2022/03/29/vessel-of-light-release-foxy-lady-video-indiepulse-music-magazine/\n",
      "298 https://nckids.overdrive.com/\n",
      "299 http://lovesedgemoor.co.uk\n",
      "300 https://bbc.in/33xHdqv\n",
      "301 https://www.icpl.org/books-more/digital-library\n",
      "302 https://images.wur.nl/digital/collection/coll13\n",
      "303 https://mainlynorfolk.info/folk/records/harryupton.html\n",
      "304 https://neeedl.net/listing/brixton/\n",
      "305 http://www.nfda.org/digitaldirector\n",
      "306 https://www.atlasobscura.com/articles/first-black-music-magazine\n",
      "307 https://buff.ly/3hiZaMU\n",
      "308 https://buff.ly/3JGBxKP\n",
      "309 https://www.northyorks.gov.uk/download-e-books-e-magazines-and-digital-audiobooks\n",
      "310 https://sddigitalarchives.contentdm.oclc.org/digital/collection/p15914coll5\n",
      "311 https://bit.ly/3Jm7EPU\n",
      "312 http://FreeAgentRadio.com\n",
      "313 https://qrius.com/want-a-boyfriend-go-to-south-korea-for-a-seoul-connection/\n",
      "314 https://www.researchgate.net/publication/2672735_Implementation_Is_Semantic_Interpretation\n",
      "315 https://mashable.com/article/how-to-transfer-your-playlists-music-podcast-library\n",
      "316 https://snooper-scope.in/machine-gun-kelly-announces-mammoth-global-arena-tour-music-news/\n",
      "317 https://whatchinareads.com/article/?uid=7afdfce8b00811ecbd50d79999c4055a\n",
      "318 https://siiasi.org/digital-archive/shaykh-muhammad-shareef/\n",
      "319 https://www.gq.com/story/folgers-incest-ad-oral-history\n",
      "320 https://en.m.wiktionary.org/wiki/Київ#Ukrainian\n",
      "321 https://teva.contentdm.oclc.org/digital/collection/p15138coll18/id/11\n",
      "322 https://ift.tt/zrkYD2U\n",
      "323 https://talesfromthebraziersgrotto.wordpress.com/2022/01/21/music-archive-part-xii-hide-dice-mca-victor-1994/\n",
      "324 https://bit.ly/2VI0lOy\n",
      "325 https://www.classical-music.com/awards-2022/opera-award-2022/\n",
      "326 https://www.gq.com/story/punks-and-nazis-oral-history\n"
     ]
    },
    {
     "name": "stderr",
     "output_type": "stream",
     "text": [
      "Some characters could not be decoded, and were replaced with REPLACEMENT CHARACTER.\n"
     ]
    },
    {
     "name": "stdout",
     "output_type": "stream",
     "text": [
      "327 https://www.prsformusic.com/-/media/files/prs-for-music/research/economic-insight-11-dec.ashx\n"
     ]
    },
    {
     "name": "stderr",
     "output_type": "stream",
     "text": [
      "Your max_length is set to 120, but you input_length is only 78. You might consider decreasing max_length manually, e.g. summarizer('...', max_length=39)\n"
     ]
    },
    {
     "name": "stdout",
     "output_type": "stream",
     "text": [
      "328 http://wpl.ca/digital-library\n",
      "329 https://www.birmingham2022.com/news/2493340/ceremony-pop-comes-to-campus\n",
      "330 http://blog.archive.org/2022/01/27/virtual-gathering-welcomes-creative-works-from-1926-into-the-public-domain/\n",
      "331 https://www.catchermedia.co.uk/resources/\n",
      "332 https://hermitage-crabapple.amebaownd.com/pages/5181126/page_202108140852\n",
      "333 https://bit.ly/3u8CDu1\n",
      "334 https://www.lrb.co.uk/the-paper/v44/n07/florence-sutcliffe-braithwaite/bring-out-the-lemonade\n",
      "335 https://www.twinkl.co.uk/l/gatw9\n",
      "336 https://okt.to/p9C5sz\n"
     ]
    },
    {
     "name": "stderr",
     "output_type": "stream",
     "text": [
      "Your max_length is set to 120, but you input_length is only 87. You might consider decreasing max_length manually, e.g. summarizer('...', max_length=43)\n"
     ]
    },
    {
     "name": "stdout",
     "output_type": "stream",
     "text": [
      "337 https://www.creatokia.com/en/s/the-poets\n",
      "338 https://www.listia.com/r2tjq0t/DJNMVB\n",
      "339 https://scroll.in/magazine/1008254/after-an-unbroken-run-of-87-years-indias-oldest-classical-music-magazine-is-facing-a-bleak-future\n",
      "340 https://www.rollingstone.co.uk/politics/features/can-labour-win-again-with-young-people-disillusioned-13129/?fbclid=IwAR1lMroek6FASVE5bKx56NY_TZjOMLAfWdcGtSmrgnK2ExKHKdTPKnPY4RI\n",
      "341 http://splibrary.ca/downloads\n",
      "342 https://bit.ly/3o4c3OM\n",
      "343 https://slate.com/news-and-politics/2022/01/slate-news-quiz-supreme-court-joe-biden-jeopardy.html?utm_medium=social&utm_campaign=traffic&utm_source=article&utm_content=twitter_share\n",
      "344 https://linktr.ee/coreydrumz4real\n",
      "345 https://www.cbc.ca/sportslongform/entry/cbc-sports-oral-histories-canadian-world-cup-qualification\n"
     ]
    },
    {
     "name": "stderr",
     "output_type": "stream",
     "text": [
      "Your max_length is set to 120, but you input_length is only 70. You might consider decreasing max_length manually, e.g. summarizer('...', max_length=35)\n"
     ]
    },
    {
     "name": "stdout",
     "output_type": "stream",
     "text": [
      "346 https://www.isasa.org/vacancies/listing/junior-art-music-information-technology-teacher\n",
      "347 https://www.boosey.com/teaching/sheet-music/Stephen-Hatfield-When-It-Was-Yet-Dark-SSA/4352\n",
      "348 https://bit.ly/3kd1Q0Q\n",
      "349 https://www.umusicpub.com/au/News/2013/Aug/Peter-Allen_National-Film-and-Sound-Archive-of-Australia.aspx\n",
      "350 https://bit.ly/3rMbNVH\n",
      "351 https://cstu.io/a21d44\n",
      "352 https://bit.ly/35URZ7O\n",
      "353 https://www.menofworth.org.uk/archives/digital-archive/conscientious-objectors/\n",
      "354 https://bit.ly/2QhQe0A\n",
      "355 http://bit.ly/sheetmusicnecklaces\n",
      "356 https://im-musicmagazine.com/f/killswitch-engage-february-10-2022-raleigh-north-carolina\n",
      "357 https://bit.ly/3IRPbtq\n",
      "358 https://en.rwp.agency/news/953/\n",
      "359 https://bit.ly/3CnqW4F\n",
      "360 https://www.calderdale.gov.uk/v2/residents/leisure-and-culture/libraries/digital-library/ebooks-and-eaudio-books\n",
      "361 https://kaleidoscope.boutique/talking-hamster-plush-toy/\n",
      "362 https://fb.watch/aQP3cUsQ5r/\n",
      "363 https://www.klkntv.com/lincoln-libraries-offering-acoustic-guitars-to-check-out/\n"
     ]
    },
    {
     "name": "stderr",
     "output_type": "stream",
     "text": [
      "Your max_length is set to 120, but you input_length is only 11. You might consider decreasing max_length manually, e.g. summarizer('...', max_length=5)\n"
     ]
    },
    {
     "name": "stdout",
     "output_type": "stream",
     "text": [
      "364 https://bit.ly/37OaJKJ\n"
     ]
    },
    {
     "name": "stderr",
     "output_type": "stream",
     "text": [
      "Your max_length is set to 120, but you input_length is only 90. You might consider decreasing max_length manually, e.g. summarizer('...', max_length=45)\n"
     ]
    },
    {
     "name": "stdout",
     "output_type": "stream",
     "text": [
      "365 https://archive.org/details/copyrightrecords\n",
      "366 https://mtlnk.net/j_%253A%252F%252Fpiano-sheetmusic.net%252Farchives%252F1291\n"
     ]
    },
    {
     "name": "stderr",
     "output_type": "stream",
     "text": [
      "Your max_length is set to 120, but you input_length is only 70. You might consider decreasing max_length manually, e.g. summarizer('...', max_length=35)\n"
     ]
    },
    {
     "name": "stdout",
     "output_type": "stream",
     "text": [
      "367 https://snooper-scope.in/the-rolling-stones-return-to-bst-hyde-park-to-celebrate-60th-anniversary-music-news/\n",
      "368 http://dlvr.it/SMgRxM\n",
      "369 http://dlvr.it/SMgPfP\n"
     ]
    },
    {
     "name": "stderr",
     "output_type": "stream",
     "text": [
      "Your max_length is set to 120, but you input_length is only 113. You might consider decreasing max_length manually, e.g. summarizer('...', max_length=56)\n"
     ]
    },
    {
     "name": "stdout",
     "output_type": "stream",
     "text": [
      "370 http://myzakim.dana-farber.org\n",
      "371 https://snooper-scope.in/doja-cat-apologises-for-tweets-after-cancelled-paraguay-show-music-news/\n",
      "372 https://couponmatrix.uk/l/4sg7\n"
     ]
    },
    {
     "name": "stderr",
     "output_type": "stream",
     "text": [
      "Your max_length is set to 120, but you input_length is only 75. You might consider decreasing max_length manually, e.g. summarizer('...', max_length=37)\n"
     ]
    },
    {
     "name": "stdout",
     "output_type": "stream",
     "text": [
      "373 https://www.edufex.com/register\n",
      "374 https://www.needsomefun.net/list-of-25-books-written-about-bob-dylan/\n",
      "375 https://siiasi.org/digital-archive/shaykh-muhammad-shareef/tarikh-as-sudan/\n",
      "376 http://officemagazine.net/neue-projects-x-bustani-digital-archive\n",
      "377 https://bit.ly/3K4Xi6V\n",
      "378 https://objkt.com/asset/KT1DLwifQZbaV9xZcyukt3L8PN8iq14AG5a2/4\n",
      "379 https://www.bitchmedia.org/article/no-punk-music-without-black-women?utm_source=pocket_mylist\n",
      "380 https://buff.ly/3iNOcQl\n",
      "381 https://bit.ly/ou-ua-crum-kahler\n",
      "382 http://www.edufex.com\n",
      "383 https://indianamemory.contentdm.oclc.org/digital/collection/Maennerchor/id/4226/rec/1\n",
      "384 https://ethw.org/Oral-History:Elsie_Shutt\n",
      "385 https://touchgenz.com/for-ps5-vertical-cooling-fan-stand-digital-edition-with-14-game-slot-3-hub-port-dual-controller-charging-station-charger-for-ps5/#gamergirl, https://touchgenz.com/for-ps5-vertical-cooling-fan-stand-digital-edition-with-14-game-slot-3-hub-port-dual-controller-charging-station-charger-for-ps5/\n",
      "386 https://ftnt.net/6018KKMum\n",
      "387 https://www.aegisdentalnetwork.com/idh/2021/10/digital-edition\n",
      "388 https://www.open.ac.uk/library/digital-archive/module/xcri:T244/study\n",
      "389 http://detroitsound.org\n",
      "390 https://www.listia.com/r2tjq0u/DJNMVB\n",
      "391 https://the-just-records-podcast.simplecast.com/episodes/the-just-records-podcast-episode-15-guest-mix-by-music-research-library-VwydBSFR\n",
      "392 https://cincinnatilibrary.org/blogs/post/tbt-winder-panorama/\n"
     ]
    },
    {
     "name": "stderr",
     "output_type": "stream",
     "text": [
      "Your max_length is set to 120, but you input_length is only 80. You might consider decreasing max_length manually, e.g. summarizer('...', max_length=40)\n"
     ]
    },
    {
     "name": "stdout",
     "output_type": "stream",
     "text": [
      "393 https://www.wired.com/story/apple-infinite-loop-oral-history/\n",
      "394 https://www.uaarchives.org/digital/collection/p4036coll10/id/329/rec/19\n",
      "395 https://www.slideshare.net/caerolus/statistical-analysis-of-results-in-music-information-retrieval-why-and-how\n",
      "396 https://faroutmagazine.co.uk/worst-rhyming-couplets-music-history-songwriting/\n",
      "397 https://www.marshallfoundation.org/library/digital-archive/6-026-speech-princeton-university-february-22-1947/\n",
      "398 https://bit.ly/36WzG5S\n",
      "399 https://ew.com/movies/2017/07/19/fifth-element-oral-history-luc-besson/\n",
      "400 http://dla.acaweb.org/cdm/ref/collection/berea/id/2423\n",
      "401 http://RadioAshford.com\n"
     ]
    },
    {
     "name": "stderr",
     "output_type": "stream",
     "text": [
      "Your max_length is set to 120, but you input_length is only 45. You might consider decreasing max_length manually, e.g. summarizer('...', max_length=22)\n"
     ]
    },
    {
     "name": "stdout",
     "output_type": "stream",
     "text": [
      "402 https://www.android-setup.com/2022/03/playstation-5-digital-edition-restocked.html\n"
     ]
    },
    {
     "name": "stderr",
     "output_type": "stream",
     "text": [
      "Your max_length is set to 120, but you input_length is only 111. You might consider decreasing max_length manually, e.g. summarizer('...', max_length=55)\n"
     ]
    },
    {
     "name": "stdout",
     "output_type": "stream",
     "text": [
      "403 https://filmmakermagazine.com/113546-wreckers-of-civilization-marcus-werner-hed-and-dan-fox-on-their-doc-fortnight-premiering-other-like-me-the-oral-history-of-coum-transmissions-and-throbbing-gristle/#.YhvTVS-B1ZM\n",
      "404 https://iaml-uk-irl.org/bryant-award\n"
     ]
    },
    {
     "name": "stderr",
     "output_type": "stream",
     "text": [
      "Your max_length is set to 120, but you input_length is only 55. You might consider decreasing max_length manually, e.g. summarizer('...', max_length=27)\n"
     ]
    },
    {
     "name": "stdout",
     "output_type": "stream",
     "text": [
      "405 https://openhandslibrary.weebly.com\n",
      "406 https://www.mupress.org/Something-in-the-Water-A-History-of-Music-in-Macon-Georgia-1823-1980-P1160.aspx\n",
      "407 https://on.cgiar.org/3G7J6aQ, https://on.cgiar.org/3gccOkg\n",
      "408 http://ndl.iitkgp.ac.in\n",
      "409 https://www.dpbolvw.net/click-8913463-13797872?url=https%3A%2F%2Fwww.fanatical.com%2Fen%2Fpick-and-mix%2Ffanatical-favorites-build-your-own-bundle\n",
      "410 https://www.unwomen.org/en/digital-library/publications/2022/01/intersectionality-resource-guide-and-toolkit\n",
      "411 http://owwl.org\n"
     ]
    },
    {
     "name": "stderr",
     "output_type": "stream",
     "text": [
      "Your max_length is set to 120, but you input_length is only 111. You might consider decreasing max_length manually, e.g. summarizer('...', max_length=55)\n"
     ]
    },
    {
     "name": "stdout",
     "output_type": "stream",
     "text": [
      "412 http://dlvr.it/SKm8lW\n",
      "413 https://bit.ly/TennisScrapbook65\n",
      "414 https://okt.to/TQ3ebH\n",
      "415 https://buff.ly/3tsZccs\n",
      "416 https://www.bmwcca.org/content/oral-history-project-announcement\n",
      "417 https://mailchi.mp/f03ec20b9f7c/pre-pesach\n"
     ]
    },
    {
     "name": "stderr",
     "output_type": "stream",
     "text": [
      "Your max_length is set to 120, but you input_length is only 111. You might consider decreasing max_length manually, e.g. summarizer('...', max_length=55)\n"
     ]
    },
    {
     "name": "stdout",
     "output_type": "stream",
     "text": [
      "418 http://dlvr.it/SKmCvD\n"
     ]
    },
    {
     "name": "stderr",
     "output_type": "stream",
     "text": [
      "Your max_length is set to 120, but you input_length is only 23. You might consider decreasing max_length manually, e.g. summarizer('...', max_length=11)\n"
     ]
    },
    {
     "name": "stdout",
     "output_type": "stream",
     "text": [
      "419 https://www.bt.com/help/tv/fix-a-problem/recording-or-sound/recording-problems-on-bt-tv#:~:text=Here%20are%20some%20steps%20to%20help%20stop%20this%20from%20happening%20again%3A&text=Check%20your%20equipment%20cabling%20is,%27%20section%20of%20%27My%20TV%27\n",
      "386\n"
     ]
    }
   ],
   "source": [
    "#scrape URL list and return a DF for resource classification\n",
    "scraped_links = LogRegSearches.scrape_links(twitter_link_list, predicted_tweets, 'all_keywords_2022-01-01_03-31_scrapes_maxfeats100')"
   ]
  },
  {
   "cell_type": "code",
   "execution_count": 16,
   "metadata": {},
   "outputs": [],
   "source": [
    "scraped_links = pd.read_pickle(path+'LOGREG_RELEVANCE/SCRAPES/all_keywords_2022-01-01_03-31_scrapes_v1.pkl')"
   ]
  },
  {
   "cell_type": "code",
   "execution_count": 17,
   "metadata": {},
   "outputs": [
    {
     "data": {
      "text/plain": [
       "418"
      ]
     },
     "execution_count": 17,
     "metadata": {},
     "output_type": "execute_result"
    }
   ],
   "source": [
    "len(scraped_links) "
   ]
  },
  {
   "cell_type": "markdown",
   "metadata": {},
   "source": [
    "## Classify URLS"
   ]
  },
  {
   "cell_type": "code",
   "execution_count": 18,
   "metadata": {},
   "outputs": [],
   "source": [
    "predicted_resources = LogRegSearches.predict_resource(path, 'resources_v2', scraped_links, 'Description', 1, 'all_keywords_2022-01-01_03-31_v1')"
   ]
  },
  {
   "cell_type": "code",
   "execution_count": 19,
   "metadata": {},
   "outputs": [
    {
     "data": {
      "text/html": [
       "<div>\n",
       "<style scoped>\n",
       "    .dataframe tbody tr th:only-of-type {\n",
       "        vertical-align: middle;\n",
       "    }\n",
       "\n",
       "    .dataframe tbody tr th {\n",
       "        vertical-align: top;\n",
       "    }\n",
       "\n",
       "    .dataframe thead th {\n",
       "        text-align: right;\n",
       "    }\n",
       "</style>\n",
       "<table border=\"1\" class=\"dataframe\">\n",
       "  <thead>\n",
       "    <tr style=\"text-align: right;\">\n",
       "      <th></th>\n",
       "      <th>tweet</th>\n",
       "      <th>Prediction</th>\n",
       "      <th>Score</th>\n",
       "      <th>Probability</th>\n",
       "      <th>Input Length</th>\n",
       "      <th>URL</th>\n",
       "      <th>Search KW</th>\n",
       "      <th>tweet date</th>\n",
       "      <th>Title</th>\n",
       "      <th>Description</th>\n",
       "    </tr>\n",
       "  </thead>\n",
       "  <tbody>\n",
       "    <tr>\n",
       "      <th>0</th>\n",
       "      <td>Jamsphere Indie Music Magazine January 2022 - ...</td>\n",
       "      <td>1</td>\n",
       "      <td>4.181303</td>\n",
       "      <td>0.984951</td>\n",
       "      <td>195</td>\n",
       "      <td>https://jamsphere.com/printed-magazine-issues/...</td>\n",
       "      <td>\"music magazine\" -is:retweet</td>\n",
       "      <td>2022-01-29</td>\n",
       "      <td>Jamsphere Indie Music Magazine January 2022 | ...</td>\n",
       "      <td>Jamsphere Indie Music Magazine January 2022 –...</td>\n",
       "    </tr>\n",
       "    <tr>\n",
       "      <th>1</th>\n",
       "      <td>Project: Music Recommendation\n",
       "\n",
       " Million Song ...</td>\n",
       "      <td>1</td>\n",
       "      <td>3.689997</td>\n",
       "      <td>0.975636</td>\n",
       "      <td>319</td>\n",
       "      <td>http://millionsongdataset.com</td>\n",
       "      <td>\"song dataset\" -is:retweet</td>\n",
       "      <td>2022-03-29</td>\n",
       "      <td>Welcome! | Million Song Dataset</td>\n",
       "      <td>The Million Song Dataset is a free-available ...</td>\n",
       "    </tr>\n",
       "    <tr>\n",
       "      <th>2</th>\n",
       "      <td>2017 @ the British Library Sound Archive. Grat...</td>\n",
       "      <td>1</td>\n",
       "      <td>3.573228</td>\n",
       "      <td>0.972701</td>\n",
       "      <td>261</td>\n",
       "      <td>https://www.teresabarrozo.com/post/the-british...</td>\n",
       "      <td>\"sound archive\" -is:retweet</td>\n",
       "      <td>2022-01-21</td>\n",
       "      <td>@ the British Library Sound Achive</td>\n",
       "      <td>The Wild Life and Environmental Sounds Archiv...</td>\n",
       "    </tr>\n",
       "    <tr>\n",
       "      <th>3</th>\n",
       "      <td>Jamsphere Indie Music Magazine March 2022 - ht...</td>\n",
       "      <td>1</td>\n",
       "      <td>3.344960</td>\n",
       "      <td>0.965939</td>\n",
       "      <td>182</td>\n",
       "      <td>https://jamsphere.com/printed-magazine-issues/...</td>\n",
       "      <td>\"music magazine\" -is:retweet</td>\n",
       "      <td>2022-03-30</td>\n",
       "      <td>Jamsphere Indie Music Magazine March 2022 | Ja...</td>\n",
       "      <td>Jamsphere Indie Music Magazine March 2022 – F...</td>\n",
       "    </tr>\n",
       "    <tr>\n",
       "      <th>4</th>\n",
       "      <td>Jamsphere Indie Music Magazine February 2022 -...</td>\n",
       "      <td>1</td>\n",
       "      <td>3.204508</td>\n",
       "      <td>0.961004</td>\n",
       "      <td>184</td>\n",
       "      <td>https://jamsphere.com/printed-magazine-issues/...</td>\n",
       "      <td>\"music magazine\" -is:retweet</td>\n",
       "      <td>2022-02-26</td>\n",
       "      <td>Jamsphere Indie Music Magazine February 2022 |...</td>\n",
       "      <td>Jamsphere Indie Music Magazine February 2022 ...</td>\n",
       "    </tr>\n",
       "    <tr>\n",
       "      <th>...</th>\n",
       "      <td>...</td>\n",
       "      <td>...</td>\n",
       "      <td>...</td>\n",
       "      <td>...</td>\n",
       "      <td>...</td>\n",
       "      <td>...</td>\n",
       "      <td>...</td>\n",
       "      <td>...</td>\n",
       "      <td>...</td>\n",
       "      <td>...</td>\n",
       "    </tr>\n",
       "    <tr>\n",
       "      <th>164</th>\n",
       "      <td>Fire Island time machine: This recently discov...</td>\n",
       "      <td>1</td>\n",
       "      <td>0.080876</td>\n",
       "      <td>0.520208</td>\n",
       "      <td>291</td>\n",
       "      <td>https://bit.ly/3oPyZBt</td>\n",
       "      <td>\"music archive\" -is:retweet</td>\n",
       "      <td>2022-02-16</td>\n",
       "      <td>Fagulous Fire Island Music Archive + Eric Adam...</td>\n",
       "      <td>A huge archive of tapes discovered in a recen...</td>\n",
       "    </tr>\n",
       "    <tr>\n",
       "      <th>165</th>\n",
       "      <td>The Legend of Vox Machina Musical Score | Prim...</td>\n",
       "      <td>1</td>\n",
       "      <td>0.075942</td>\n",
       "      <td>0.518976</td>\n",
       "      <td>333</td>\n",
       "      <td>https://binge.place/amazon-prime/the-legend-of...</td>\n",
       "      <td>\"musical score\" -is:retweet</td>\n",
       "      <td>2022-03-28</td>\n",
       "      <td>Binge Place</td>\n",
       "      <td>The Legend of Vox Machina is more interested ...</td>\n",
       "    </tr>\n",
       "    <tr>\n",
       "      <th>166</th>\n",
       "      <td>The Legend of Vox Machina Musical Score | Prim...</td>\n",
       "      <td>1</td>\n",
       "      <td>0.075942</td>\n",
       "      <td>0.518976</td>\n",
       "      <td>353</td>\n",
       "      <td>http://dlvr.it/SMWwSw</td>\n",
       "      <td>\"musical score\" -is:retweet</td>\n",
       "      <td>2022-03-28</td>\n",
       "      <td>The Legend of Vox Machina Musical Score | Prim...</td>\n",
       "      <td>The Legend of Vox Machina is more interested ...</td>\n",
       "    </tr>\n",
       "    <tr>\n",
       "      <th>167</th>\n",
       "      <td>Turning on the tunes: 3 evidence-based benefit...</td>\n",
       "      <td>1</td>\n",
       "      <td>0.008282</td>\n",
       "      <td>0.502071</td>\n",
       "      <td>606</td>\n",
       "      <td>https://bit.ly/3rrgHZ5</td>\n",
       "      <td>\"music research\" -is:retweet</td>\n",
       "      <td>2022-02-25</td>\n",
       "      <td>Turning on the tunes: 3 evidence-based benefit...</td>\n",
       "      <td>Music therapy, a safe and non-invasive comple...</td>\n",
       "    </tr>\n",
       "    <tr>\n",
       "      <th>168</th>\n",
       "      <td>Violists! Reply with your favorite viola piece...</td>\n",
       "      <td>1</td>\n",
       "      <td>0.001292</td>\n",
       "      <td>0.500323</td>\n",
       "      <td>219</td>\n",
       "      <td>https://bit.ly/3qQatkR</td>\n",
       "      <td>\"sheet music\" -is:retweet</td>\n",
       "      <td>2022-03-30</td>\n",
       "      <td>Viola sheet music, and online viola notes, she...</td>\n",
       "      <td>Gems Music Publications was founded in 2008 b...</td>\n",
       "    </tr>\n",
       "  </tbody>\n",
       "</table>\n",
       "<p>169 rows × 10 columns</p>\n",
       "</div>"
      ],
      "text/plain": [
       "                                                 tweet  Prediction     Score  \\\n",
       "0    Jamsphere Indie Music Magazine January 2022 - ...           1  4.181303   \n",
       "1     Project: Music Recommendation\n",
       "\n",
       " Million Song ...           1  3.689997   \n",
       "2    2017 @ the British Library Sound Archive. Grat...           1  3.573228   \n",
       "3    Jamsphere Indie Music Magazine March 2022 - ht...           1  3.344960   \n",
       "4    Jamsphere Indie Music Magazine February 2022 -...           1  3.204508   \n",
       "..                                                 ...         ...       ...   \n",
       "164  Fire Island time machine: This recently discov...           1  0.080876   \n",
       "165  The Legend of Vox Machina Musical Score | Prim...           1  0.075942   \n",
       "166  The Legend of Vox Machina Musical Score | Prim...           1  0.075942   \n",
       "167  Turning on the tunes: 3 evidence-based benefit...           1  0.008282   \n",
       "168  Violists! Reply with your favorite viola piece...           1  0.001292   \n",
       "\n",
       "     Probability  Input Length  \\\n",
       "0       0.984951           195   \n",
       "1       0.975636           319   \n",
       "2       0.972701           261   \n",
       "3       0.965939           182   \n",
       "4       0.961004           184   \n",
       "..           ...           ...   \n",
       "164     0.520208           291   \n",
       "165     0.518976           333   \n",
       "166     0.518976           353   \n",
       "167     0.502071           606   \n",
       "168     0.500323           219   \n",
       "\n",
       "                                                   URL  \\\n",
       "0    https://jamsphere.com/printed-magazine-issues/...   \n",
       "1                        http://millionsongdataset.com   \n",
       "2    https://www.teresabarrozo.com/post/the-british...   \n",
       "3    https://jamsphere.com/printed-magazine-issues/...   \n",
       "4    https://jamsphere.com/printed-magazine-issues/...   \n",
       "..                                                 ...   \n",
       "164                             https://bit.ly/3oPyZBt   \n",
       "165  https://binge.place/amazon-prime/the-legend-of...   \n",
       "166                              http://dlvr.it/SMWwSw   \n",
       "167                             https://bit.ly/3rrgHZ5   \n",
       "168                             https://bit.ly/3qQatkR   \n",
       "\n",
       "                        Search KW  tweet date  \\\n",
       "0    \"music magazine\" -is:retweet  2022-01-29   \n",
       "1      \"song dataset\" -is:retweet  2022-03-29   \n",
       "2     \"sound archive\" -is:retweet  2022-01-21   \n",
       "3    \"music magazine\" -is:retweet  2022-03-30   \n",
       "4    \"music magazine\" -is:retweet  2022-02-26   \n",
       "..                            ...         ...   \n",
       "164   \"music archive\" -is:retweet  2022-02-16   \n",
       "165   \"musical score\" -is:retweet  2022-03-28   \n",
       "166   \"musical score\" -is:retweet  2022-03-28   \n",
       "167  \"music research\" -is:retweet  2022-02-25   \n",
       "168     \"sheet music\" -is:retweet  2022-03-30   \n",
       "\n",
       "                                                 Title  \\\n",
       "0    Jamsphere Indie Music Magazine January 2022 | ...   \n",
       "1                      Welcome! | Million Song Dataset   \n",
       "2                   @ the British Library Sound Achive   \n",
       "3    Jamsphere Indie Music Magazine March 2022 | Ja...   \n",
       "4    Jamsphere Indie Music Magazine February 2022 |...   \n",
       "..                                                 ...   \n",
       "164  Fagulous Fire Island Music Archive + Eric Adam...   \n",
       "165                                        Binge Place   \n",
       "166  The Legend of Vox Machina Musical Score | Prim...   \n",
       "167  Turning on the tunes: 3 evidence-based benefit...   \n",
       "168  Viola sheet music, and online viola notes, she...   \n",
       "\n",
       "                                           Description  \n",
       "0     Jamsphere Indie Music Magazine January 2022 –...  \n",
       "1     The Million Song Dataset is a free-available ...  \n",
       "2     The Wild Life and Environmental Sounds Archiv...  \n",
       "3     Jamsphere Indie Music Magazine March 2022 – F...  \n",
       "4     Jamsphere Indie Music Magazine February 2022 ...  \n",
       "..                                                 ...  \n",
       "164   A huge archive of tapes discovered in a recen...  \n",
       "165   The Legend of Vox Machina is more interested ...  \n",
       "166   The Legend of Vox Machina is more interested ...  \n",
       "167   Music therapy, a safe and non-invasive comple...  \n",
       "168   Gems Music Publications was founded in 2008 b...  \n",
       "\n",
       "[169 rows x 10 columns]"
      ]
     },
     "execution_count": 19,
     "metadata": {},
     "output_type": "execute_result"
    }
   ],
   "source": [
    "predicted_resources"
   ]
  }
 ],
 "metadata": {
  "interpreter": {
   "hash": "aee8b7b246df8f9039afb4144a1f6fd8d2ca17a180786b69acc140d282b71a49"
  },
  "kernelspec": {
   "display_name": "Python 3",
   "language": "python",
   "name": "python3"
  },
  "language_info": {
   "codemirror_mode": {
    "name": "ipython",
    "version": 3
   },
   "file_extension": ".py",
   "mimetype": "text/x-python",
   "name": "python",
   "nbconvert_exporter": "python",
   "pygments_lexer": "ipython3",
   "version": "3.8.0"
  }
 },
 "nbformat": 4,
 "nbformat_minor": 4
}
