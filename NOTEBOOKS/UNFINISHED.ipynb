{
 "cells": [
  {
   "cell_type": "markdown",
   "metadata": {},
   "source": [
    "TWITTER"
   ]
  },
  {
   "cell_type": "code",
   "execution_count": null,
   "metadata": {},
   "outputs": [],
   "source": [
    "#dataframe function\n",
    "\n",
    "def append_to_pd(json):\n",
    "    \n",
    "    #username setup\n",
    "    username = {user['id']: user['username'] for user in json_response['includes']['users']}\n",
    "    \n",
    "    #1. username\n",
    "    author_id = [tweet['author_id'] for tweet in json['data']]\n",
    "    user = [username[id] for id in author_id]\n",
    "\n",
    "    # 2. Time created\n",
    "    created_at = [dateutil.parser.parse(tweet['created_at']) for tweet in json['data']]\n",
    "\n",
    "    # 3. Language\n",
    "    lang = [tweet['lang'] for tweet in json_response['data']]\n",
    "\n",
    "    # 4. Tweet metrics\n",
    "    retweet_count = [tweet['public_metrics']['retweet_count'] for tweet in json['data']]\n",
    "    reply_count = [tweet['public_metrics']['reply_count'] for tweet in json['data']]\n",
    "    like_count = [tweet['public_metrics']['like_count'] for tweet in json['data']]\n",
    "    quote_count = [tweet['public_metrics']['quote_count'] for tweet in json['data']]\n",
    "\n",
    "    # 5. Tweet text\n",
    "    text = [tweet['text'] for tweet in json['data']]\n",
    "    \n",
    "    # 6. URL \n",
    "    url = []\n",
    "    for tweet in json['data']:\n",
    "        if ('entities' in tweet) and ('urls' in tweet['entities']):\n",
    "            for link in tweet['entities']['urls']:\n",
    "                url.append(link['expanded_url'])\n",
    "        else:\n",
    "            url.append('')\n",
    "    \n",
    "    # Create df and append everything \n",
    "    dataframe = pd.DataFrame(columns=['User', 'Created', 'Language', 'Likes', 'Quotes', 'Replies', 'RTs', 'Tweet', 'URL'])\n",
    "    dataframe['User'] = pd.Series(user).astype('string')\n",
    "    dataframe['Created'] = pd.Series(created_at)\n",
    "    dataframe['Language'] = pd.Series(lang).astype('string')\n",
    "    dataframe['Likes'] = pd.Series(like_count)\n",
    "    dataframe['Quotes'] = pd.Series(quote_count)\n",
    "    dataframe['Replies'] = pd.Series(reply_count)\n",
    "    dataframe['RTs'] = pd.Series(retweet_count)\n",
    "    dataframe['Tweet'] = pd.Series(text).astype('string')\n",
    "    dataframe['URL'] = pd.Series(url).astype('string')   \n",
    "    \n",
    "    return dataframe"
   ]
  }
 ],
 "metadata": {
  "language_info": {
   "name": "python"
  },
  "orig_nbformat": 4
 },
 "nbformat": 4,
 "nbformat_minor": 2
}
