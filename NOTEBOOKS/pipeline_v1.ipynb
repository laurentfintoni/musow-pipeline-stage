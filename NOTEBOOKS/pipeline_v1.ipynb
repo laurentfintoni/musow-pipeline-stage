{
 "cells": [
  {
   "cell_type": "markdown",
   "metadata": {},
   "source": [
    "# Twitter Pipeline v2\n",
    "\n",
    "## Imports"
   ]
  },
  {
   "cell_type": "code",
   "execution_count": 1,
   "metadata": {},
   "outputs": [],
   "source": [
    "path = '../'\n",
    "import pandas as pd\n",
    "import re\n",
    "#import custom functions\n",
    "import sys\n",
    "from PYTHON_FILES.LogReg_Searches import LogRegSearches"
   ]
  },
  {
   "cell_type": "markdown",
   "metadata": {},
   "source": [
    "## Variables"
   ]
  },
  {
   "cell_type": "code",
   "execution_count": 2,
   "metadata": {},
   "outputs": [],
   "source": [
    "# descriptions training set -> v2 = musow+mji descriptions vs summarized scrapes from twitter searches  \n",
    "archive_desc_training_v2 = pd.read_pickle(path+'LOGREG_RELEVANCE/TRAINING_SETS/archive_desc_training_v2.pkl')\n",
    "\n",
    "# twitter training set -> v1 = tweets from bigrams vs tweets for digital humanities and music company \n",
    "twitter_training_set_v1 = pd.read_pickle(path+'LOGREG_RELEVANCE/TRAINING_SETS/twitter_training_v1.pkl')"
   ]
  },
  {
   "cell_type": "markdown",
   "metadata": {},
   "source": [
    "## Training twitter and descriptions classifiers\n",
    "\n",
    "This is a ONE TIME operation. The models are pickled and loaded later to predict new results from LOGREG_RELEVANCE/MODELS folder. "
   ]
  },
  {
   "cell_type": "code",
   "execution_count": null,
   "metadata": {},
   "outputs": [],
   "source": [
    "# one time training on twitter\n",
    "#twitter_training_model = LogRegSearches.train(twitter_training_set_v1, 'tweet', 'Target', 10, 'precision', 'twitter', path)\n",
    "\n",
    "# one time training on resources\n",
    "#resource_training_model = LogRegSearches.train(archive_desc_training_v2, 'Description', 'Target', 10, 'f1','resources',path)"
   ]
  },
  {
   "cell_type": "markdown",
   "metadata": {},
   "source": [
    "## Query Twitter\n",
    "\n",
    "Calls Twitter API with a list of keywords and return results as raw csv and clean pickle in TWITTER_SEARCHES/RAW_SEARCHES folder."
   ]
  },
  {
   "cell_type": "code",
   "execution_count": null,
   "metadata": {},
   "outputs": [],
   "source": [
    "#load token\n",
    "token = 'AAAAAAAAAAAAAAAAAAAAAJgsNAEAAAAAQcsgbUnOJJmqmU483%2F8x6n9V1i8%3Df0qaEo9cV1sWP4eyNQ6E9s8BiRjvFTSN9mSqithe8uIXSNP68x'\n",
    "#a selection of keywords based on MJI and musoW datasets\n",
    "\n",
    "#choose KW list \n",
    "##best performing list based on v1 tests\n",
    "better_keywords = ['audio file', 'music archive', 'music collection', 'music library', 'sheet music', 'sound archive', 'sound recording']\n",
    "\n",
    "#custom timeframe for searching\n",
    "start = ['2022-05-01T00:00:00.000Z', '2022-05-02T00:00:00.000Z', '2022-05-03T00:00:00.000Z', '2022-05-04T00:00:00.000Z', '2022-05-05T00:00:00.000Z', '2022-05-06T00:00:00.000Z', '2022-05-07T00:00:00.000Z']\n",
    "end = ['2022-05-01T23:59:59.000Z', '2022-05-02T23:59:59.000Z', '2022-05-03T23:59:59.000Z', '2022-05-04T23:59:59.000Z', '2022-05-05T23:59:59.000Z', '2022-05-06T23:59:59.000Z', '2022-05-07T23:59:59.000Z']\n",
    "\n",
    "#choose search option \n",
    "## search last week\n",
    "LogRegSearches.search_twitter_weekly(token, better_keywords, 500, 500)\n",
    "## search custom timeframe\n",
    "LogRegSearches.search_twitter_custom(token, better_keywords, start, end, 500, 500)"
   ]
  },
  {
   "cell_type": "markdown",
   "metadata": {},
   "source": [
    "## Classify tweets"
   ]
  },
  {
   "cell_type": "code",
   "execution_count": 3,
   "metadata": {},
   "outputs": [
    {
     "name": "stdout",
     "output_type": "stream",
     "text": [
      "Total tweets to classify: 12333\n"
     ]
    }
   ],
   "source": [
    "#load all search results into a single dataframe \n",
    "tweets_to_classify = LogRegSearches.tweets_to_classify(path, '2022-05-01_5-05.pkl')"
   ]
  },
  {
   "cell_type": "code",
   "execution_count": 4,
   "metadata": {},
   "outputs": [
    {
     "name": "stdout",
     "output_type": "stream",
     "text": [
      "Total tweets classified: 1225\n"
     ]
    }
   ],
   "source": [
    "#run classification and get links from results\n",
    "predicted_tweets, twitter_link_list = LogRegSearches.predict_twitter(path, 'twitter', tweets_to_classify, 'tweet', 1)"
   ]
  },
  {
   "cell_type": "markdown",
   "metadata": {},
   "source": [
    "## Scrape URLS"
   ]
  },
  {
   "cell_type": "code",
   "execution_count": null,
   "metadata": {},
   "outputs": [],
   "source": [
    "#scrape URL list and return a DF for resource classification\n",
    "scraped_links = LogRegSearches.scrape_links(twitter_link_list, predicted_tweets, 'all_keywords_2022-05-01_5-05_scrapes')"
   ]
  },
  {
   "cell_type": "markdown",
   "metadata": {},
   "source": [
    "## Classify web resources"
   ]
  },
  {
   "cell_type": "code",
   "execution_count": 6,
   "metadata": {},
   "outputs": [
    {
     "data": {
      "text/html": [
       "<div>\n",
       "<style scoped>\n",
       "    .dataframe tbody tr th:only-of-type {\n",
       "        vertical-align: middle;\n",
       "    }\n",
       "\n",
       "    .dataframe tbody tr th {\n",
       "        vertical-align: top;\n",
       "    }\n",
       "\n",
       "    .dataframe thead th {\n",
       "        text-align: right;\n",
       "    }\n",
       "</style>\n",
       "<table border=\"1\" class=\"dataframe\">\n",
       "  <thead>\n",
       "    <tr style=\"text-align: right;\">\n",
       "      <th></th>\n",
       "      <th>tweet</th>\n",
       "      <th>Prediction</th>\n",
       "      <th>Score</th>\n",
       "      <th>Probability</th>\n",
       "      <th>Input Length</th>\n",
       "      <th>URL</th>\n",
       "      <th>Search KW</th>\n",
       "      <th>Title</th>\n",
       "      <th>Description</th>\n",
       "    </tr>\n",
       "  </thead>\n",
       "  <tbody>\n",
       "    <tr>\n",
       "      <th>0</th>\n",
       "      <td>\"The Silent Film Sound and Music Archive (http...</td>\n",
       "      <td>1</td>\n",
       "      <td>4.390663</td>\n",
       "      <td>0.987759</td>\n",
       "      <td>229</td>\n",
       "      <td>http://www.sfsma.org</td>\n",
       "      <td>\"music archive\" -is:retweet</td>\n",
       "      <td>Silent Film Sound &amp; Music Archive – a digital ...</td>\n",
       "      <td>Since 2014, we've been digitizing and sharing...</td>\n",
       "    </tr>\n",
       "    <tr>\n",
       "      <th>1</th>\n",
       "      <td>Listen to the most recent episode of my podcas...</td>\n",
       "      <td>1</td>\n",
       "      <td>3.697857</td>\n",
       "      <td>0.975822</td>\n",
       "      <td>169</td>\n",
       "      <td>https://anchor.fm/educa-web-radio/episodes/Mus...</td>\n",
       "      <td>\"music history\" -is:retweet</td>\n",
       "      <td>Music History com Fulvio Cristofoli - The Mote...</td>\n",
       "      <td>Music History, desenvolvido e apresentado por...</td>\n",
       "    </tr>\n",
       "    <tr>\n",
       "      <th>2</th>\n",
       "      <td>Check out this sheet music video I made of Laz...</td>\n",
       "      <td>1</td>\n",
       "      <td>3.498099</td>\n",
       "      <td>0.970634</td>\n",
       "      <td>127</td>\n",
       "      <td>https://ift.tt/pDMjZQh</td>\n",
       "      <td>\"sheet music\" -is:retweet</td>\n",
       "      <td>Reddit - Alla scoperta di ciò che ti piace</td>\n",
       "      <td>Check out this sheet music video I made of La...</td>\n",
       "    </tr>\n",
       "    <tr>\n",
       "      <th>3</th>\n",
       "      <td>BBF releases the May 2022 edition of FORUM VIE...</td>\n",
       "      <td>1</td>\n",
       "      <td>3.467769</td>\n",
       "      <td>0.969757</td>\n",
       "      <td>65</td>\n",
       "      <td>http://brokersforumofindia.com/magazines.php</td>\n",
       "      <td>\"digital edition\" -is:retweet</td>\n",
       "      <td>http://brokersforumofindia.com/magazines.php</td>\n",
       "      <td>An Award Winning - Monthly Capital Markets and...</td>\n",
       "    </tr>\n",
       "    <tr>\n",
       "      <th>4</th>\n",
       "      <td>Happy birthday !\n",
       "The Beaver, LSE Students' Uni...</td>\n",
       "      <td>1</td>\n",
       "      <td>3.453722</td>\n",
       "      <td>0.969342</td>\n",
       "      <td>293</td>\n",
       "      <td>https://digital.library.lse.ac.uk/browse#beaver</td>\n",
       "      <td>\"digital library\" -is:retweet</td>\n",
       "      <td>Browse | LSE Digital Library</td>\n",
       "      <td>A collection of newspapers, journals, pamphle...</td>\n",
       "    </tr>\n",
       "    <tr>\n",
       "      <th>...</th>\n",
       "      <td>...</td>\n",
       "      <td>...</td>\n",
       "      <td>...</td>\n",
       "      <td>...</td>\n",
       "      <td>...</td>\n",
       "      <td>...</td>\n",
       "      <td>...</td>\n",
       "      <td>...</td>\n",
       "      <td>...</td>\n",
       "    </tr>\n",
       "    <tr>\n",
       "      <th>255</th>\n",
       "      <td>Looking for troubles with Steve\n",
       "Erection Arous...</td>\n",
       "      <td>1</td>\n",
       "      <td>0.033814</td>\n",
       "      <td>0.508453</td>\n",
       "      <td>238</td>\n",
       "      <td>https://gruenholtz.com/product/fine-art-of-aro...</td>\n",
       "      <td>\"digital collection\" -is:retweet</td>\n",
       "      <td>Fine Art Of Arousal - Digital Collection - Gru...</td>\n",
       "      <td>The Fine Art of Erections is the very first p...</td>\n",
       "    </tr>\n",
       "    <tr>\n",
       "      <th>256</th>\n",
       "      <td>A fellow Brit wrote this in the Telegraph 30 ...</td>\n",
       "      <td>1</td>\n",
       "      <td>0.024075</td>\n",
       "      <td>0.506018</td>\n",
       "      <td>476</td>\n",
       "      <td>https://bit.ly/3rZrdqv</td>\n",
       "      <td>\"music history\" -is:retweet</td>\n",
       "      <td>History of music in the American Midwest</td>\n",
       "      <td>The American Midwest has often been sentiment...</td>\n",
       "    </tr>\n",
       "    <tr>\n",
       "      <th>257</th>\n",
       "      <td>Voyager by Hunter Gregory| J.W. Pepper Sheet M...</td>\n",
       "      <td>1</td>\n",
       "      <td>0.021628</td>\n",
       "      <td>0.505407</td>\n",
       "      <td>195</td>\n",
       "      <td>https://www.jwpepper.com/Voyager/11393487.item...</td>\n",
       "      <td>\"sheet music\" -is:retweet</td>\n",
       "      <td>Voyager by Hunter Gregory| J.W. Pepper Sheet M...</td>\n",
       "      <td>The piece uses carefully designed eighth-note...</td>\n",
       "    </tr>\n",
       "    <tr>\n",
       "      <th>258</th>\n",
       "      <td>Current status of ManiRatnam's PonniyinSelvan ...</td>\n",
       "      <td>1</td>\n",
       "      <td>0.017407</td>\n",
       "      <td>0.504352</td>\n",
       "      <td>187</td>\n",
       "      <td>https://m.behindwoods.com/tamil-movies-cinema-...</td>\n",
       "      <td>\"sound recording\" -is:retweet</td>\n",
       "      <td>Mani Ratnam and AR Rahman's Ponniyin Selvan Mo...</td>\n",
       "      <td>Director Mani Ratnam is directing the two-par...</td>\n",
       "    </tr>\n",
       "    <tr>\n",
       "      <th>259</th>\n",
       "      <td>Our libraries will be closed today Monday 2 Ma...</td>\n",
       "      <td>1</td>\n",
       "      <td>0.017394</td>\n",
       "      <td>0.504348</td>\n",
       "      <td>227</td>\n",
       "      <td>https://www.rbkc.gov.uk/libraries-0/read/onlin...</td>\n",
       "      <td>\"digital library\" -is:retweet</td>\n",
       "      <td>Online resources and digital library | Royal B...</td>\n",
       "      <td>Library is a 24/7 service and all you need is...</td>\n",
       "    </tr>\n",
       "  </tbody>\n",
       "</table>\n",
       "<p>260 rows × 9 columns</p>\n",
       "</div>"
      ],
      "text/plain": [
       "                                                 tweet  Prediction     Score  \\\n",
       "0    \"The Silent Film Sound and Music Archive (http...           1  4.390663   \n",
       "1    Listen to the most recent episode of my podcas...           1  3.697857   \n",
       "2    Check out this sheet music video I made of Laz...           1  3.498099   \n",
       "3    BBF releases the May 2022 edition of FORUM VIE...           1  3.467769   \n",
       "4    Happy birthday !\n",
       "The Beaver, LSE Students' Uni...           1  3.453722   \n",
       "..                                                 ...         ...       ...   \n",
       "255  Looking for troubles with Steve\n",
       "Erection Arous...           1  0.033814   \n",
       "256   A fellow Brit wrote this in the Telegraph 30 ...           1  0.024075   \n",
       "257  Voyager by Hunter Gregory| J.W. Pepper Sheet M...           1  0.021628   \n",
       "258  Current status of ManiRatnam's PonniyinSelvan ...           1  0.017407   \n",
       "259  Our libraries will be closed today Monday 2 Ma...           1  0.017394   \n",
       "\n",
       "     Probability  Input Length  \\\n",
       "0       0.987759           229   \n",
       "1       0.975822           169   \n",
       "2       0.970634           127   \n",
       "3       0.969757            65   \n",
       "4       0.969342           293   \n",
       "..           ...           ...   \n",
       "255     0.508453           238   \n",
       "256     0.506018           476   \n",
       "257     0.505407           195   \n",
       "258     0.504352           187   \n",
       "259     0.504348           227   \n",
       "\n",
       "                                                   URL  \\\n",
       "0                                 http://www.sfsma.org   \n",
       "1    https://anchor.fm/educa-web-radio/episodes/Mus...   \n",
       "2                               https://ift.tt/pDMjZQh   \n",
       "3         http://brokersforumofindia.com/magazines.php   \n",
       "4      https://digital.library.lse.ac.uk/browse#beaver   \n",
       "..                                                 ...   \n",
       "255  https://gruenholtz.com/product/fine-art-of-aro...   \n",
       "256                             https://bit.ly/3rZrdqv   \n",
       "257  https://www.jwpepper.com/Voyager/11393487.item...   \n",
       "258  https://m.behindwoods.com/tamil-movies-cinema-...   \n",
       "259  https://www.rbkc.gov.uk/libraries-0/read/onlin...   \n",
       "\n",
       "                            Search KW  \\\n",
       "0         \"music archive\" -is:retweet   \n",
       "1         \"music history\" -is:retweet   \n",
       "2           \"sheet music\" -is:retweet   \n",
       "3       \"digital edition\" -is:retweet   \n",
       "4       \"digital library\" -is:retweet   \n",
       "..                                ...   \n",
       "255  \"digital collection\" -is:retweet   \n",
       "256       \"music history\" -is:retweet   \n",
       "257         \"sheet music\" -is:retweet   \n",
       "258     \"sound recording\" -is:retweet   \n",
       "259     \"digital library\" -is:retweet   \n",
       "\n",
       "                                                 Title  \\\n",
       "0    Silent Film Sound & Music Archive – a digital ...   \n",
       "1    Music History com Fulvio Cristofoli - The Mote...   \n",
       "2           Reddit - Alla scoperta di ciò che ti piace   \n",
       "3         http://brokersforumofindia.com/magazines.php   \n",
       "4                         Browse | LSE Digital Library   \n",
       "..                                                 ...   \n",
       "255  Fine Art Of Arousal - Digital Collection - Gru...   \n",
       "256           History of music in the American Midwest   \n",
       "257  Voyager by Hunter Gregory| J.W. Pepper Sheet M...   \n",
       "258  Mani Ratnam and AR Rahman's Ponniyin Selvan Mo...   \n",
       "259  Online resources and digital library | Royal B...   \n",
       "\n",
       "                                           Description  \n",
       "0     Since 2014, we've been digitizing and sharing...  \n",
       "1     Music History, desenvolvido e apresentado por...  \n",
       "2     Check out this sheet music video I made of La...  \n",
       "3    An Award Winning - Monthly Capital Markets and...  \n",
       "4     A collection of newspapers, journals, pamphle...  \n",
       "..                                                 ...  \n",
       "255   The Fine Art of Erections is the very first p...  \n",
       "256   The American Midwest has often been sentiment...  \n",
       "257   The piece uses carefully designed eighth-note...  \n",
       "258   Director Mani Ratnam is directing the two-par...  \n",
       "259   Library is a 24/7 service and all you need is...  \n",
       "\n",
       "[260 rows x 9 columns]"
      ]
     },
     "execution_count": 6,
     "metadata": {},
     "output_type": "execute_result"
    }
   ],
   "source": [
    "predicted_resources = LogRegSearches.predict_resource(path, 'resources_v2', scraped_links, 'Description', 1, 'all_keywords_2022-05-01_5-05')"
   ]
  }
 ],
 "metadata": {
  "interpreter": {
   "hash": "aee8b7b246df8f9039afb4144a1f6fd8d2ca17a180786b69acc140d282b71a49"
  },
  "kernelspec": {
   "display_name": "Python 3.10.4 64-bit",
   "language": "python",
   "name": "python3"
  },
  "language_info": {
   "codemirror_mode": {
    "name": "ipython",
    "version": 3
   },
   "file_extension": ".py",
   "mimetype": "text/x-python",
   "name": "python",
   "nbconvert_exporter": "python",
   "pygments_lexer": "ipython3",
   "version": "3.10.4"
  }
 },
 "nbformat": 4,
 "nbformat_minor": 4
}
