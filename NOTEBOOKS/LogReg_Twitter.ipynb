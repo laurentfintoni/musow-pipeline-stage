{
 "cells": [
  {
   "cell_type": "code",
   "execution_count": null,
   "metadata": {},
   "outputs": [],
   "source": [
    "twitter_neg = pd.read_pickle(path+'TWITTER_SEARCHES/MJI BIGRAMS (NEGATIVE)/twitter_music_magazine.pkl')\n",
    "twitter_neg_2 = pd.read_pickle(path+'TWITTER_SEARCHES/MJI BIGRAMS (NEGATIVE)/twitter_music_oral_history.pkl')\n",
    "twitter_neg['Target'] = '0'\n",
    "twitter_neg_2['Target'] = '0'\n",
    "twitter_neg = pd.concat([twitter_neg[['tweet', 'Target']], twitter_neg_2[['tweet', 'Target']]])\n",
    "twitter_pos = pd.read_pickle(path+'TWITTER_SEARCHES/MUSOW BIGRAMS (POSITIVE)/twitter_music_archive.pkl')\n",
    "twitter_pos['Target'] = '1'\n",
    "twitter_pos = twitter_pos[['tweet', 'Target']]\n",
    "twitter_pos\n",
    "\n",
    "twitter_set = pd.concat([twitter_pos, twitter_neg])\n",
    "twitter_set['Target'] = twitter_set['Target'].astype('int')\n",
    "twitter_set = twitter_set.reset_index(drop=True)\n",
    "\n",
    "#base set \n",
    "twitter_set_ce = twitter_set.copy()\n",
    "# Specify the columns to encode then fit and transform\n",
    "encoder_base = ce.BackwardDifferenceEncoder(cols=['tweet'])\n",
    "twitter_set_ce = encoder_base.fit_transform(twitter_set_ce, verbose=1)\n",
    "twitter_set_ce.drop(['intercept'], inplace=True, axis=1)"
   ]
  }
 ],
 "metadata": {
  "language_info": {
   "name": "python"
  },
  "orig_nbformat": 4
 },
 "nbformat": 4,
 "nbformat_minor": 2
}
